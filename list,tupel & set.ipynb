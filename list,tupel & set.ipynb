{
 "cells": [
  {
   "cell_type": "code",
   "execution_count": 1,
   "id": "4696e8eb-203c-430e-95e1-b0d9933f9cc1",
   "metadata": {},
   "outputs": [],
   "source": [
    "l = [1,345,45,\"saroj\",True,5+2j,False]"
   ]
  },
  {
   "cell_type": "code",
   "execution_count": 2,
   "id": "b99ca9b6-3433-46f1-8f70-9436be17e135",
   "metadata": {},
   "outputs": [
    {
     "data": {
      "text/plain": [
       "list"
      ]
     },
     "execution_count": 2,
     "metadata": {},
     "output_type": "execute_result"
    }
   ],
   "source": [
    "type(l)"
   ]
  },
  {
   "cell_type": "code",
   "execution_count": 3,
   "id": "65d2d615-2b9e-4562-8f41-e160a6de8a1b",
   "metadata": {},
   "outputs": [
    {
     "data": {
      "text/plain": [
       "1"
      ]
     },
     "execution_count": 3,
     "metadata": {},
     "output_type": "execute_result"
    }
   ],
   "source": [
    "l[0]"
   ]
  },
  {
   "cell_type": "code",
   "execution_count": 4,
   "id": "be5ddda8-4afc-46d9-b436-2ef95877a8b2",
   "metadata": {},
   "outputs": [
    {
     "data": {
      "text/plain": [
       "(5+2j)"
      ]
     },
     "execution_count": 4,
     "metadata": {},
     "output_type": "execute_result"
    }
   ],
   "source": [
    "l[5]"
   ]
  },
  {
   "cell_type": "code",
   "execution_count": 5,
   "id": "a6351120-8428-4b6b-8209-dcb1aeef4c0d",
   "metadata": {},
   "outputs": [
    {
     "ename": "IndexError",
     "evalue": "list index out of range",
     "output_type": "error",
     "traceback": [
      "\u001b[0;31m---------------------------------------------------------------------------\u001b[0m",
      "\u001b[0;31mIndexError\u001b[0m                                Traceback (most recent call last)",
      "Cell \u001b[0;32mIn[5], line 1\u001b[0m\n\u001b[0;32m----> 1\u001b[0m \u001b[43ml\u001b[49m\u001b[43m[\u001b[49m\u001b[38;5;241;43m90\u001b[39;49m\u001b[43m]\u001b[49m\n",
      "\u001b[0;31mIndexError\u001b[0m: list index out of range"
     ]
    }
   ],
   "source": [
    "l[90]"
   ]
  },
  {
   "cell_type": "code",
   "execution_count": 6,
   "id": "bc2c35b8-bad3-45b8-800f-b57e87f492cf",
   "metadata": {},
   "outputs": [
    {
     "data": {
      "text/plain": [
       "[1, 345, 45, 'saroj', True, (5+2j), False]"
      ]
     },
     "execution_count": 6,
     "metadata": {},
     "output_type": "execute_result"
    }
   ],
   "source": [
    "l"
   ]
  },
  {
   "cell_type": "code",
   "execution_count": 8,
   "id": "4a168dd6-cdac-47ef-ae02-4e20a41f5282",
   "metadata": {},
   "outputs": [
    {
     "data": {
      "text/plain": [
       "[1, 345, 45]"
      ]
     },
     "execution_count": 8,
     "metadata": {},
     "output_type": "execute_result"
    }
   ],
   "source": [
    "l[0:3]"
   ]
  },
  {
   "cell_type": "code",
   "execution_count": 9,
   "id": "dccb1caf-5677-4455-900a-86e253c835bf",
   "metadata": {},
   "outputs": [
    {
     "data": {
      "text/plain": [
       "False"
      ]
     },
     "execution_count": 9,
     "metadata": {},
     "output_type": "execute_result"
    }
   ],
   "source": [
    "l[-1]"
   ]
  },
  {
   "cell_type": "code",
   "execution_count": 10,
   "id": "58a57de2-8f97-4fa6-9c0f-d6ac7ec66c88",
   "metadata": {},
   "outputs": [
    {
     "data": {
      "text/plain": [
       "[False, (5+2j), True, 'saroj', 45, 345, 1]"
      ]
     },
     "execution_count": 10,
     "metadata": {},
     "output_type": "execute_result"
    }
   ],
   "source": [
    "l[::-1]"
   ]
  },
  {
   "cell_type": "code",
   "execution_count": 11,
   "id": "f9401057-3840-4d84-bf13-57188f639a51",
   "metadata": {},
   "outputs": [
    {
     "data": {
      "text/plain": [
       "[1, 45, True, False]"
      ]
     },
     "execution_count": 11,
     "metadata": {},
     "output_type": "execute_result"
    }
   ],
   "source": [
    "l[0::2]"
   ]
  },
  {
   "cell_type": "code",
   "execution_count": 12,
   "id": "cb847541-b17b-4c4e-95f2-11400210777e",
   "metadata": {},
   "outputs": [
    {
     "data": {
      "text/plain": [
       "[1, 345, 45, 'saroj', True, (5+2j), False]"
      ]
     },
     "execution_count": 12,
     "metadata": {},
     "output_type": "execute_result"
    }
   ],
   "source": [
    "l"
   ]
  },
  {
   "cell_type": "code",
   "execution_count": 13,
   "id": "c1776b7f-0cd2-4e71-8067-15a77ea722d6",
   "metadata": {},
   "outputs": [],
   "source": [
    "s = \"pwskills\""
   ]
  },
  {
   "cell_type": "code",
   "execution_count": 14,
   "id": "31f52f36-1268-4d69-9b7a-ec33a8912766",
   "metadata": {},
   "outputs": [
    {
     "ename": "TypeError",
     "evalue": "can only concatenate list (not \"str\") to list",
     "output_type": "error",
     "traceback": [
      "\u001b[0;31m---------------------------------------------------------------------------\u001b[0m",
      "\u001b[0;31mTypeError\u001b[0m                                 Traceback (most recent call last)",
      "Cell \u001b[0;32mIn[14], line 1\u001b[0m\n\u001b[0;32m----> 1\u001b[0m \u001b[43ml\u001b[49m\u001b[38;5;241;43m+\u001b[39;49m\u001b[43ms\u001b[49m\n",
      "\u001b[0;31mTypeError\u001b[0m: can only concatenate list (not \"str\") to list"
     ]
    }
   ],
   "source": [
    "l+s"
   ]
  },
  {
   "cell_type": "code",
   "execution_count": 16,
   "id": "a5270fc2-4e33-4a76-ad6b-79460e568f3b",
   "metadata": {},
   "outputs": [
    {
     "data": {
      "text/plain": [
       "['p',\n",
       " 'w',\n",
       " 's',\n",
       " 'k',\n",
       " 'i',\n",
       " 'l',\n",
       " 'l',\n",
       " 's',\n",
       " 1,\n",
       " 345,\n",
       " 45,\n",
       " 'saroj',\n",
       " True,\n",
       " (5+2j),\n",
       " False]"
      ]
     },
     "execution_count": 16,
     "metadata": {},
     "output_type": "execute_result"
    }
   ],
   "source": [
    "list(s) +l"
   ]
  },
  {
   "cell_type": "code",
   "execution_count": 17,
   "id": "1bc30f0f-761e-4517-a8c5-0b468ea0685d",
   "metadata": {},
   "outputs": [
    {
     "data": {
      "text/plain": [
       "[1, 345, 45, 'saroj', True, (5+2j), False]"
      ]
     },
     "execution_count": 17,
     "metadata": {},
     "output_type": "execute_result"
    }
   ],
   "source": [
    "l"
   ]
  },
  {
   "cell_type": "code",
   "execution_count": 19,
   "id": "84e7bdd4-be7d-4c67-aefa-4fcb15576635",
   "metadata": {},
   "outputs": [
    {
     "data": {
      "text/plain": [
       "'sa'"
      ]
     },
     "execution_count": 19,
     "metadata": {},
     "output_type": "execute_result"
    }
   ],
   "source": [
    "l[3][0:2]"
   ]
  },
  {
   "cell_type": "code",
   "execution_count": 20,
   "id": "cc8b0d52-42cf-4c10-86f4-343909dcf6ba",
   "metadata": {},
   "outputs": [
    {
     "data": {
      "text/plain": [
       "True"
      ]
     },
     "execution_count": 20,
     "metadata": {},
     "output_type": "execute_result"
    }
   ],
   "source": [
    "l[4]"
   ]
  },
  {
   "cell_type": "code",
   "execution_count": 22,
   "id": "d9066cb4-43f7-452c-953e-0fb5b5de068f",
   "metadata": {},
   "outputs": [
    {
     "data": {
      "text/plain": [
       "'Tr'"
      ]
     },
     "execution_count": 22,
     "metadata": {},
     "output_type": "execute_result"
    }
   ],
   "source": [
    "str(l[4])[0:2]"
   ]
  },
  {
   "cell_type": "code",
   "execution_count": 23,
   "id": "48cb01ce-5875-4d10-84b7-c8a763078a83",
   "metadata": {},
   "outputs": [
    {
     "data": {
      "text/plain": [
       "[1, 345, 45, 'saroj', True, (5+2j), False]"
      ]
     },
     "execution_count": 23,
     "metadata": {},
     "output_type": "execute_result"
    }
   ],
   "source": [
    "l"
   ]
  },
  {
   "cell_type": "code",
   "execution_count": 24,
   "id": "182390f9-f0ba-486a-9a7a-6f06af28bf5d",
   "metadata": {},
   "outputs": [
    {
     "ename": "TypeError",
     "evalue": "can only concatenate list (not \"int\") to list",
     "output_type": "error",
     "traceback": [
      "\u001b[0;31m---------------------------------------------------------------------------\u001b[0m",
      "\u001b[0;31mTypeError\u001b[0m                                 Traceback (most recent call last)",
      "Cell \u001b[0;32mIn[24], line 1\u001b[0m\n\u001b[0;32m----> 1\u001b[0m \u001b[43ml\u001b[49m\u001b[38;5;241;43m+\u001b[39;49m\u001b[38;5;241;43m5\u001b[39;49m\n",
      "\u001b[0;31mTypeError\u001b[0m: can only concatenate list (not \"int\") to list"
     ]
    }
   ],
   "source": [
    "l+5"
   ]
  },
  {
   "cell_type": "code",
   "execution_count": 25,
   "id": "83135ade-26d2-4fbd-b73c-e06e6a06e326",
   "metadata": {},
   "outputs": [],
   "source": [
    "l1 = [3,4,5]"
   ]
  },
  {
   "cell_type": "code",
   "execution_count": 26,
   "id": "2677700e-f730-4564-a82f-953e272e8938",
   "metadata": {},
   "outputs": [
    {
     "data": {
      "text/plain": [
       "[1, 345, 45, 'saroj', True, (5+2j), False, 3, 4, 5]"
      ]
     },
     "execution_count": 26,
     "metadata": {},
     "output_type": "execute_result"
    }
   ],
   "source": [
    "l+l1"
   ]
  },
  {
   "cell_type": "code",
   "execution_count": 27,
   "id": "96b33e26-7b20-46d2-8ac3-827870e7c903",
   "metadata": {},
   "outputs": [
    {
     "data": {
      "text/plain": [
       "[3, 4, 5]"
      ]
     },
     "execution_count": 27,
     "metadata": {},
     "output_type": "execute_result"
    }
   ],
   "source": [
    "l1"
   ]
  },
  {
   "cell_type": "code",
   "execution_count": 28,
   "id": "e5985ece-c04c-420d-82d4-c21b2af3badd",
   "metadata": {},
   "outputs": [
    {
     "data": {
      "text/plain": [
       "[3, 4, 5, 3, 4, 5, 3, 4, 5]"
      ]
     },
     "execution_count": 28,
     "metadata": {},
     "output_type": "execute_result"
    }
   ],
   "source": [
    "l1*3"
   ]
  },
  {
   "cell_type": "code",
   "execution_count": 29,
   "id": "7c0b1fd7-0a6b-4c8f-a4a6-80bf6b8f7041",
   "metadata": {},
   "outputs": [
    {
     "data": {
      "text/plain": [
       "[1, 345, 45, 'saroj', True, (5+2j), False]"
      ]
     },
     "execution_count": 29,
     "metadata": {},
     "output_type": "execute_result"
    }
   ],
   "source": [
    "l"
   ]
  },
  {
   "cell_type": "code",
   "execution_count": 30,
   "id": "c5096ed0-d034-4489-a8ae-045947f84d33",
   "metadata": {},
   "outputs": [
    {
     "data": {
      "text/plain": [
       "7"
      ]
     },
     "execution_count": 30,
     "metadata": {},
     "output_type": "execute_result"
    }
   ],
   "source": [
    "len(l)"
   ]
  },
  {
   "cell_type": "code",
   "execution_count": 31,
   "id": "617e9b5e-2b4d-4316-b484-193170767192",
   "metadata": {},
   "outputs": [
    {
     "data": {
      "text/plain": [
       "[1, 345, 45, 'saroj', True, (5+2j), False]"
      ]
     },
     "execution_count": 31,
     "metadata": {},
     "output_type": "execute_result"
    }
   ],
   "source": [
    "l"
   ]
  },
  {
   "cell_type": "code",
   "execution_count": 35,
   "id": "5c0fecd1-8946-4aba-bea5-8ab846c543ed",
   "metadata": {},
   "outputs": [],
   "source": [
    "l.append(5)"
   ]
  },
  {
   "cell_type": "code",
   "execution_count": 36,
   "id": "62e02781-f936-4948-90ad-e01e18895d54",
   "metadata": {},
   "outputs": [
    {
     "data": {
      "text/plain": [
       "[1, 345, 45, 'saroj', True, (5+2j), False, 5, 5, 5]"
      ]
     },
     "execution_count": 36,
     "metadata": {},
     "output_type": "execute_result"
    }
   ],
   "source": [
    "l"
   ]
  },
  {
   "cell_type": "code",
   "execution_count": 37,
   "id": "055a7c70-3e73-41ab-bf92-461755b0f41c",
   "metadata": {},
   "outputs": [],
   "source": [
    "l.append(s)"
   ]
  },
  {
   "cell_type": "code",
   "execution_count": 38,
   "id": "a595bb94-12e8-4c12-8ea9-39a073e2c7d3",
   "metadata": {},
   "outputs": [
    {
     "data": {
      "text/plain": [
       "[1, 345, 45, 'saroj', True, (5+2j), False, 5, 5, 5, 'pwskills']"
      ]
     },
     "execution_count": 38,
     "metadata": {},
     "output_type": "execute_result"
    }
   ],
   "source": [
    "l"
   ]
  },
  {
   "cell_type": "code",
   "execution_count": 39,
   "id": "ba88ddab-400c-471d-a4ab-55a57cbd6130",
   "metadata": {},
   "outputs": [
    {
     "data": {
      "text/plain": [
       "[3, 4, 5]"
      ]
     },
     "execution_count": 39,
     "metadata": {},
     "output_type": "execute_result"
    }
   ],
   "source": [
    "l1"
   ]
  },
  {
   "cell_type": "code",
   "execution_count": 40,
   "id": "22a58553-2287-4ff5-9036-6d5ea25e795e",
   "metadata": {},
   "outputs": [],
   "source": [
    "l.append(l1)"
   ]
  },
  {
   "cell_type": "code",
   "execution_count": 41,
   "id": "0e89f96b-0dda-4e88-b99b-db86d752f771",
   "metadata": {},
   "outputs": [
    {
     "data": {
      "text/plain": [
       "[1, 345, 45, 'saroj', True, (5+2j), False, 5, 5, 5, 'pwskills', [3, 4, 5]]"
      ]
     },
     "execution_count": 41,
     "metadata": {},
     "output_type": "execute_result"
    }
   ],
   "source": [
    "l"
   ]
  },
  {
   "cell_type": "code",
   "execution_count": 43,
   "id": "539b9799-b359-4216-9f24-e802eb4c2531",
   "metadata": {},
   "outputs": [
    {
     "data": {
      "text/plain": [
       "4"
      ]
     },
     "execution_count": 43,
     "metadata": {},
     "output_type": "execute_result"
    }
   ],
   "source": [
    "l[-1][1]"
   ]
  },
  {
   "cell_type": "code",
   "execution_count": 44,
   "id": "0d81960d-f5e7-4512-a0e4-2b42d4697884",
   "metadata": {},
   "outputs": [
    {
     "data": {
      "text/plain": [
       "[1, 345, 45, 'saroj', True, (5+2j), False, 5, 5, 5, 'pwskills', [3, 4, 5]]"
      ]
     },
     "execution_count": 44,
     "metadata": {},
     "output_type": "execute_result"
    }
   ],
   "source": [
    "l"
   ]
  },
  {
   "cell_type": "code",
   "execution_count": 45,
   "id": "d34eb3cb-6a0d-49f5-9eb4-98cfff6c7cdf",
   "metadata": {},
   "outputs": [
    {
     "ename": "TypeError",
     "evalue": "'int' object is not iterable",
     "output_type": "error",
     "traceback": [
      "\u001b[0;31m---------------------------------------------------------------------------\u001b[0m",
      "\u001b[0;31mTypeError\u001b[0m                                 Traceback (most recent call last)",
      "Cell \u001b[0;32mIn[45], line 1\u001b[0m\n\u001b[0;32m----> 1\u001b[0m \u001b[43ml\u001b[49m\u001b[38;5;241;43m.\u001b[39;49m\u001b[43mextend\u001b[49m\u001b[43m(\u001b[49m\u001b[38;5;241;43m4\u001b[39;49m\u001b[43m)\u001b[49m\n",
      "\u001b[0;31mTypeError\u001b[0m: 'int' object is not iterable"
     ]
    }
   ],
   "source": [
    "l.extend(4)"
   ]
  },
  {
   "cell_type": "code",
   "execution_count": 46,
   "id": "747b2c0b-ed62-479e-9773-96dae1dd71f2",
   "metadata": {},
   "outputs": [],
   "source": [
    "l.extend(\"fuchu\")"
   ]
  },
  {
   "cell_type": "code",
   "execution_count": 47,
   "id": "829034b6-0f19-4371-9e7f-d7fe60528eec",
   "metadata": {},
   "outputs": [
    {
     "data": {
      "text/plain": [
       "[1,\n",
       " 345,\n",
       " 45,\n",
       " 'saroj',\n",
       " True,\n",
       " (5+2j),\n",
       " False,\n",
       " 5,\n",
       " 5,\n",
       " 5,\n",
       " 'pwskills',\n",
       " [3, 4, 5],\n",
       " 'f',\n",
       " 'u',\n",
       " 'c',\n",
       " 'h',\n",
       " 'u']"
      ]
     },
     "execution_count": 47,
     "metadata": {},
     "output_type": "execute_result"
    }
   ],
   "source": [
    "l"
   ]
  },
  {
   "cell_type": "code",
   "execution_count": 48,
   "id": "0ef05c92-f02d-4adf-b61c-f2393c332570",
   "metadata": {},
   "outputs": [],
   "source": [
    "l.extend([3,4,5])"
   ]
  },
  {
   "cell_type": "code",
   "execution_count": 49,
   "id": "81f10fca-41e4-4f02-bc12-10e70f10baae",
   "metadata": {},
   "outputs": [
    {
     "data": {
      "text/plain": [
       "[1,\n",
       " 345,\n",
       " 45,\n",
       " 'saroj',\n",
       " True,\n",
       " (5+2j),\n",
       " False,\n",
       " 5,\n",
       " 5,\n",
       " 5,\n",
       " 'pwskills',\n",
       " [3, 4, 5],\n",
       " 'f',\n",
       " 'u',\n",
       " 'c',\n",
       " 'h',\n",
       " 'u',\n",
       " 3,\n",
       " 4,\n",
       " 5]"
      ]
     },
     "execution_count": 49,
     "metadata": {},
     "output_type": "execute_result"
    }
   ],
   "source": [
    "l"
   ]
  },
  {
   "cell_type": "code",
   "execution_count": 50,
   "id": "b1beaaf3-0d3a-46c9-a19b-4e4026f22abd",
   "metadata": {},
   "outputs": [
    {
     "data": {
      "text/plain": [
       "[3, 4, 5]"
      ]
     },
     "execution_count": 50,
     "metadata": {},
     "output_type": "execute_result"
    }
   ],
   "source": [
    "l1"
   ]
  },
  {
   "cell_type": "code",
   "execution_count": 51,
   "id": "2c734e20-65e2-4064-9a82-cb457533f099",
   "metadata": {},
   "outputs": [],
   "source": [
    "l1.insert(1,\"saroj\")"
   ]
  },
  {
   "cell_type": "code",
   "execution_count": 52,
   "id": "41e1af8d-5fe6-475e-a4ad-09577b994c82",
   "metadata": {},
   "outputs": [
    {
     "data": {
      "text/plain": [
       "[3, 'saroj', 4, 5]"
      ]
     },
     "execution_count": 52,
     "metadata": {},
     "output_type": "execute_result"
    }
   ],
   "source": [
    "l1"
   ]
  },
  {
   "cell_type": "code",
   "execution_count": 55,
   "id": "0400f2cf-e2b3-412d-8df8-2726c457088c",
   "metadata": {},
   "outputs": [],
   "source": [
    "l1.insert(2,[2,3,4])"
   ]
  },
  {
   "cell_type": "code",
   "execution_count": 57,
   "id": "93566c51-8574-4c10-b505-daf2e944554f",
   "metadata": {},
   "outputs": [
    {
     "data": {
      "text/plain": [
       "[3, 'saroj', [2, 3, 4], [2, 3, 4], 4, 5]"
      ]
     },
     "execution_count": 57,
     "metadata": {},
     "output_type": "execute_result"
    }
   ],
   "source": [
    "l1"
   ]
  },
  {
   "cell_type": "code",
   "execution_count": 58,
   "id": "8362fb9f-f6c5-47fd-b700-ed39e587d120",
   "metadata": {},
   "outputs": [],
   "source": [
    "l1.insert(-1,45)"
   ]
  },
  {
   "cell_type": "code",
   "execution_count": 59,
   "id": "16ff0805-82da-4312-9531-4e8df4cddcb8",
   "metadata": {},
   "outputs": [
    {
     "data": {
      "text/plain": [
       "[3, 'saroj', [2, 3, 4], [2, 3, 4], 4, 45, 5]"
      ]
     },
     "execution_count": 59,
     "metadata": {},
     "output_type": "execute_result"
    }
   ],
   "source": [
    "l1"
   ]
  },
  {
   "cell_type": "code",
   "execution_count": 60,
   "id": "1844c0e5-be04-4fe2-bc08-2556d6bc1057",
   "metadata": {},
   "outputs": [],
   "source": [
    "l1.insert(0,45)"
   ]
  },
  {
   "cell_type": "code",
   "execution_count": 61,
   "id": "bc086a6b-82cb-4d76-8636-e4b10e595add",
   "metadata": {},
   "outputs": [
    {
     "data": {
      "text/plain": [
       "[45, 3, 'saroj', [2, 3, 4], [2, 3, 4], 4, 45, 5]"
      ]
     },
     "execution_count": 61,
     "metadata": {},
     "output_type": "execute_result"
    }
   ],
   "source": [
    "l1"
   ]
  },
  {
   "cell_type": "code",
   "execution_count": 62,
   "id": "4bdf8cfb-dd1f-40d5-a27f-e12f94f0ee93",
   "metadata": {},
   "outputs": [
    {
     "data": {
      "text/plain": [
       "5"
      ]
     },
     "execution_count": 62,
     "metadata": {},
     "output_type": "execute_result"
    }
   ],
   "source": [
    "l1.pop()"
   ]
  },
  {
   "cell_type": "code",
   "execution_count": 63,
   "id": "44b27eb6-5b6e-465b-a634-5e5e7a62ad93",
   "metadata": {},
   "outputs": [
    {
     "data": {
      "text/plain": [
       "[45, 3, 'saroj', [2, 3, 4], [2, 3, 4], 4, 45]"
      ]
     },
     "execution_count": 63,
     "metadata": {},
     "output_type": "execute_result"
    }
   ],
   "source": [
    "l1"
   ]
  },
  {
   "cell_type": "code",
   "execution_count": 64,
   "id": "adabf113-dcec-43e6-a0ef-ef880e5e705e",
   "metadata": {},
   "outputs": [
    {
     "data": {
      "text/plain": [
       "45"
      ]
     },
     "execution_count": 64,
     "metadata": {},
     "output_type": "execute_result"
    }
   ],
   "source": [
    "l1.pop()"
   ]
  },
  {
   "cell_type": "code",
   "execution_count": 65,
   "id": "e93e63cb-9009-406f-9bce-bb38a96d5b9e",
   "metadata": {},
   "outputs": [
    {
     "data": {
      "text/plain": [
       "[45, 3, 'saroj', [2, 3, 4], [2, 3, 4], 4]"
      ]
     },
     "execution_count": 65,
     "metadata": {},
     "output_type": "execute_result"
    }
   ],
   "source": [
    "l1"
   ]
  },
  {
   "cell_type": "code",
   "execution_count": 67,
   "id": "13e15f60-5402-4fbf-a376-0204dbf127b7",
   "metadata": {},
   "outputs": [
    {
     "data": {
      "text/plain": [
       "[2, 3, 4]"
      ]
     },
     "execution_count": 67,
     "metadata": {},
     "output_type": "execute_result"
    }
   ],
   "source": [
    "l1.pop(3)"
   ]
  },
  {
   "cell_type": "code",
   "execution_count": 68,
   "id": "ebd59c94-648a-450e-b48e-0bf5d49dad76",
   "metadata": {},
   "outputs": [
    {
     "data": {
      "text/plain": [
       "[45, 3, [2, 3, 4], 4]"
      ]
     },
     "execution_count": 68,
     "metadata": {},
     "output_type": "execute_result"
    }
   ],
   "source": [
    "l1"
   ]
  },
  {
   "cell_type": "code",
   "execution_count": 69,
   "id": "cd1f5504-4d3f-4a08-99c3-2b0cd965e0da",
   "metadata": {},
   "outputs": [],
   "source": [
    "l1.insert(2,\"saroj\")"
   ]
  },
  {
   "cell_type": "code",
   "execution_count": 70,
   "id": "98e36df2-5379-4961-b3f5-e62634789b82",
   "metadata": {},
   "outputs": [
    {
     "data": {
      "text/plain": [
       "[45, 3, 'saroj', [2, 3, 4], 4]"
      ]
     },
     "execution_count": 70,
     "metadata": {},
     "output_type": "execute_result"
    }
   ],
   "source": [
    "l1"
   ]
  },
  {
   "cell_type": "code",
   "execution_count": 71,
   "id": "962bdee6-f2de-4f3a-9609-b6fcaa23de40",
   "metadata": {},
   "outputs": [],
   "source": [
    "l1.remove(3)"
   ]
  },
  {
   "cell_type": "code",
   "execution_count": 72,
   "id": "b0575567-6984-4868-bf28-039ad494a011",
   "metadata": {},
   "outputs": [
    {
     "data": {
      "text/plain": [
       "[45, 'saroj', [2, 3, 4], 4]"
      ]
     },
     "execution_count": 72,
     "metadata": {},
     "output_type": "execute_result"
    }
   ],
   "source": [
    "l1"
   ]
  },
  {
   "cell_type": "code",
   "execution_count": 73,
   "id": "abefd09c-8466-4520-88e9-95927687ce6b",
   "metadata": {},
   "outputs": [
    {
     "ename": "ValueError",
     "evalue": "list.remove(x): x not in list",
     "output_type": "error",
     "traceback": [
      "\u001b[0;31m---------------------------------------------------------------------------\u001b[0m",
      "\u001b[0;31mValueError\u001b[0m                                Traceback (most recent call last)",
      "Cell \u001b[0;32mIn[73], line 1\u001b[0m\n\u001b[0;32m----> 1\u001b[0m \u001b[43ml1\u001b[49m\u001b[38;5;241;43m.\u001b[39;49m\u001b[43mremove\u001b[49m\u001b[43m(\u001b[49m\u001b[38;5;241;43m234\u001b[39;49m\u001b[43m)\u001b[49m\n",
      "\u001b[0;31mValueError\u001b[0m: list.remove(x): x not in list"
     ]
    }
   ],
   "source": [
    "l1.remove(234)"
   ]
  },
  {
   "cell_type": "code",
   "execution_count": 75,
   "id": "fbb6cef9-f13f-4d6a-a497-d910f1496d81",
   "metadata": {},
   "outputs": [],
   "source": [
    "l1[2].remove(3)"
   ]
  },
  {
   "cell_type": "code",
   "execution_count": 76,
   "id": "bca812d1-a11d-421c-bc95-be81d808d891",
   "metadata": {},
   "outputs": [
    {
     "data": {
      "text/plain": [
       "[45, 'saroj', [2, 4], 4]"
      ]
     },
     "execution_count": 76,
     "metadata": {},
     "output_type": "execute_result"
    }
   ],
   "source": [
    "l1"
   ]
  },
  {
   "cell_type": "code",
   "execution_count": 78,
   "id": "06ea1bbc-4c9d-4a82-abc4-c04fbfaf6ddb",
   "metadata": {},
   "outputs": [],
   "source": [
    "l1.append(4)"
   ]
  },
  {
   "cell_type": "code",
   "execution_count": 79,
   "id": "8b72dfa9-3296-4be5-b687-067649228743",
   "metadata": {},
   "outputs": [
    {
     "data": {
      "text/plain": [
       "[45, 'saroj', [2, 4], 4, 4]"
      ]
     },
     "execution_count": 79,
     "metadata": {},
     "output_type": "execute_result"
    }
   ],
   "source": [
    "l1"
   ]
  },
  {
   "cell_type": "code",
   "execution_count": 80,
   "id": "a8364935-9dd4-4194-b860-6d82591d7c0a",
   "metadata": {},
   "outputs": [],
   "source": [
    "l1.remove(4)"
   ]
  },
  {
   "cell_type": "code",
   "execution_count": 81,
   "id": "d7929e79-9d8e-448c-b1f7-794ed1d0fad4",
   "metadata": {},
   "outputs": [
    {
     "data": {
      "text/plain": [
       "[45, 'saroj', [2, 4], 4]"
      ]
     },
     "execution_count": 81,
     "metadata": {},
     "output_type": "execute_result"
    }
   ],
   "source": [
    "l1"
   ]
  },
  {
   "cell_type": "code",
   "execution_count": 82,
   "id": "57c05bb0-b7ae-41df-92d9-4aff0ce4396e",
   "metadata": {},
   "outputs": [],
   "source": [
    "l1.reverse()"
   ]
  },
  {
   "cell_type": "code",
   "execution_count": 83,
   "id": "dce8847c-0c1e-4581-a658-731d3c62867e",
   "metadata": {},
   "outputs": [
    {
     "data": {
      "text/plain": [
       "[4, [2, 4], 'saroj', 45]"
      ]
     },
     "execution_count": 83,
     "metadata": {},
     "output_type": "execute_result"
    }
   ],
   "source": [
    "l1"
   ]
  },
  {
   "cell_type": "code",
   "execution_count": 87,
   "id": "aa00033e-f033-4582-a742-cf45dc6b3e1e",
   "metadata": {},
   "outputs": [],
   "source": [
    "l1 = l1[::-1]"
   ]
  },
  {
   "cell_type": "code",
   "execution_count": 88,
   "id": "f3858d54-1012-480d-b8af-3b48eefd109b",
   "metadata": {},
   "outputs": [
    {
     "data": {
      "text/plain": [
       "[4, [2, 4], 'saroj', 45]"
      ]
     },
     "execution_count": 88,
     "metadata": {},
     "output_type": "execute_result"
    }
   ],
   "source": [
    "l1"
   ]
  },
  {
   "cell_type": "code",
   "execution_count": 89,
   "id": "42bcade0-9781-4969-a4e9-1274ada12d22",
   "metadata": {},
   "outputs": [],
   "source": [
    "l1.reverse()"
   ]
  },
  {
   "cell_type": "code",
   "execution_count": 90,
   "id": "48b6e661-07f4-4024-8ac8-8ff59b374406",
   "metadata": {},
   "outputs": [
    {
     "data": {
      "text/plain": [
       "[45, 'saroj', [2, 4], 4]"
      ]
     },
     "execution_count": 90,
     "metadata": {},
     "output_type": "execute_result"
    }
   ],
   "source": [
    "l1"
   ]
  },
  {
   "cell_type": "code",
   "execution_count": 91,
   "id": "ce2eecbb-63a2-460a-bba5-d9dec373bcae",
   "metadata": {},
   "outputs": [
    {
     "ename": "TypeError",
     "evalue": "'<' not supported between instances of 'str' and 'int'",
     "output_type": "error",
     "traceback": [
      "\u001b[0;31m---------------------------------------------------------------------------\u001b[0m",
      "\u001b[0;31mTypeError\u001b[0m                                 Traceback (most recent call last)",
      "Cell \u001b[0;32mIn[91], line 1\u001b[0m\n\u001b[0;32m----> 1\u001b[0m \u001b[43ml1\u001b[49m\u001b[38;5;241;43m.\u001b[39;49m\u001b[43msort\u001b[49m\u001b[43m(\u001b[49m\u001b[43m)\u001b[49m\n",
      "\u001b[0;31mTypeError\u001b[0m: '<' not supported between instances of 'str' and 'int'"
     ]
    }
   ],
   "source": [
    "l1.sort()"
   ]
  },
  {
   "cell_type": "code",
   "execution_count": 99,
   "id": "ee5a8792-fa8c-4228-8582-bfeab07e592c",
   "metadata": {},
   "outputs": [],
   "source": [
    "l2 = [45, 90, 0,3,4,5,6,7,8,9]"
   ]
  },
  {
   "cell_type": "code",
   "execution_count": 101,
   "id": "e770fcdb-7aed-468d-93e0-87712f7fad2c",
   "metadata": {},
   "outputs": [],
   "source": [
    "l2.sort()"
   ]
  },
  {
   "cell_type": "code",
   "execution_count": 102,
   "id": "c16485ff-6b37-4aae-9b9e-838a44e62b30",
   "metadata": {},
   "outputs": [
    {
     "data": {
      "text/plain": [
       "[0, 3, 4, 5, 6, 7, 8, 9, 45, 90]"
      ]
     },
     "execution_count": 102,
     "metadata": {},
     "output_type": "execute_result"
    }
   ],
   "source": [
    "l2"
   ]
  },
  {
   "cell_type": "code",
   "execution_count": 103,
   "id": "b18e0f3d-cb31-404c-a594-06c58046828a",
   "metadata": {},
   "outputs": [
    {
     "data": {
      "text/plain": [
       "[0, 3, 4, 5, 6, 7, 8, 9, 45, 90]"
      ]
     },
     "execution_count": 103,
     "metadata": {},
     "output_type": "execute_result"
    }
   ],
   "source": [
    "l2"
   ]
  },
  {
   "cell_type": "code",
   "execution_count": 104,
   "id": "f29a7b4e-33a1-4840-bb80-ea20ae7cdc7f",
   "metadata": {},
   "outputs": [],
   "source": [
    "l3= [34,\"saroj\",45,12,\"ghosh\"]"
   ]
  },
  {
   "cell_type": "code",
   "execution_count": 105,
   "id": "c2cc7158-25d4-47af-bf02-3efcc98a8453",
   "metadata": {},
   "outputs": [
    {
     "ename": "TypeError",
     "evalue": "'<' not supported between instances of 'str' and 'int'",
     "output_type": "error",
     "traceback": [
      "\u001b[0;31m---------------------------------------------------------------------------\u001b[0m",
      "\u001b[0;31mTypeError\u001b[0m                                 Traceback (most recent call last)",
      "Cell \u001b[0;32mIn[105], line 1\u001b[0m\n\u001b[0;32m----> 1\u001b[0m \u001b[43ml3\u001b[49m\u001b[38;5;241;43m.\u001b[39;49m\u001b[43msort\u001b[49m\u001b[43m(\u001b[49m\u001b[43m)\u001b[49m\n",
      "\u001b[0;31mTypeError\u001b[0m: '<' not supported between instances of 'str' and 'int'"
     ]
    }
   ],
   "source": [
    "l3.sort()"
   ]
  },
  {
   "cell_type": "code",
   "execution_count": 106,
   "id": "07b920b1-92b2-46f5-87e1-ddd5a9f31eab",
   "metadata": {},
   "outputs": [],
   "source": [
    "l4 = [\"saroj\",\"ghosh\",\"pwskills\",\"data science\"]"
   ]
  },
  {
   "cell_type": "code",
   "execution_count": 109,
   "id": "d3442955-4b5b-4b92-83df-45a78fd6f609",
   "metadata": {},
   "outputs": [],
   "source": [
    "l4.sort(reverse=True)"
   ]
  },
  {
   "cell_type": "code",
   "execution_count": 110,
   "id": "8adad2b8-3f77-47c7-bbfe-742a11a07ed2",
   "metadata": {},
   "outputs": [
    {
     "data": {
      "text/plain": [
       "['saroj', 'pwskills', 'ghosh', 'data science']"
      ]
     },
     "execution_count": 110,
     "metadata": {},
     "output_type": "execute_result"
    }
   ],
   "source": [
    "l4"
   ]
  },
  {
   "cell_type": "code",
   "execution_count": 111,
   "id": "573c4e0a-e705-48ae-a1ed-9417ce44333a",
   "metadata": {},
   "outputs": [
    {
     "data": {
      "text/plain": [
       "['saroj', 'pwskills', 'ghosh', 'data science']"
      ]
     },
     "execution_count": 111,
     "metadata": {},
     "output_type": "execute_result"
    }
   ],
   "source": [
    "l4"
   ]
  },
  {
   "cell_type": "code",
   "execution_count": 112,
   "id": "cb46f270-d1b3-419e-b61b-b62375fbe5e9",
   "metadata": {},
   "outputs": [
    {
     "data": {
      "text/plain": [
       "0"
      ]
     },
     "execution_count": 112,
     "metadata": {},
     "output_type": "execute_result"
    }
   ],
   "source": [
    "l4.index(\"saroj\")"
   ]
  },
  {
   "cell_type": "code",
   "execution_count": 113,
   "id": "70dfb5c8-d5ef-4181-b06a-dee9be3473ff",
   "metadata": {},
   "outputs": [
    {
     "data": {
      "text/plain": [
       "1"
      ]
     },
     "execution_count": 113,
     "metadata": {},
     "output_type": "execute_result"
    }
   ],
   "source": [
    "l4.count(\"saroj\")"
   ]
  },
  {
   "cell_type": "code",
   "execution_count": 114,
   "id": "3a7a0eae-4f4e-4f01-9528-194a6c53687d",
   "metadata": {},
   "outputs": [],
   "source": [
    "s=\"saroj\""
   ]
  },
  {
   "cell_type": "code",
   "execution_count": 115,
   "id": "643f916e-4831-4415-a0b6-40701c9f712a",
   "metadata": {},
   "outputs": [],
   "source": [
    "l5=[3,4,5,6]"
   ]
  },
  {
   "cell_type": "code",
   "execution_count": 117,
   "id": "29d226bd-8a1b-483b-ad89-313126b58131",
   "metadata": {},
   "outputs": [
    {
     "ename": "TypeError",
     "evalue": "'str' object does not support item assignment",
     "output_type": "error",
     "traceback": [
      "\u001b[0;31m---------------------------------------------------------------------------\u001b[0m",
      "\u001b[0;31mTypeError\u001b[0m                                 Traceback (most recent call last)",
      "Cell \u001b[0;32mIn[117], line 1\u001b[0m\n\u001b[0;32m----> 1\u001b[0m \u001b[43ms\u001b[49m\u001b[43m[\u001b[49m\u001b[38;5;241;43m0\u001b[39;49m\u001b[43m]\u001b[49m \u001b[38;5;241m=\u001b[39m \u001b[38;5;124m'\u001b[39m\u001b[38;5;124mg\u001b[39m\u001b[38;5;124m'\u001b[39m\n",
      "\u001b[0;31mTypeError\u001b[0m: 'str' object does not support item assignment"
     ]
    }
   ],
   "source": [
    "s[0] = 'g'"
   ]
  },
  {
   "cell_type": "code",
   "execution_count": 119,
   "id": "9d42aa33-327e-48e5-93d1-90dc8f0f094d",
   "metadata": {},
   "outputs": [],
   "source": [
    "l5[0] = 30"
   ]
  },
  {
   "cell_type": "code",
   "execution_count": 120,
   "id": "e7a2b505-2bd5-47a1-8ce0-19d18a8c1904",
   "metadata": {},
   "outputs": [
    {
     "data": {
      "text/plain": [
       "[30, 4, 5, 6]"
      ]
     },
     "execution_count": 120,
     "metadata": {},
     "output_type": "execute_result"
    }
   ],
   "source": [
    "l5"
   ]
  },
  {
   "cell_type": "code",
   "execution_count": 121,
   "id": "b736fec9-87d9-4158-9f6a-243aa71bfd25",
   "metadata": {},
   "outputs": [
    {
     "data": {
      "text/plain": [
       "'garoj'"
      ]
     },
     "execution_count": 121,
     "metadata": {},
     "output_type": "execute_result"
    }
   ],
   "source": [
    "s.replace('s','g')"
   ]
  },
  {
   "cell_type": "code",
   "execution_count": 122,
   "id": "f92e2f64-e11f-488a-b3e2-9154f6ba3a42",
   "metadata": {},
   "outputs": [
    {
     "data": {
      "text/plain": [
       "'saroj'"
      ]
     },
     "execution_count": 122,
     "metadata": {},
     "output_type": "execute_result"
    }
   ],
   "source": [
    "s"
   ]
  },
  {
   "cell_type": "code",
   "execution_count": 3,
   "id": "4e952d2c-f6aa-4985-820a-ae59f0b1562e",
   "metadata": {},
   "outputs": [],
   "source": [
    "t = (2,3,4,5,\"saroj\",52.25,False,45+65j,[3,4,5])"
   ]
  },
  {
   "cell_type": "code",
   "execution_count": 128,
   "id": "8c581b28-5544-4800-840d-183858290672",
   "metadata": {},
   "outputs": [
    {
     "data": {
      "text/plain": [
       "(2, 3, 4, 5, 'saroj', 52.25, False, (45+65j), [3, 4, 5])"
      ]
     },
     "execution_count": 128,
     "metadata": {},
     "output_type": "execute_result"
    }
   ],
   "source": [
    "t"
   ]
  },
  {
   "cell_type": "code",
   "execution_count": 129,
   "id": "9e9e726e-893e-4170-92c8-63832d0c860b",
   "metadata": {},
   "outputs": [
    {
     "data": {
      "text/plain": [
       "tuple"
      ]
     },
     "execution_count": 129,
     "metadata": {},
     "output_type": "execute_result"
    }
   ],
   "source": [
    "type(t)"
   ]
  },
  {
   "cell_type": "code",
   "execution_count": 130,
   "id": "3eca669c-d6aa-4924-9229-04971e99b0e5",
   "metadata": {},
   "outputs": [
    {
     "data": {
      "text/plain": [
       "9"
      ]
     },
     "execution_count": 130,
     "metadata": {},
     "output_type": "execute_result"
    }
   ],
   "source": [
    "len(t)"
   ]
  },
  {
   "cell_type": "code",
   "execution_count": 131,
   "id": "d451092c-993f-41e8-be50-5fe2e0b5f6d5",
   "metadata": {},
   "outputs": [
    {
     "data": {
      "text/plain": [
       "2"
      ]
     },
     "execution_count": 131,
     "metadata": {},
     "output_type": "execute_result"
    }
   ],
   "source": [
    "t[0]"
   ]
  },
  {
   "cell_type": "code",
   "execution_count": 133,
   "id": "b150ba8d-dbbc-460a-ae21-42803f87fcef",
   "metadata": {},
   "outputs": [
    {
     "data": {
      "text/plain": [
       "[3, 4, 5]"
      ]
     },
     "execution_count": 133,
     "metadata": {},
     "output_type": "execute_result"
    }
   ],
   "source": [
    "t[-1]"
   ]
  },
  {
   "cell_type": "code",
   "execution_count": 134,
   "id": "0772c3c3-1406-4392-b7c9-50a2b3608a24",
   "metadata": {},
   "outputs": [
    {
     "data": {
      "text/plain": [
       "([3, 4, 5], (45+65j), False, 52.25, 'saroj', 5, 4, 3, 2)"
      ]
     },
     "execution_count": 134,
     "metadata": {},
     "output_type": "execute_result"
    }
   ],
   "source": [
    "t[::-1]"
   ]
  },
  {
   "cell_type": "code",
   "execution_count": 135,
   "id": "bb728a80-3eca-48cc-b86f-5456defa9502",
   "metadata": {},
   "outputs": [
    {
     "data": {
      "text/plain": [
       "['saroj', 'pwskills', 'ghosh', 'data science']"
      ]
     },
     "execution_count": 135,
     "metadata": {},
     "output_type": "execute_result"
    }
   ],
   "source": [
    "l4"
   ]
  },
  {
   "cell_type": "code",
   "execution_count": 139,
   "id": "5a146e9a-6247-4590-a80d-6e89e75d22ad",
   "metadata": {},
   "outputs": [],
   "source": [
    "l4[0] = 2345"
   ]
  },
  {
   "cell_type": "code",
   "execution_count": 140,
   "id": "411cd25d-b38a-4f76-8c8d-9f10b4ca9504",
   "metadata": {},
   "outputs": [
    {
     "data": {
      "text/plain": [
       "[2345, 'pwskills', 'ghosh', 'data science']"
      ]
     },
     "execution_count": 140,
     "metadata": {},
     "output_type": "execute_result"
    }
   ],
   "source": [
    "l4"
   ]
  },
  {
   "cell_type": "code",
   "execution_count": 142,
   "id": "f44be8bb-5fb9-40bb-a27c-b769ebff0e46",
   "metadata": {},
   "outputs": [
    {
     "ename": "TypeError",
     "evalue": "'tuple' object does not support item assignment",
     "output_type": "error",
     "traceback": [
      "\u001b[0;31m---------------------------------------------------------------------------\u001b[0m",
      "\u001b[0;31mTypeError\u001b[0m                                 Traceback (most recent call last)",
      "Cell \u001b[0;32mIn[142], line 1\u001b[0m\n\u001b[0;32m----> 1\u001b[0m \u001b[43mt\u001b[49m\u001b[43m[\u001b[49m\u001b[38;5;241;43m0\u001b[39;49m\u001b[43m]\u001b[49m \u001b[38;5;241m=\u001b[39m \u001b[38;5;124m\"\u001b[39m\u001b[38;5;124mghosh\u001b[39m\u001b[38;5;124m\"\u001b[39m\n",
      "\u001b[0;31mTypeError\u001b[0m: 'tuple' object does not support item assignment"
     ]
    }
   ],
   "source": [
    "t[0] = \"ghosh\""
   ]
  },
  {
   "cell_type": "code",
   "execution_count": 5,
   "id": "efdc20d3-6010-440f-a1e2-598cd525e3a3",
   "metadata": {},
   "outputs": [
    {
     "data": {
      "text/plain": [
       "([3, 4, 5], (45+65j), False, 52.25, 'saroj', 5, 4, 3, 2)"
      ]
     },
     "execution_count": 5,
     "metadata": {},
     "output_type": "execute_result"
    }
   ],
   "source": [
    "t[::-1]"
   ]
  },
  {
   "cell_type": "code",
   "execution_count": 4,
   "id": "106772b6-e4b1-464e-b2b2-39cd43a6f4f3",
   "metadata": {},
   "outputs": [
    {
     "data": {
      "text/plain": [
       "(2, 3, 4, 5, 'saroj', 52.25, False, (45+65j), [3, 4, 5])"
      ]
     },
     "execution_count": 4,
     "metadata": {},
     "output_type": "execute_result"
    }
   ],
   "source": [
    "t"
   ]
  },
  {
   "cell_type": "code",
   "execution_count": 6,
   "id": "641bfa93-8cf9-4187-a5c9-b4005cb2cedc",
   "metadata": {},
   "outputs": [
    {
     "data": {
      "text/plain": [
       "1"
      ]
     },
     "execution_count": 6,
     "metadata": {},
     "output_type": "execute_result"
    }
   ],
   "source": [
    "t.count(5)"
   ]
  },
  {
   "cell_type": "code",
   "execution_count": 7,
   "id": "d0b057cf-18af-4042-9518-70e2b54ad8e3",
   "metadata": {},
   "outputs": [
    {
     "data": {
      "text/plain": [
       "6"
      ]
     },
     "execution_count": 7,
     "metadata": {},
     "output_type": "execute_result"
    }
   ],
   "source": [
    "t.index(False)"
   ]
  },
  {
   "cell_type": "code",
   "execution_count": 8,
   "id": "561b5e58-9a35-4a30-8800-68840f079cfa",
   "metadata": {},
   "outputs": [
    {
     "data": {
      "text/plain": [
       "(2, 3, 4, 5, 'saroj', 52.25, False, (45+65j), [3, 4, 5])"
      ]
     },
     "execution_count": 8,
     "metadata": {},
     "output_type": "execute_result"
    }
   ],
   "source": [
    "t"
   ]
  },
  {
   "cell_type": "code",
   "execution_count": 9,
   "id": "102140f3-f7b5-4360-9e2e-5ec725025f07",
   "metadata": {},
   "outputs": [],
   "source": [
    "s1 = {}"
   ]
  },
  {
   "cell_type": "code",
   "execution_count": 10,
   "id": "c5eceeef-d4a7-4fce-a137-cfe46b0c2635",
   "metadata": {},
   "outputs": [
    {
     "data": {
      "text/plain": [
       "dict"
      ]
     },
     "execution_count": 10,
     "metadata": {},
     "output_type": "execute_result"
    }
   ],
   "source": [
    "type(s1)"
   ]
  },
  {
   "cell_type": "code",
   "execution_count": 11,
   "id": "87ff9968-72c5-4938-9d7a-9a9caeef72df",
   "metadata": {},
   "outputs": [],
   "source": [
    "s2 = {2,23,3,5,6}"
   ]
  },
  {
   "cell_type": "code",
   "execution_count": 12,
   "id": "27e494b1-ae57-4a92-b3c1-cb55578ed1b9",
   "metadata": {},
   "outputs": [
    {
     "data": {
      "text/plain": [
       "set"
      ]
     },
     "execution_count": 12,
     "metadata": {},
     "output_type": "execute_result"
    }
   ],
   "source": [
    "type(s2)"
   ]
  },
  {
   "cell_type": "code",
   "execution_count": 14,
   "id": "7cfb4f6c-13d9-45e4-9062-b552f38cd31a",
   "metadata": {},
   "outputs": [],
   "source": [
    "s3 = {25,5,52.52,\"saroj\",45+5j,(3,4,5)}"
   ]
  },
  {
   "cell_type": "code",
   "execution_count": 15,
   "id": "1baa15af-9785-4917-9630-590d748aebca",
   "metadata": {},
   "outputs": [
    {
     "data": {
      "text/plain": [
       "{(3, 4, 5), (45+5j), 25, 5, 52.52, 'saroj'}"
      ]
     },
     "execution_count": 15,
     "metadata": {},
     "output_type": "execute_result"
    }
   ],
   "source": [
    "s3"
   ]
  },
  {
   "cell_type": "code",
   "execution_count": 18,
   "id": "a402bc8a-7e9f-4859-b0ca-3fd26b88cacf",
   "metadata": {},
   "outputs": [],
   "source": [
    "s4 = {2,5,5,6,2,8,9,5,4,3,7,1,0,5,3,5,2,1,3,5,4,4}"
   ]
  },
  {
   "cell_type": "code",
   "execution_count": 19,
   "id": "255cac08-988a-4ef2-8987-5231ff175206",
   "metadata": {},
   "outputs": [
    {
     "data": {
      "text/plain": [
       "{0, 1, 2, 3, 4, 5, 6, 7, 8, 9}"
      ]
     },
     "execution_count": 19,
     "metadata": {},
     "output_type": "execute_result"
    }
   ],
   "source": [
    "s4"
   ]
  },
  {
   "cell_type": "code",
   "execution_count": 26,
   "id": "bd6a548d-70a8-44cf-ad24-fb62d21b5654",
   "metadata": {},
   "outputs": [],
   "source": [
    "l6=[2,5,5,6,2,8,9,5,4,3,7,1,0,5,3,5,2,1,3,5,4,4,\"saroj\",\"saroj\"]"
   ]
  },
  {
   "cell_type": "code",
   "execution_count": 27,
   "id": "4e3e9a79-1004-45ad-bb0e-e91c1009a45e",
   "metadata": {},
   "outputs": [],
   "source": [
    "l6=list(set(l6))"
   ]
  },
  {
   "cell_type": "code",
   "execution_count": 28,
   "id": "94c40964-144d-414a-af65-822912840cd3",
   "metadata": {},
   "outputs": [
    {
     "data": {
      "text/plain": [
       "[0, 1, 2, 3, 4, 5, 6, 7, 8, 9, 'saroj']"
      ]
     },
     "execution_count": 28,
     "metadata": {},
     "output_type": "execute_result"
    }
   ],
   "source": [
    "l6"
   ]
  },
  {
   "cell_type": "code",
   "execution_count": 29,
   "id": "e3b6317e-fb6a-40c7-83a3-398968a5d03f",
   "metadata": {},
   "outputs": [],
   "source": [
    "s5={25,25,36,85,3,456,\"abc\",4656,4512}"
   ]
  },
  {
   "cell_type": "code",
   "execution_count": 30,
   "id": "17a17bb5-cb92-4086-a1c5-c75da44eb59a",
   "metadata": {},
   "outputs": [
    {
     "data": {
      "text/plain": [
       "{25, 3, 36, 4512, 456, 4656, 85, 'abc'}"
      ]
     },
     "execution_count": 30,
     "metadata": {},
     "output_type": "execute_result"
    }
   ],
   "source": [
    "s5"
   ]
  },
  {
   "cell_type": "code",
   "execution_count": 31,
   "id": "26af2436-e8d1-461f-8762-36048d0cceb5",
   "metadata": {},
   "outputs": [
    {
     "ename": "TypeError",
     "evalue": "'set' object is not subscriptable",
     "output_type": "error",
     "traceback": [
      "\u001b[0;31m---------------------------------------------------------------------------\u001b[0m",
      "\u001b[0;31mTypeError\u001b[0m                                 Traceback (most recent call last)",
      "Cell \u001b[0;32mIn[31], line 1\u001b[0m\n\u001b[0;32m----> 1\u001b[0m \u001b[43ms5\u001b[49m\u001b[43m[\u001b[49m\u001b[38;5;241;43m0\u001b[39;49m\u001b[43m]\u001b[49m\n",
      "\u001b[0;31mTypeError\u001b[0m: 'set' object is not subscriptable"
     ]
    }
   ],
   "source": [
    "s5[0]"
   ]
  },
  {
   "cell_type": "code",
   "execution_count": 32,
   "id": "cb735f8c-e131-4ef7-9915-6f2c0d5b137d",
   "metadata": {},
   "outputs": [
    {
     "ename": "TypeError",
     "evalue": "'set' object is not subscriptable",
     "output_type": "error",
     "traceback": [
      "\u001b[0;31m---------------------------------------------------------------------------\u001b[0m",
      "\u001b[0;31mTypeError\u001b[0m                                 Traceback (most recent call last)",
      "Cell \u001b[0;32mIn[32], line 1\u001b[0m\n\u001b[0;32m----> 1\u001b[0m \u001b[43ms5\u001b[49m\u001b[43m[\u001b[49m\u001b[43m:\u001b[49m\u001b[43m:\u001b[49m\u001b[38;5;241;43m-\u001b[39;49m\u001b[38;5;241;43m1\u001b[39;49m\u001b[43m]\u001b[49m\n",
      "\u001b[0;31mTypeError\u001b[0m: 'set' object is not subscriptable"
     ]
    }
   ],
   "source": [
    "s5[::-1]"
   ]
  },
  {
   "cell_type": "code",
   "execution_count": 33,
   "id": "55ef8d4f-c126-4bd0-a632-46727d23220d",
   "metadata": {},
   "outputs": [
    {
     "data": {
      "text/plain": [
       "{25, 3, 36, 4512, 456, 4656, 85, 'abc'}"
      ]
     },
     "execution_count": 33,
     "metadata": {},
     "output_type": "execute_result"
    }
   ],
   "source": [
    "s5"
   ]
  },
  {
   "cell_type": "code",
   "execution_count": 34,
   "id": "485ac725-1a81-416a-bf3e-ddf5f62e5508",
   "metadata": {},
   "outputs": [],
   "source": [
    "s5.add(4)"
   ]
  },
  {
   "cell_type": "code",
   "execution_count": 35,
   "id": "4e462c06-0bf5-42e4-98a6-f5d9b4179de4",
   "metadata": {},
   "outputs": [
    {
     "data": {
      "text/plain": [
       "{25, 3, 36, 4, 4512, 456, 4656, 85, 'abc'}"
      ]
     },
     "execution_count": 35,
     "metadata": {},
     "output_type": "execute_result"
    }
   ],
   "source": [
    "s5"
   ]
  },
  {
   "cell_type": "code",
   "execution_count": 36,
   "id": "e6eee61d-1631-4187-a211-f930d47e8887",
   "metadata": {},
   "outputs": [],
   "source": [
    "s5.remove(3)"
   ]
  },
  {
   "cell_type": "code",
   "execution_count": 37,
   "id": "4d42734f-df71-4e78-b303-6c2237e0ca91",
   "metadata": {},
   "outputs": [
    {
     "data": {
      "text/plain": [
       "{25, 36, 4, 4512, 456, 4656, 85, 'abc'}"
      ]
     },
     "execution_count": 37,
     "metadata": {},
     "output_type": "execute_result"
    }
   ],
   "source": [
    "s5"
   ]
  },
  {
   "cell_type": "code",
   "execution_count": null,
   "id": "9a2932c4-4dc0-49d8-851c-543b7135a186",
   "metadata": {},
   "outputs": [],
   "source": []
  }
 ],
 "metadata": {
  "kernelspec": {
   "display_name": "Python 3 (ipykernel)",
   "language": "python",
   "name": "python3"
  },
  "language_info": {
   "codemirror_mode": {
    "name": "ipython",
    "version": 3
   },
   "file_extension": ".py",
   "mimetype": "text/x-python",
   "name": "python",
   "nbconvert_exporter": "python",
   "pygments_lexer": "ipython3",
   "version": "3.10.8"
  }
 },
 "nbformat": 4,
 "nbformat_minor": 5
}
