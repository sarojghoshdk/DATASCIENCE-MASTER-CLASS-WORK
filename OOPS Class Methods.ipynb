{
 "cells": [
  {
   "cell_type": "markdown",
   "id": "3a346b5d-e3a9-412d-86e1-c50624167999",
   "metadata": {},
   "source": [
    "Class Method"
   ]
  },
  {
   "cell_type": "code",
   "execution_count": 1,
   "id": "9603c5b8-2727-463f-b40d-2627af75c4d7",
   "metadata": {},
   "outputs": [],
   "source": [
    "class pwskills:\n",
    "    \n",
    "    def __init__(self , name , email):\n",
    "        self.name = name\n",
    "        self.email = email\n",
    "        \n",
    "    def student_details(self):\n",
    "        print(self.name , self.email)"
   ]
  },
  {
   "cell_type": "code",
   "execution_count": 2,
   "id": "3551b8d4-5c38-42c2-a786-5b913caf902a",
   "metadata": {},
   "outputs": [],
   "source": [
    "pw = pwskills(\"Ram\" , \"ram@gmail.com\")"
   ]
  },
  {
   "cell_type": "code",
   "execution_count": 3,
   "id": "cd1e8564-d4ec-4f32-baa1-8e763dd84ede",
   "metadata": {},
   "outputs": [
    {
     "data": {
      "text/plain": [
       "'Ram'"
      ]
     },
     "execution_count": 3,
     "metadata": {},
     "output_type": "execute_result"
    }
   ],
   "source": [
    "pw.name"
   ]
  },
  {
   "cell_type": "code",
   "execution_count": 4,
   "id": "227ea3a6-b705-42d0-a788-6c5f8b251b88",
   "metadata": {},
   "outputs": [
    {
     "data": {
      "text/plain": [
       "'ram@gmail.com'"
      ]
     },
     "execution_count": 4,
     "metadata": {},
     "output_type": "execute_result"
    }
   ],
   "source": [
    "pw.email"
   ]
  },
  {
   "cell_type": "code",
   "execution_count": 6,
   "id": "8640aeed-a847-48fd-af59-7bddac7ea914",
   "metadata": {},
   "outputs": [
    {
     "name": "stdout",
     "output_type": "stream",
     "text": [
      "Ram ram@gmail.com\n"
     ]
    }
   ],
   "source": [
    "pw.student_details()"
   ]
  },
  {
   "cell_type": "markdown",
   "id": "9ce45e57-3360-4ebd-b352-cd9c7c8f0cfb",
   "metadata": {},
   "source": [
    "in python there is no direrctly option to overload a function.\n",
    "But by using Class Method it is possible to overload a function."
   ]
  },
  {
   "cell_type": "code",
   "execution_count": 7,
   "id": "60aa3337-6257-4cfa-baf0-76083e40e19b",
   "metadata": {},
   "outputs": [],
   "source": [
    "class pwskills1:\n",
    "    \n",
    "    def __init__(self , name , email):\n",
    "        self.name = name\n",
    "        self.email = email\n",
    "    \n",
    "    @classmethod\n",
    "    def details(cls , name , email):\n",
    "        return cls(name , email)\n",
    "        \n",
    "    def student_details(self):\n",
    "        print(self.name , self.email)"
   ]
  },
  {
   "cell_type": "code",
   "execution_count": 9,
   "id": "d389bbbd-adde-490d-87af-f845e533732c",
   "metadata": {},
   "outputs": [],
   "source": [
    "pw1 = pwskills1.details(\"dam\" , \"dam@gmail.com\")"
   ]
  },
  {
   "cell_type": "code",
   "execution_count": 10,
   "id": "f58fa19a-1ea9-4732-b333-5e96f3f74502",
   "metadata": {},
   "outputs": [
    {
     "data": {
      "text/plain": [
       "'dam'"
      ]
     },
     "execution_count": 10,
     "metadata": {},
     "output_type": "execute_result"
    }
   ],
   "source": [
    "pw1.name"
   ]
  },
  {
   "cell_type": "code",
   "execution_count": 11,
   "id": "cd3ce586-c492-4051-ac1e-0e0c841128b3",
   "metadata": {},
   "outputs": [
    {
     "data": {
      "text/plain": [
       "'dam@gmail.com'"
      ]
     },
     "execution_count": 11,
     "metadata": {},
     "output_type": "execute_result"
    }
   ],
   "source": [
    "pw1.email"
   ]
  },
  {
   "cell_type": "code",
   "execution_count": 13,
   "id": "ec48f571-ce55-4903-8f3f-2356371ffb87",
   "metadata": {},
   "outputs": [
    {
     "name": "stdout",
     "output_type": "stream",
     "text": [
      "dam dam@gmail.com\n"
     ]
    }
   ],
   "source": [
    "pw1.student_details()"
   ]
  },
  {
   "cell_type": "code",
   "execution_count": 31,
   "id": "19d6a489-8491-47ed-90aa-73ad73298ce7",
   "metadata": {},
   "outputs": [],
   "source": [
    "class pwskills2:\n",
    "    \n",
    "    mobile_num = 526024825\n",
    "    \n",
    "    def __init__(self , name , email):     # Overload __init__ method by using classmethod\n",
    "        self.name = name\n",
    "        self.email = email\n",
    "    \n",
    "    @classmethod              # Access mobile_num in class methode\n",
    "    def change_number(cls , mobile):\n",
    "        pwskills2.mobile_num = mobile\n",
    "    \n",
    "    @classmethod             # store name & email withgout creatinmg object\n",
    "    def details(cls , name , email):\n",
    "        return cls(name , email)\n",
    "        \n",
    "    def student_details(self):\n",
    "        print(self.name , self.email , pwskills2.mobile_num)    # To access mobile_num in this func thats why use pwskills2.mobile_num"
   ]
  },
  {
   "cell_type": "code",
   "execution_count": 21,
   "id": "7ed8ca09-424f-47cd-891b-d759343d2471",
   "metadata": {},
   "outputs": [],
   "source": [
    "pwskills2.change_number(254136454)"
   ]
  },
  {
   "cell_type": "code",
   "execution_count": 22,
   "id": "4800d7bf-cb8a-4ec1-8019-b43ca6cd1a96",
   "metadata": {},
   "outputs": [
    {
     "data": {
      "text/plain": [
       "254136454"
      ]
     },
     "execution_count": 22,
     "metadata": {},
     "output_type": "execute_result"
    }
   ],
   "source": [
    "pwskills2.mobile_num"
   ]
  },
  {
   "cell_type": "code",
   "execution_count": 25,
   "id": "7735da9d-f78d-492c-83e1-71786c4e4f39",
   "metadata": {},
   "outputs": [],
   "source": [
    "pw_obj = pwskills2(\"ram\" , \"ram@gmail.com\") #using class object"
   ]
  },
  {
   "cell_type": "code",
   "execution_count": 26,
   "id": "e33aed06-cf58-4fc9-a4ce-dae0be43dd0a",
   "metadata": {},
   "outputs": [
    {
     "name": "stdout",
     "output_type": "stream",
     "text": [
      "ram ram@gmail.com 254136454\n"
     ]
    }
   ],
   "source": [
    "pw_obj.student_details()"
   ]
  },
  {
   "cell_type": "code",
   "execution_count": 29,
   "id": "b19a6af8-2e56-4ea8-a7d4-28600fbaf41c",
   "metadata": {},
   "outputs": [],
   "source": [
    "pw = pwskills2.details(\"rom\" , \"rom@gmail.com\")      # using class method"
   ]
  },
  {
   "cell_type": "code",
   "execution_count": 30,
   "id": "cf815d45-cca6-414e-a587-7807111a7de4",
   "metadata": {},
   "outputs": [
    {
     "name": "stdout",
     "output_type": "stream",
     "text": [
      "rom rom@gmail.com 254136454\n"
     ]
    }
   ],
   "source": [
    "pw.student_details()"
   ]
  },
  {
   "cell_type": "code",
   "execution_count": 32,
   "id": "6de3d8ee-83c4-4d2f-b3f3-022edba7822c",
   "metadata": {},
   "outputs": [],
   "source": [
    "class pwskills3:\n",
    "    \n",
    "    mobile_num = 526024825\n",
    "    \n",
    "    def __init__(self , name , email):     # Overload __init__ method by using classmethod\n",
    "        self.name = name\n",
    "        self.email = email\n",
    "    \n",
    "    @classmethod              # Access mobile_num in class methode\n",
    "    def change_number(cls , mobile):\n",
    "        pwskills2.mobile_num = mobile\n",
    "    \n",
    "    @classmethod             # store name & email withgout creatinmg object\n",
    "    def details(cls , name , email):\n",
    "        return cls(name , email)\n",
    "        \n",
    "    def student_details(self):\n",
    "        print(self.name , self.email , pwskills2.mobile_num)    # To access mobile_num in this func thats why use pwskills2.mobile_num"
   ]
  },
  {
   "cell_type": "code",
   "execution_count": 33,
   "id": "cd27b1a9-fdba-489e-9b51-2dc5240a22c7",
   "metadata": {},
   "outputs": [],
   "source": [
    "def course_details(cls , course_name):        # it is a external function which i used to access in above class to use as a class method\n",
    "    print(\"course name is:\" , course_name)"
   ]
  },
  {
   "cell_type": "code",
   "execution_count": 35,
   "id": "235d2b1c-947f-4d17-8a83-aa56c90dfd49",
   "metadata": {},
   "outputs": [],
   "source": [
    "pwskills3.course_details = classmethod(course_details)     # now its external function is available in pwskills3 class"
   ]
  },
  {
   "cell_type": "code",
   "execution_count": 36,
   "id": "125fa63b-a9b8-4427-968c-a5a91741d29a",
   "metadata": {},
   "outputs": [
    {
     "name": "stdout",
     "output_type": "stream",
     "text": [
      "course name is: DSM\n"
     ]
    }
   ],
   "source": [
    "pwskills3.course_details(\"DSM\")"
   ]
  },
  {
   "cell_type": "code",
   "execution_count": 42,
   "id": "27fd3aed-3fb8-4c7e-b08a-a140f9174e43",
   "metadata": {},
   "outputs": [],
   "source": [
    "def mentor(cls , list_of_mentor):\n",
    "    print(list_of_mentor)"
   ]
  },
  {
   "cell_type": "code",
   "execution_count": 43,
   "id": "26258230-2eb3-4615-9c9c-2d7e6bec12f6",
   "metadata": {},
   "outputs": [],
   "source": [
    "pwskills3.mentor = classmethod(mentor)"
   ]
  },
  {
   "cell_type": "code",
   "execution_count": 44,
   "id": "5a516ee8-2fb3-465e-b38f-5fb657d6e6ad",
   "metadata": {},
   "outputs": [
    {
     "name": "stdout",
     "output_type": "stream",
     "text": [
      "['sudh', 'krish']\n"
     ]
    }
   ],
   "source": [
    "pwskills3.mentor([\"sudh\" , \"krish\"])"
   ]
  },
  {
   "cell_type": "code",
   "execution_count": 45,
   "id": "1cd1dc1c-ff4d-4b27-b931-6336983da096",
   "metadata": {},
   "outputs": [],
   "source": [
    "class pwskills4:\n",
    "    \n",
    "    mobile_num = 526024825\n",
    "    \n",
    "    def __init__(self , name , email):     # Overload __init__ method by using classmethod\n",
    "        self.name = name\n",
    "        self.email = email\n",
    "    \n",
    "    @classmethod              # Access mobile_num in class methode\n",
    "    def change_number(cls , mobile):\n",
    "        pwskills2.mobile_num = mobile\n",
    "    \n",
    "    @classmethod             # store name & email withgout creatinmg object\n",
    "    def details(cls , name , email):\n",
    "        return cls(name , email)\n",
    "        \n",
    "    def student_details(self):\n",
    "        print(self.name , self.email , pwskills2.mobile_num)    # To access mobile_num in this func thats why use pwskills2.mobile_num"
   ]
  },
  {
   "cell_type": "code",
   "execution_count": 48,
   "id": "dd25df40-250a-445f-ac81-e2de5133e4fb",
   "metadata": {},
   "outputs": [
    {
     "ename": "AttributeError",
     "evalue": "change_number",
     "output_type": "error",
     "traceback": [
      "\u001b[0;31m---------------------------------------------------------------------------\u001b[0m",
      "\u001b[0;31mAttributeError\u001b[0m                            Traceback (most recent call last)",
      "Cell \u001b[0;32mIn[48], line 1\u001b[0m\n\u001b[0;32m----> 1\u001b[0m \u001b[38;5;28;01mdel\u001b[39;00m pwskills4\u001b[38;5;241m.\u001b[39mchange_number   \u001b[38;5;66;03m# delete the change_number function\u001b[39;00m\n",
      "\u001b[0;31mAttributeError\u001b[0m: change_number"
     ]
    }
   ],
   "source": [
    "del pwskills4.change_number   # delete the change_number function"
   ]
  },
  {
   "cell_type": "code",
   "execution_count": 47,
   "id": "755e9480-38f4-4bfa-b502-64dcd0d0426e",
   "metadata": {},
   "outputs": [
    {
     "ename": "AttributeError",
     "evalue": "type object 'pwskills4' has no attribute 'change_number'",
     "output_type": "error",
     "traceback": [
      "\u001b[0;31m---------------------------------------------------------------------------\u001b[0m",
      "\u001b[0;31mAttributeError\u001b[0m                            Traceback (most recent call last)",
      "Cell \u001b[0;32mIn[47], line 1\u001b[0m\n\u001b[0;32m----> 1\u001b[0m \u001b[43mpwskills4\u001b[49m\u001b[38;5;241;43m.\u001b[39;49m\u001b[43mchange_number\u001b[49m(\u001b[38;5;241m365479525\u001b[39m)\n",
      "\u001b[0;31mAttributeError\u001b[0m: type object 'pwskills4' has no attribute 'change_number'"
     ]
    }
   ],
   "source": [
    "pwskills4.change_number(365479525)"
   ]
  },
  {
   "cell_type": "code",
   "execution_count": 49,
   "id": "bbd7d68a-3426-4f70-945f-2eff12797b6e",
   "metadata": {},
   "outputs": [],
   "source": [
    "delattr(pwskills4 , \"details\")     # another method to deletev a function"
   ]
  },
  {
   "cell_type": "code",
   "execution_count": 50,
   "id": "24c5b667-53bf-4bd5-8621-f6e19b6bd93a",
   "metadata": {},
   "outputs": [],
   "source": [
    "delattr(pwskills4 , \"student_details\")"
   ]
  },
  {
   "cell_type": "code",
   "execution_count": null,
   "id": "6d705e19-1267-4b31-8155-c31935725241",
   "metadata": {},
   "outputs": [],
   "source": [
    "delattr(pwskills4)"
   ]
  }
 ],
 "metadata": {
  "kernelspec": {
   "display_name": "Python 3 (ipykernel)",
   "language": "python",
   "name": "python3"
  },
  "language_info": {
   "codemirror_mode": {
    "name": "ipython",
    "version": 3
   },
   "file_extension": ".py",
   "mimetype": "text/x-python",
   "name": "python",
   "nbconvert_exporter": "python",
   "pygments_lexer": "ipython3",
   "version": "3.10.8"
  }
 },
 "nbformat": 4,
 "nbformat_minor": 5
}
