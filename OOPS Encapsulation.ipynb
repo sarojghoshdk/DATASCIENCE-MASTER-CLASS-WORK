{
 "cells": [
  {
   "cell_type": "code",
   "execution_count": 1,
   "id": "7b94067b-2e94-4c0e-b067-6f2e77bd61ce",
   "metadata": {},
   "outputs": [],
   "source": [
    "class test:\n",
    "    \n",
    "    def __init__(self , a , b):\n",
    "        self.a = a\n",
    "        self.b = b"
   ]
  },
  {
   "cell_type": "code",
   "execution_count": 2,
   "id": "257df5f3-9093-42e8-968f-ae93d6241c25",
   "metadata": {},
   "outputs": [],
   "source": [
    "t = test(25 , 63)"
   ]
  },
  {
   "cell_type": "code",
   "execution_count": 3,
   "id": "98eebdc8-57b8-46dc-9b50-3c2595c3f904",
   "metadata": {},
   "outputs": [],
   "source": [
    "t.a = 85247"
   ]
  },
  {
   "cell_type": "code",
   "execution_count": 4,
   "id": "d7ece23b-7177-40f5-9915-8d94a1401e86",
   "metadata": {},
   "outputs": [
    {
     "data": {
      "text/plain": [
       "85247"
      ]
     },
     "execution_count": 4,
     "metadata": {},
     "output_type": "execute_result"
    }
   ],
   "source": [
    "t.a"
   ]
  },
  {
   "cell_type": "code",
   "execution_count": 14,
   "id": "b432c7cc-9dd6-436c-8631-7ec702ee3d01",
   "metadata": {},
   "outputs": [],
   "source": [
    "class car:\n",
    "    \n",
    "    def __init__(self , year , make , model , speed):\n",
    "        self.__year = year          # by using \"__\" the value is fixed & user can't access this directaly\n",
    "        self.__make = make          # means this value is private & that things is called ENCAPSULATION.\n",
    "        self.__model = model        # by this it is completely hide from user and user can only saw the below function.\n",
    "        self.__speed = 0\n",
    "        \n",
    "        \n",
    "    def set_speed(self , speed):      # this function is shown by the user & user can modified this function by diff. values of speed\n",
    "        self.__speed = 0 if speed < 0 else speed\n",
    "        \n",
    "    def get_speed(self):              # by this function user can see the speed of the car\n",
    "        return self.__speed"
   ]
  },
  {
   "cell_type": "code",
   "execution_count": 7,
   "id": "9119dd41-2963-4790-964b-6e8646887d4b",
   "metadata": {},
   "outputs": [],
   "source": [
    "c = car(2011 , \"TATA\" , \"NANO\" , 1200)"
   ]
  },
  {
   "cell_type": "code",
   "execution_count": 8,
   "id": "0760ef85-9792-4f84-ac62-3e0df35ce371",
   "metadata": {},
   "outputs": [
    {
     "data": {
      "text/plain": [
       "2011"
      ]
     },
     "execution_count": 8,
     "metadata": {},
     "output_type": "execute_result"
    }
   ],
   "source": [
    "c._car__year"
   ]
  },
  {
   "cell_type": "code",
   "execution_count": 9,
   "id": "50af52c7-50cc-4bce-8b13-fbefd1c48ae3",
   "metadata": {},
   "outputs": [],
   "source": [
    "c.set_speed(-789)"
   ]
  },
  {
   "cell_type": "code",
   "execution_count": 10,
   "id": "01411eab-8866-46b2-83f4-5d75d6ec5059",
   "metadata": {},
   "outputs": [
    {
     "data": {
      "text/plain": [
       "0"
      ]
     },
     "execution_count": 10,
     "metadata": {},
     "output_type": "execute_result"
    }
   ],
   "source": [
    "c.get_speed()"
   ]
  },
  {
   "cell_type": "code",
   "execution_count": 11,
   "id": "230b041c-c977-4cee-976a-409c2a4ddfcc",
   "metadata": {},
   "outputs": [],
   "source": [
    "c.set_speed(1250)"
   ]
  },
  {
   "cell_type": "code",
   "execution_count": 12,
   "id": "b64409db-abb6-463f-8cbd-4044e2b83ee2",
   "metadata": {},
   "outputs": [
    {
     "data": {
      "text/plain": [
       "1250"
      ]
     },
     "execution_count": 12,
     "metadata": {},
     "output_type": "execute_result"
    }
   ],
   "source": [
    "c.get_speed()"
   ]
  },
  {
   "cell_type": "code",
   "execution_count": 29,
   "id": "755d8923-fba8-4ec5-a8f4-c62851b6cd9a",
   "metadata": {},
   "outputs": [],
   "source": [
    "class bank_account:\n",
    "    \n",
    "    def __init__(self , balance):    # it is private function\n",
    "        self.__balance = balance\n",
    "        \n",
    "    def deposite(self , amount):     # it is public function\n",
    "        self.__balance = self.__balance + amount\n",
    "        \n",
    "    def withdraw(self , amount):\n",
    "        if self.__balance >= amount:\n",
    "            self.__balance = self.__balance - amount\n",
    "            return \"Transaction Successfull\"\n",
    "        else:\n",
    "            return False\n",
    "        \n",
    "    def get_balance(self):\n",
    "        return self.__balance"
   ]
  },
  {
   "cell_type": "code",
   "execution_count": 36,
   "id": "a619e993-99ba-4517-bf3a-5d08b7ef0b64",
   "metadata": {},
   "outputs": [],
   "source": [
    "saroj = bank_account(8000)"
   ]
  },
  {
   "cell_type": "code",
   "execution_count": 37,
   "id": "13c75291-6da9-482f-b039-caf38cfe1ca5",
   "metadata": {},
   "outputs": [
    {
     "data": {
      "text/plain": [
       "8000"
      ]
     },
     "execution_count": 37,
     "metadata": {},
     "output_type": "execute_result"
    }
   ],
   "source": [
    "saroj.get_balance()"
   ]
  },
  {
   "cell_type": "code",
   "execution_count": 38,
   "id": "4cba9342-05b5-40eb-b698-c4a168e8112d",
   "metadata": {},
   "outputs": [],
   "source": [
    "saroj.deposite(4000)"
   ]
  },
  {
   "cell_type": "code",
   "execution_count": 39,
   "id": "beebf5ad-41e7-4fd3-b610-edc18dac0445",
   "metadata": {},
   "outputs": [
    {
     "data": {
      "text/plain": [
       "12000"
      ]
     },
     "execution_count": 39,
     "metadata": {},
     "output_type": "execute_result"
    }
   ],
   "source": [
    "saroj.get_balance()"
   ]
  },
  {
   "cell_type": "code",
   "execution_count": 40,
   "id": "1b6ef085-e90a-41d4-a3c2-f714c2cbe2c3",
   "metadata": {},
   "outputs": [],
   "source": [
    "saroj.deposite(3000)"
   ]
  },
  {
   "cell_type": "code",
   "execution_count": 41,
   "id": "08e202b2-8b41-4ced-bc39-da48d7032bea",
   "metadata": {},
   "outputs": [
    {
     "data": {
      "text/plain": [
       "15000"
      ]
     },
     "execution_count": 41,
     "metadata": {},
     "output_type": "execute_result"
    }
   ],
   "source": [
    "saroj.get_balance()"
   ]
  },
  {
   "cell_type": "code",
   "execution_count": 42,
   "id": "8ba97b10-2136-43ec-b457-cf012f924260",
   "metadata": {},
   "outputs": [
    {
     "data": {
      "text/plain": [
       "False"
      ]
     },
     "execution_count": 42,
     "metadata": {},
     "output_type": "execute_result"
    }
   ],
   "source": [
    "saroj.withdraw(25000)"
   ]
  },
  {
   "cell_type": "code",
   "execution_count": 43,
   "id": "3d15919d-2dd1-4f42-8f1e-1b41b51bca2c",
   "metadata": {},
   "outputs": [
    {
     "data": {
      "text/plain": [
       "'Transaction Successfull'"
      ]
     },
     "execution_count": 43,
     "metadata": {},
     "output_type": "execute_result"
    }
   ],
   "source": [
    "saroj.withdraw(5000)"
   ]
  },
  {
   "cell_type": "code",
   "execution_count": 44,
   "id": "9ef16cf6-ee24-4874-b4f2-4c070b39a9d2",
   "metadata": {},
   "outputs": [
    {
     "data": {
      "text/plain": [
       "10000"
      ]
     },
     "execution_count": 44,
     "metadata": {},
     "output_type": "execute_result"
    }
   ],
   "source": [
    "saroj.get_balance()"
   ]
  },
  {
   "cell_type": "code",
   "execution_count": null,
   "id": "4a6c5b99-3577-45c4-8db4-1be1e460d2d4",
   "metadata": {},
   "outputs": [],
   "source": []
  },
  {
   "cell_type": "code",
   "execution_count": null,
   "id": "68b1ad8c-7604-4c9a-92d8-1361b2db8429",
   "metadata": {},
   "outputs": [],
   "source": []
  }
 ],
 "metadata": {
  "kernelspec": {
   "display_name": "Python 3 (ipykernel)",
   "language": "python",
   "name": "python3"
  },
  "language_info": {
   "codemirror_mode": {
    "name": "ipython",
    "version": 3
   },
   "file_extension": ".py",
   "mimetype": "text/x-python",
   "name": "python",
   "nbconvert_exporter": "python",
   "pygments_lexer": "ipython3",
   "version": "3.10.8"
  }
 },
 "nbformat": 4,
 "nbformat_minor": 5
}
