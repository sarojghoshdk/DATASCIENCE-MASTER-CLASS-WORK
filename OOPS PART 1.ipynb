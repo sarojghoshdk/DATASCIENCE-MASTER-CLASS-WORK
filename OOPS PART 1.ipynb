{
 "cells": [
  {
   "cell_type": "markdown",
   "id": "9d34ecb8-0553-4807-a9a7-d03aa4027a9d",
   "metadata": {},
   "source": [
    "Oops stand for object orinted programmmig"
   ]
  },
  {
   "cell_type": "code",
   "execution_count": 1,
   "id": "fb02a200-9b4a-4ed3-a301-fee61d015372",
   "metadata": {},
   "outputs": [],
   "source": [
    "a = 1"
   ]
  },
  {
   "cell_type": "code",
   "execution_count": 2,
   "id": "e641db3c-a6a7-4c3d-9b55-7ebe38087a9b",
   "metadata": {},
   "outputs": [
    {
     "name": "stdout",
     "output_type": "stream",
     "text": [
      "<class 'int'>\n"
     ]
    }
   ],
   "source": [
    "print(type(a))"
   ]
  },
  {
   "cell_type": "code",
   "execution_count": 3,
   "id": "fd3af1e9-39bf-4b40-8765-65fa46671648",
   "metadata": {},
   "outputs": [
    {
     "name": "stdout",
     "output_type": "stream",
     "text": [
      "<class 'str'>\n"
     ]
    }
   ],
   "source": [
    "print(type(\"pwskills\"))"
   ]
  },
  {
   "cell_type": "markdown",
   "id": "60021e04-15c4-40e2-91f1-430eb73f0dbc",
   "metadata": {},
   "source": [
    "class is nothing but just classification & object is a real world entity."
   ]
  },
  {
   "cell_type": "code",
   "execution_count": 4,
   "id": "9092cb3a-88ee-4ed5-8ff2-e576d34e5670",
   "metadata": {},
   "outputs": [],
   "source": [
    "class test:\n",
    "    pass"
   ]
  },
  {
   "cell_type": "code",
   "execution_count": 5,
   "id": "32c06c6e-d9ac-48bc-92d8-4c261f7dbd5d",
   "metadata": {},
   "outputs": [],
   "source": [
    "a = test()"
   ]
  },
  {
   "cell_type": "code",
   "execution_count": 6,
   "id": "2e88a958-5dfb-480a-9d76-25588722e03f",
   "metadata": {},
   "outputs": [
    {
     "data": {
      "text/plain": [
       "__main__.test"
      ]
     },
     "execution_count": 6,
     "metadata": {},
     "output_type": "execute_result"
    }
   ],
   "source": [
    "type(a)"
   ]
  },
  {
   "cell_type": "code",
   "execution_count": 7,
   "id": "c7584e2f-50f1-4c8e-805e-6966ef7c5864",
   "metadata": {},
   "outputs": [
    {
     "name": "stdout",
     "output_type": "stream",
     "text": [
      "<class '__main__.test'>\n"
     ]
    }
   ],
   "source": [
    "print(type(a))"
   ]
  },
  {
   "cell_type": "code",
   "execution_count": 8,
   "id": "e15dd210-8f12-46e2-ad0e-edc162c5f329",
   "metadata": {},
   "outputs": [],
   "source": [
    "class pwskills:\n",
    "    \n",
    "    def welcome_msg(self):\n",
    "        print(\"welcome to pw skills\")"
   ]
  },
  {
   "cell_type": "code",
   "execution_count": 9,
   "id": "ed219fa9-5812-4ca7-ba68-ea7eff19ea34",
   "metadata": {},
   "outputs": [],
   "source": [
    "ram = pwskills()"
   ]
  },
  {
   "cell_type": "code",
   "execution_count": 10,
   "id": "3a72c35f-8570-4af7-b3f4-39e111a38de7",
   "metadata": {},
   "outputs": [
    {
     "name": "stdout",
     "output_type": "stream",
     "text": [
      "<class '__main__.pwskills'>\n"
     ]
    }
   ],
   "source": [
    "print(type(ram))"
   ]
  },
  {
   "cell_type": "code",
   "execution_count": 11,
   "id": "8778480e-0308-439b-9895-b81acee75c41",
   "metadata": {},
   "outputs": [
    {
     "name": "stdout",
     "output_type": "stream",
     "text": [
      "welcome to pw skills\n"
     ]
    }
   ],
   "source": [
    "ram.welcome_msg()"
   ]
  },
  {
   "cell_type": "code",
   "execution_count": 12,
   "id": "0cfdecd2-6ef4-415a-bcd8-63208a454a82",
   "metadata": {},
   "outputs": [],
   "source": [
    "saroj = pwskills()"
   ]
  },
  {
   "cell_type": "code",
   "execution_count": 13,
   "id": "abaa1113-7f45-465a-a8bc-ca2277563581",
   "metadata": {},
   "outputs": [
    {
     "name": "stdout",
     "output_type": "stream",
     "text": [
      "welcome to pw skills\n"
     ]
    }
   ],
   "source": [
    "saroj.welcome_msg()"
   ]
  },
  {
   "cell_type": "code",
   "execution_count": 14,
   "id": "6e4b400d-2b6d-4f71-8e44-adc79eb92dde",
   "metadata": {},
   "outputs": [],
   "source": [
    "class pwskills1:\n",
    "    \n",
    "    def __init__(self , phone_number , email_id , student_id):\n",
    "        self.phone_number = phone_number\n",
    "        self.email_id = email_id\n",
    "        self.student_id = student_id\n",
    "        \n",
    "    def return_student_details(self):\n",
    "        return self.student_id , self.email_id , self.phone_number\n",
    "    "
   ]
  },
  {
   "cell_type": "code",
   "execution_count": 15,
   "id": "52dfc007-4b36-4f98-aa4f-bdc9e7ca8244",
   "metadata": {},
   "outputs": [],
   "source": [
    "ram = pwskills1(12345678910 , \"ram@gmail.com\" , 100)"
   ]
  },
  {
   "cell_type": "code",
   "execution_count": 16,
   "id": "9d0620b8-dbca-4a73-8624-389851e701ce",
   "metadata": {},
   "outputs": [
    {
     "data": {
      "text/plain": [
       "(100, 'ram@gmail.com', 12345678910)"
      ]
     },
     "execution_count": 16,
     "metadata": {},
     "output_type": "execute_result"
    }
   ],
   "source": [
    "ram.return_student_details()"
   ]
  },
  {
   "cell_type": "code",
   "execution_count": 19,
   "id": "cd91bb92-e5a6-46fb-aea7-468e9438f4fc",
   "metadata": {},
   "outputs": [
    {
     "data": {
      "text/plain": [
       "12345678910"
      ]
     },
     "execution_count": 19,
     "metadata": {},
     "output_type": "execute_result"
    }
   ],
   "source": [
    "ram.phone_number"
   ]
  },
  {
   "cell_type": "code",
   "execution_count": 20,
   "id": "b148899d-8814-43fe-bf30-c0ee9c0e223c",
   "metadata": {},
   "outputs": [
    {
     "data": {
      "text/plain": [
       "'ram@gmail.com'"
      ]
     },
     "execution_count": 20,
     "metadata": {},
     "output_type": "execute_result"
    }
   ],
   "source": [
    "ram.email_id"
   ]
  },
  {
   "cell_type": "code",
   "execution_count": 17,
   "id": "38c9412c-9d68-4924-b6e0-a7ea3e656c8c",
   "metadata": {},
   "outputs": [],
   "source": [
    "sam = pwskills1(45678912320 , \"sam@gmail.com\" , 101)"
   ]
  },
  {
   "cell_type": "code",
   "execution_count": 18,
   "id": "a200c611-f365-4e71-9bda-94e3e88bc07b",
   "metadata": {},
   "outputs": [
    {
     "data": {
      "text/plain": [
       "(101, 'sam@gmail.com', 45678912320)"
      ]
     },
     "execution_count": 18,
     "metadata": {},
     "output_type": "execute_result"
    }
   ],
   "source": [
    "sam.return_student_details()"
   ]
  },
  {
   "cell_type": "code",
   "execution_count": 23,
   "id": "45348c9a-47f3-4445-98b7-03f9c1a18a20",
   "metadata": {},
   "outputs": [
    {
     "ename": "TypeError",
     "evalue": "pwskills1.__init__() missing 3 required positional arguments: 'phone_number', 'email_id', and 'student_id'",
     "output_type": "error",
     "traceback": [
      "\u001b[0;31m---------------------------------------------------------------------------\u001b[0m",
      "\u001b[0;31mTypeError\u001b[0m                                 Traceback (most recent call last)",
      "Cell \u001b[0;32mIn[23], line 1\u001b[0m\n\u001b[0;32m----> 1\u001b[0m kar \u001b[38;5;241m=\u001b[39m \u001b[43mpwskills1\u001b[49m\u001b[43m(\u001b[49m\u001b[43m)\u001b[49m\n",
      "\u001b[0;31mTypeError\u001b[0m: pwskills1.__init__() missing 3 required positional arguments: 'phone_number', 'email_id', and 'student_id'"
     ]
    }
   ],
   "source": [
    "kar = pwskills1()"
   ]
  },
  {
   "cell_type": "code",
   "execution_count": 31,
   "id": "1b93aa33-b009-411e-aeda-c3bac649df48",
   "metadata": {},
   "outputs": [],
   "source": [
    "class pwskills2:\n",
    "    \n",
    "    def __init__(self , phone_number , email_id , student_id):   # __init__ is constructor\n",
    "        self.phone_number1 = phone_number\n",
    "        self.email_id1 = email_id\n",
    "        self.student_id1 = student_id\n",
    "        \n",
    "    def return_student_details(self):\n",
    "        return self.student_id1 , self.email_id1 , self.phone_number1\n",
    "    "
   ]
  },
  {
   "cell_type": "code",
   "execution_count": 34,
   "id": "9f61f445-0176-4546-ac04-0ea77e77970f",
   "metadata": {},
   "outputs": [],
   "source": [
    "saroj = pwskills2(85296374140 , \"sar@gmail.com\" , 104)"
   ]
  },
  {
   "cell_type": "code",
   "execution_count": 35,
   "id": "c2efcf1d-8547-46c5-9bcd-b61ca6b4abbe",
   "metadata": {},
   "outputs": [
    {
     "ename": "AttributeError",
     "evalue": "'pwskills2' object has no attribute 'phone_number'",
     "output_type": "error",
     "traceback": [
      "\u001b[0;31m---------------------------------------------------------------------------\u001b[0m",
      "\u001b[0;31mAttributeError\u001b[0m                            Traceback (most recent call last)",
      "Cell \u001b[0;32mIn[35], line 1\u001b[0m\n\u001b[0;32m----> 1\u001b[0m \u001b[43msaroj\u001b[49m\u001b[38;5;241;43m.\u001b[39;49m\u001b[43mphone_number\u001b[49m\n",
      "\u001b[0;31mAttributeError\u001b[0m: 'pwskills2' object has no attribute 'phone_number'"
     ]
    }
   ],
   "source": [
    "saroj.phone_number"
   ]
  },
  {
   "cell_type": "code",
   "execution_count": 36,
   "id": "9dd0aafb-1ead-44ce-b98e-a01545cda593",
   "metadata": {},
   "outputs": [
    {
     "data": {
      "text/plain": [
       "85296374140"
      ]
     },
     "execution_count": 36,
     "metadata": {},
     "output_type": "execute_result"
    }
   ],
   "source": [
    "saroj.phone_number1"
   ]
  },
  {
   "cell_type": "code",
   "execution_count": 37,
   "id": "a0b3940a-6c34-4c8d-8edd-b7be592b2fd5",
   "metadata": {},
   "outputs": [
    {
     "ename": "AttributeError",
     "evalue": "'pwskills2' object has no attribute 'email_id'",
     "output_type": "error",
     "traceback": [
      "\u001b[0;31m---------------------------------------------------------------------------\u001b[0m",
      "\u001b[0;31mAttributeError\u001b[0m                            Traceback (most recent call last)",
      "Cell \u001b[0;32mIn[37], line 1\u001b[0m\n\u001b[0;32m----> 1\u001b[0m \u001b[43msaroj\u001b[49m\u001b[38;5;241;43m.\u001b[39;49m\u001b[43memail_id\u001b[49m\n",
      "\u001b[0;31mAttributeError\u001b[0m: 'pwskills2' object has no attribute 'email_id'"
     ]
    }
   ],
   "source": [
    "saroj.email_id"
   ]
  },
  {
   "cell_type": "code",
   "execution_count": 28,
   "id": "86e65b45-ac87-4139-be21-2a3240d8fcd6",
   "metadata": {},
   "outputs": [
    {
     "data": {
      "text/plain": [
       "'sar@gmail.com'"
      ]
     },
     "execution_count": 28,
     "metadata": {},
     "output_type": "execute_result"
    }
   ],
   "source": [
    "saroj.email_id1"
   ]
  },
  {
   "cell_type": "code",
   "execution_count": 38,
   "id": "d75acde5-0849-4b61-be2f-8a46c79a304c",
   "metadata": {},
   "outputs": [
    {
     "data": {
      "text/plain": [
       "(104, 'sar@gmail.com', 85296374140)"
      ]
     },
     "execution_count": 38,
     "metadata": {},
     "output_type": "execute_result"
    }
   ],
   "source": [
    "saroj.return_student_details()"
   ]
  },
  {
   "cell_type": "code",
   "execution_count": 39,
   "id": "27b76f55-6281-41d8-b879-4ccf42e20d12",
   "metadata": {},
   "outputs": [],
   "source": [
    "class pwskills3:\n",
    "    \n",
    "    def __init__(saroj , phone_number , email_id , student_id):   # __init__ is constructor\n",
    "        saroj.phone_number1 = phone_number\n",
    "        saroj.email_id1 = email_id\n",
    "        saroj.student_id1 = student_id\n",
    "        \n",
    "    def return_student_details(saroj):\n",
    "        return saroj.student_id1 , saroj.email_id1 , saroj.phone_number1\n",
    "    "
   ]
  },
  {
   "cell_type": "code",
   "execution_count": 40,
   "id": "0625e4b3-cb47-488b-9264-df62494e039a",
   "metadata": {},
   "outputs": [],
   "source": [
    "man = pwskills3(1258746052 , \"man@gmail.com\" , 450)"
   ]
  },
  {
   "cell_type": "code",
   "execution_count": 42,
   "id": "f5a6f941-7a65-4731-8e5b-d23a76caf4a0",
   "metadata": {},
   "outputs": [
    {
     "data": {
      "text/plain": [
       "1258746052"
      ]
     },
     "execution_count": 42,
     "metadata": {},
     "output_type": "execute_result"
    }
   ],
   "source": [
    "man.phone_number1"
   ]
  },
  {
   "cell_type": "code",
   "execution_count": 43,
   "id": "8ef2ef1f-de93-4893-8fa4-586bc8d8d863",
   "metadata": {},
   "outputs": [
    {
     "data": {
      "text/plain": [
       "(450, 'man@gmail.com', 1258746052)"
      ]
     },
     "execution_count": 43,
     "metadata": {},
     "output_type": "execute_result"
    }
   ],
   "source": [
    "man.return_student_details()"
   ]
  },
  {
   "cell_type": "code",
   "execution_count": null,
   "id": "fbb0b5b6-9d00-4f57-a1c8-585ecb187f95",
   "metadata": {},
   "outputs": [],
   "source": []
  }
 ],
 "metadata": {
  "kernelspec": {
   "display_name": "Python 3 (ipykernel)",
   "language": "python",
   "name": "python3"
  },
  "language_info": {
   "codemirror_mode": {
    "name": "ipython",
    "version": 3
   },
   "file_extension": ".py",
   "mimetype": "text/x-python",
   "name": "python",
   "nbconvert_exporter": "python",
   "pygments_lexer": "ipython3",
   "version": "3.10.8"
  }
 },
 "nbformat": 4,
 "nbformat_minor": 5
}
