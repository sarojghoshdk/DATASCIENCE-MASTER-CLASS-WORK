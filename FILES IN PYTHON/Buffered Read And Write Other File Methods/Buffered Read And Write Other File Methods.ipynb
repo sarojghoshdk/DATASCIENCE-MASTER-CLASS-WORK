{
 "cells": [
  {
   "cell_type": "markdown",
   "id": "40e0559b-ec59-4791-8abd-f989b16cd296",
   "metadata": {},
   "source": [
    "Buffered Read And Write Other File Methods"
   ]
  },
  {
   "cell_type": "code",
   "execution_count": 1,
   "id": "478ba0cc-fcb2-49d1-beaa-807b4b112350",
   "metadata": {},
   "outputs": [],
   "source": [
    "import io"
   ]
  },
  {
   "cell_type": "code",
   "execution_count": 5,
   "id": "98014348-5e70-49ae-b3db-c93dce0ec85f",
   "metadata": {},
   "outputs": [],
   "source": [
    "with open(\"test1.txt\" , \"wb\") as f :    # to write the data in buffer mode\n",
    "    file = io.BufferedWriter(f)\n",
    "    \n",
    "    file.write(b\"this is my first line\\n\")\n",
    "    file.write(b\"this is my second line\\n\")\n",
    "    file.flush()    # to close the file use this flush in buffer mode"
   ]
  },
  {
   "cell_type": "code",
   "execution_count": 11,
   "id": "b2ba17d2-af52-450c-bccc-bc3bb3c3c9e6",
   "metadata": {},
   "outputs": [
    {
     "name": "stdout",
     "output_type": "stream",
     "text": [
      "b'this is my first line\\nthis is my second line\\n'\n"
     ]
    }
   ],
   "source": [
    "with open(\"test1.txt\" , \"rb\") as f :   # to read the data\n",
    "    file = io.BufferedReader(f)\n",
    "    data = file.read(100000)\n",
    "    print(data)"
   ]
  },
  {
   "cell_type": "code",
   "execution_count": null,
   "id": "2e1f8dd9-018c-48b2-af37-8b95842ce9dc",
   "metadata": {},
   "outputs": [],
   "source": []
  }
 ],
 "metadata": {
  "kernelspec": {
   "display_name": "Python 3 (ipykernel)",
   "language": "python",
   "name": "python3"
  },
  "language_info": {
   "codemirror_mode": {
    "name": "ipython",
    "version": 3
   },
   "file_extension": ".py",
   "mimetype": "text/x-python",
   "name": "python",
   "nbconvert_exporter": "python",
   "pygments_lexer": "ipython3",
   "version": "3.10.8"
  }
 },
 "nbformat": 4,
 "nbformat_minor": 5
}
