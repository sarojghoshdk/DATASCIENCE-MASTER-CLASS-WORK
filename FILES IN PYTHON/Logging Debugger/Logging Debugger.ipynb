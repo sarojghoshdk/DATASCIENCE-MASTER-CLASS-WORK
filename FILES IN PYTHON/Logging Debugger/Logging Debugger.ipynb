{
 "cells": [
  {
   "cell_type": "markdown",
   "id": "3cf92901-711f-445e-839e-7cacb3fba8dd",
   "metadata": {},
   "source": [
    "Logging Debugger"
   ]
  },
  {
   "cell_type": "code",
   "execution_count": 1,
   "id": "59d72130-7e5f-4717-b7d6-2b8f087b088e",
   "metadata": {},
   "outputs": [
    {
     "name": "stdout",
     "output_type": "stream",
     "text": [
      "this is my print\n"
     ]
    }
   ],
   "source": [
    "print(\"this is my print\")"
   ]
  },
  {
   "cell_type": "code",
   "execution_count": 2,
   "id": "ad7c70ef-5595-4dbd-8ad7-1ec89df00359",
   "metadata": {},
   "outputs": [],
   "source": [
    "import logging"
   ]
  },
  {
   "cell_type": "code",
   "execution_count": 3,
   "id": "7dc3cba2-7e44-4f0e-96a7-7eaa7a14716c",
   "metadata": {},
   "outputs": [],
   "source": [
    "logging.basicConfig(filename = \"test.log\" , level = logging.INFO)      # basic configration of logging"
   ]
  },
  {
   "cell_type": "code",
   "execution_count": 4,
   "id": "d6928f8b-f817-478a-ad5b-7c948e5ae7ec",
   "metadata": {},
   "outputs": [],
   "source": [
    "logging.info(\"log this line for excution\")"
   ]
  },
  {
   "cell_type": "code",
   "execution_count": 5,
   "id": "532ddd3b-d788-4156-8f29-82d8dc9e0789",
   "metadata": {},
   "outputs": [],
   "source": [
    "logging.info(\"this is my print\")"
   ]
  },
  {
   "cell_type": "code",
   "execution_count": 6,
   "id": "5799523f-1744-4149-aeef-c3327bb97658",
   "metadata": {},
   "outputs": [],
   "source": [
    "logging.debug(\"this is my msg\") # it is not shows in file because file level is INFO"
   ]
  },
  {
   "cell_type": "code",
   "execution_count": 7,
   "id": "cb2f77f6-51bc-45ad-b20f-fe6c0bf6146c",
   "metadata": {},
   "outputs": [],
   "source": [
    "logging.warning(\"this is my warning\")"
   ]
  },
  {
   "cell_type": "code",
   "execution_count": 8,
   "id": "cb717728-a1cb-4197-b7c0-2ef5bf4c2281",
   "metadata": {},
   "outputs": [],
   "source": [
    "logging.error(\"this is my error\")"
   ]
  },
  {
   "cell_type": "code",
   "execution_count": 9,
   "id": "79afc884-87d9-4cb2-8a0a-9c540b9e99fa",
   "metadata": {},
   "outputs": [],
   "source": [
    "logging.critical(\"this is my critical mgs\")"
   ]
  },
  {
   "cell_type": "code",
   "execution_count": 10,
   "id": "6b4192a5-4db1-4c23-a907-d51f1508a3db",
   "metadata": {},
   "outputs": [],
   "source": [
    "logging.shutdown()"
   ]
  },
  {
   "cell_type": "markdown",
   "id": "baf61f4b-fb35-45d6-bb84-be39d0ebd0b0",
   "metadata": {},
   "source": [
    "# LEVEL OF LOGGING\n",
    "# IF LEVEL IS DEBUG THEN IT IS ACCESS DEBUG TO CRITICAL, NOTSET NOT APPLICABLE FOR THIS\n",
    "\n",
    "1. NOTSET\n",
    "2. DEBUG\n",
    "3. INFO\n",
    "4. WARNING\n",
    "5. ERROR\n",
    "6. CRITICAL"
   ]
  },
  {
   "cell_type": "code",
   "execution_count": 1,
   "id": "52fc6992-f467-49a3-b741-bcc33a3c68b3",
   "metadata": {},
   "outputs": [],
   "source": [
    "import logging"
   ]
  },
  {
   "cell_type": "code",
   "execution_count": 2,
   "id": "5159feeb-a4c7-4635-b42b-3ab9f9efdc7b",
   "metadata": {},
   "outputs": [],
   "source": [
    "logging.basicConfig(filename = \"test1.log\" , level = logging.DEBUG , format = '%(asctime)s %(message)s')"
   ]
  },
  {
   "cell_type": "code",
   "execution_count": 3,
   "id": "35956b33-9f5b-43a4-960f-ea6cae6ac4b0",
   "metadata": {},
   "outputs": [],
   "source": [
    "logging.info(\"this is my info loggingb\")\n",
    "logging.error(\"this is my error\")\n",
    "logging.critical(\"this is my critical\")"
   ]
  },
  {
   "cell_type": "code",
   "execution_count": 4,
   "id": "a19da696-788c-4263-8a3e-ebf60daadc03",
   "metadata": {},
   "outputs": [],
   "source": [
    "logging.shutdown()"
   ]
  },
  {
   "cell_type": "code",
   "execution_count": 2,
   "id": "0288f052-4291-40dd-9108-3faab083b347",
   "metadata": {},
   "outputs": [],
   "source": [
    "import logging"
   ]
  },
  {
   "cell_type": "code",
   "execution_count": 3,
   "id": "767c16e5-a47b-4a07-afcc-5d08c569223a",
   "metadata": {},
   "outputs": [],
   "source": [
    "logging.basicConfig(filename = \"test2.log\" , level = logging.DEBUG , format = '%(asctime)s %(name)s %(levelname)s %(message)s')"
   ]
  },
  {
   "cell_type": "code",
   "execution_count": 4,
   "id": "896e2cfb-f256-4081-8f40-495151867f4a",
   "metadata": {},
   "outputs": [],
   "source": [
    "logging.info(\"this is my info loggingb\")\n",
    "logging.error(\"this is my error\")\n",
    "logging.critical(\"this is my critical\")"
   ]
  },
  {
   "cell_type": "code",
   "execution_count": 5,
   "id": "26a109bc-b913-41d0-a51f-e7f9f60571c5",
   "metadata": {},
   "outputs": [],
   "source": [
    "l = [1,2,3,4,[5,6,7] ,\"saroj\" , \"ghosh\"]  # give int & str in two seperate list"
   ]
  },
  {
   "cell_type": "code",
   "execution_count": 6,
   "id": "edd6fd26-422e-4a5f-ad30-5806f1a03c7a",
   "metadata": {},
   "outputs": [],
   "source": [
    "l1_int = []\n",
    "l2_str = []\n",
    "for i in l:\n",
    "    logging.info(\"we are iterating through our list & our local var is {}\".format(1))\n",
    "    if type(i) == list:\n",
    "        logging.info(\"i am inside if statement & i am trying to check list type\" + str(i))\n",
    "        for j in i:\n",
    "            logging.info(\"i am in another for loop for list insided list element\" + str(j))\n",
    "            if type(j) == int:\n",
    "                logging.info(\"i am inside if statement\")\n",
    "                l1_int.append(j)\n",
    "    elif type(i) == int:\n",
    "        l1_int.append(i)\n",
    "    else:\n",
    "        if type(i) == str:\n",
    "            l2_str.append(i)\n",
    "            \n",
    "logging.info(\"my final result is {l1} and str is {l2}\".format(l1 = l1_int , l2 = l2_str))"
   ]
  },
  {
   "cell_type": "code",
   "execution_count": 7,
   "id": "2201ecbb-b2cf-4c02-9a9b-e839708ec9b6",
   "metadata": {},
   "outputs": [
    {
     "data": {
      "text/plain": [
       "[1, 2, 3, 4, 5, 6, 7]"
      ]
     },
     "execution_count": 7,
     "metadata": {},
     "output_type": "execute_result"
    }
   ],
   "source": [
    "l1_int"
   ]
  },
  {
   "cell_type": "code",
   "execution_count": 8,
   "id": "17b7bd74-26fd-4e6b-9d75-b6dacc31752f",
   "metadata": {},
   "outputs": [
    {
     "data": {
      "text/plain": [
       "['saroj', 'ghosh']"
      ]
     },
     "execution_count": 8,
     "metadata": {},
     "output_type": "execute_result"
    }
   ],
   "source": [
    "l2_str"
   ]
  },
  {
   "cell_type": "code",
   "execution_count": null,
   "id": "f6e319f6-059b-4a83-873d-6197926560bc",
   "metadata": {},
   "outputs": [],
   "source": []
  }
 ],
 "metadata": {
  "kernelspec": {
   "display_name": "Python 3 (ipykernel)",
   "language": "python",
   "name": "python3"
  },
  "language_info": {
   "codemirror_mode": {
    "name": "ipython",
    "version": 3
   },
   "file_extension": ".py",
   "mimetype": "text/x-python",
   "name": "python",
   "nbconvert_exporter": "python",
   "pygments_lexer": "ipython3",
   "version": "3.10.8"
  }
 },
 "nbformat": 4,
 "nbformat_minor": 5
}
