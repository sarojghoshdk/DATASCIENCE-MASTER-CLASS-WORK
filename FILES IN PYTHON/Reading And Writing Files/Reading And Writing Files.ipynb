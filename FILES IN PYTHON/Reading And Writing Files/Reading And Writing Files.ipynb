{
 "cells": [
  {
   "cell_type": "markdown",
   "id": "7cf06ebe-c54d-4110-a83f-521ab8b24177",
   "metadata": {},
   "source": [
    "Reading And Writing Files"
   ]
  },
  {
   "cell_type": "code",
   "execution_count": 5,
   "id": "571c9c4b-a1d1-4397-be53-8752a7233398",
   "metadata": {},
   "outputs": [],
   "source": [
    "data = {\n",
    "    \"name\" : \"sudh\",              # dictionary is always avaliable in json file\n",
    "    \"mail_id\" : \"sudh@gmail.com\",\n",
    "    \"phone_number\" : 20384628216,\n",
    "    \"subject\" : [\"data science\" , \"big data\" , \"data analystys\"]\n",
    "}"
   ]
  },
  {
   "cell_type": "code",
   "execution_count": 6,
   "id": "79468c67-f698-41d7-8160-b18b5ffb18b6",
   "metadata": {},
   "outputs": [],
   "source": [
    "import json"
   ]
  },
  {
   "cell_type": "code",
   "execution_count": 7,
   "id": "cb500f15-129d-44dc-99f2-66ffaf833c3a",
   "metadata": {},
   "outputs": [],
   "source": [
    "with open(\"data.json\" , \"w\") as f :\n",
    "    json.dump(data , f)"
   ]
  },
  {
   "cell_type": "code",
   "execution_count": 9,
   "id": "db9b96e8-1404-40de-aa97-f3d4da9e32a8",
   "metadata": {},
   "outputs": [],
   "source": [
    "with open(\"data.json\" , \"r\") as f :\n",
    "    data1 = json.load(f)"
   ]
  },
  {
   "cell_type": "code",
   "execution_count": 10,
   "id": "eef94ca5-89f4-4541-a2f6-48c632f22578",
   "metadata": {},
   "outputs": [
    {
     "data": {
      "text/plain": [
       "{'name': 'sudh',\n",
       " 'mail_id': 'sudh@gmail.com',\n",
       " 'phone_number': 20384628216,\n",
       " 'subject': ['data science', 'big data', 'data analystys']}"
      ]
     },
     "execution_count": 10,
     "metadata": {},
     "output_type": "execute_result"
    }
   ],
   "source": [
    "data1"
   ]
  },
  {
   "cell_type": "code",
   "execution_count": 12,
   "id": "8a2c033e-1a08-49de-aa8e-5f8386382764",
   "metadata": {},
   "outputs": [
    {
     "data": {
      "text/plain": [
       "'big data'"
      ]
     },
     "execution_count": 12,
     "metadata": {},
     "output_type": "execute_result"
    }
   ],
   "source": [
    "data1[\"subject\"][1]"
   ]
  },
  {
   "cell_type": "code",
   "execution_count": 13,
   "id": "32a35d3f-d778-4aef-ba5d-fb401fe321f1",
   "metadata": {},
   "outputs": [],
   "source": [
    "import csv    # it is for comma separated file extention"
   ]
  },
  {
   "cell_type": "code",
   "execution_count": 15,
   "id": "2ca3e9b5-1e48-44e4-9d58-614654645c30",
   "metadata": {},
   "outputs": [],
   "source": [
    "data = [[\"name\" , \"mail_id\" , \"phone_number\"],\n",
    "        [\"saroj\" , \"saroj@gmail.com\" , 63416215425],\n",
    "        [\"ram\" , \"ram@gmail.com\" , 8545625212]     \n",
    "       ]"
   ]
  },
  {
   "cell_type": "code",
   "execution_count": 16,
   "id": "728c9364-2b58-4e8b-8353-95d429cb6d92",
   "metadata": {},
   "outputs": [],
   "source": [
    "with open(\"data.csv\" , \"w\") as f :\n",
    "    writer = csv.writer(f)\n",
    "    \n",
    "    for i in data:\n",
    "        writer.writerow(i)"
   ]
  },
  {
   "cell_type": "code",
   "execution_count": 17,
   "id": "d6bbf66b-e249-4568-81a5-a80b76bdc837",
   "metadata": {},
   "outputs": [
    {
     "name": "stdout",
     "output_type": "stream",
     "text": [
      "['name', 'mail_id', 'phone_number']\n",
      "['saroj', 'saroj@gmail.com', '63416215425']\n",
      "['ram', 'ram@gmail.com', '8545625212']\n"
     ]
    }
   ],
   "source": [
    "with open(\"data.csv\" , \"r\") as f :\n",
    "    read_data = csv.reader(f)\n",
    "    \n",
    "    for i in read_data:\n",
    "        print(i)"
   ]
  },
  {
   "cell_type": "code",
   "execution_count": 18,
   "id": "c9afc138-5ebf-4232-9ecb-726ecf66ddb5",
   "metadata": {},
   "outputs": [],
   "source": [
    "with open(\"test4.bin\" , \"wb\") as f :\n",
    "    f.write(b\"\\x01\\x02\\x03\\x0215252\")"
   ]
  },
  {
   "cell_type": "code",
   "execution_count": 19,
   "id": "e1f3c2e7-1f1f-4918-bb74-231d9d33ba12",
   "metadata": {},
   "outputs": [
    {
     "name": "stdout",
     "output_type": "stream",
     "text": [
      "b'\\x01\\x02\\x03\\x0215252'\n"
     ]
    }
   ],
   "source": [
    "with open(\"test4.bin\" , \"rb\") as f :\n",
    "    print(f.read())"
   ]
  },
  {
   "cell_type": "code",
   "execution_count": null,
   "id": "1fcb58dd-3499-44b2-af3e-7757d51dcaab",
   "metadata": {},
   "outputs": [],
   "source": []
  }
 ],
 "metadata": {
  "kernelspec": {
   "display_name": "Python 3 (ipykernel)",
   "language": "python",
   "name": "python3"
  },
  "language_info": {
   "codemirror_mode": {
    "name": "ipython",
    "version": 3
   },
   "file_extension": ".py",
   "mimetype": "text/x-python",
   "name": "python",
   "nbconvert_exporter": "python",
   "pygments_lexer": "ipython3",
   "version": "3.10.8"
  }
 },
 "nbformat": 4,
 "nbformat_minor": 5
}
