{
 "cells": [
  {
   "cell_type": "markdown",
   "id": "cbfa778e-bb8f-4a43-b6de-b9c6f1e79fbc",
   "metadata": {},
   "source": [
    "POLYMORPHISM"
   ]
  },
  {
   "cell_type": "markdown",
   "id": "f230aa8e-a0de-4373-8b3c-d9f15d295a16",
   "metadata": {},
   "source": [
    "It shows multiple behaviour of a entity. one entity whose behavioure is different for different class."
   ]
  },
  {
   "cell_type": "code",
   "execution_count": 1,
   "id": "a88e4d70-dbc1-481f-99b9-b04453f65499",
   "metadata": {},
   "outputs": [],
   "source": [
    "def test(a , b):\n",
    "    return a+b"
   ]
  },
  {
   "cell_type": "code",
   "execution_count": 2,
   "id": "b9c5068b-d889-4693-9ea9-29856c189f92",
   "metadata": {},
   "outputs": [
    {
     "data": {
      "text/plain": [
       "11"
      ]
     },
     "execution_count": 2,
     "metadata": {},
     "output_type": "execute_result"
    }
   ],
   "source": [
    "test(5,6)"
   ]
  },
  {
   "cell_type": "code",
   "execution_count": 4,
   "id": "23324901-43aa-49d3-adfc-7bb43e8e8b4a",
   "metadata": {},
   "outputs": [
    {
     "data": {
      "text/plain": [
       "'saroj ghosh'"
      ]
     },
     "execution_count": 4,
     "metadata": {},
     "output_type": "execute_result"
    }
   ],
   "source": [
    "test(\"saroj \" , \"ghosh\")"
   ]
  },
  {
   "cell_type": "code",
   "execution_count": 5,
   "id": "ca5840bf-dd58-4e08-82a9-d072c4050622",
   "metadata": {},
   "outputs": [
    {
     "data": {
      "text/plain": [
       "[1, 2, 3, 4, 5, 6, 7, 8, 9]"
      ]
     },
     "execution_count": 5,
     "metadata": {},
     "output_type": "execute_result"
    }
   ],
   "source": [
    "test([1,2,3,4] , [5,6,7,8,9])"
   ]
  },
  {
   "cell_type": "code",
   "execution_count": 6,
   "id": "90f35578-1390-4e21-ba24-d63d7c77e6b2",
   "metadata": {},
   "outputs": [],
   "source": [
    "class data_science:\n",
    "    \n",
    "    def syllabus(self):\n",
    "        print(\"this is my syllubus for data science master\")"
   ]
  },
  {
   "cell_type": "code",
   "execution_count": 7,
   "id": "a91c3576-b19b-44e9-a6ee-6a79fe8f8901",
   "metadata": {},
   "outputs": [],
   "source": [
    "class web_dev:\n",
    "    \n",
    "    def syllabus(self):\n",
    "        print(\"this is my syllubus for wev dev course\")"
   ]
  },
  {
   "cell_type": "code",
   "execution_count": 8,
   "id": "2c931cea-203f-433a-8199-bbf6498eb672",
   "metadata": {},
   "outputs": [],
   "source": [
    "def class_parcer(class_obj):\n",
    "    for i in class_obj:\n",
    "        i.syllabus()"
   ]
  },
  {
   "cell_type": "code",
   "execution_count": 9,
   "id": "03de37bd-438b-4ce6-ae10-ee03b88a6543",
   "metadata": {},
   "outputs": [],
   "source": [
    "data_sci = data_science()"
   ]
  },
  {
   "cell_type": "code",
   "execution_count": 10,
   "id": "f744cc7b-68d1-4de7-a553-e81fceb262b6",
   "metadata": {},
   "outputs": [],
   "source": [
    "web_de = web_dev()"
   ]
  },
  {
   "cell_type": "code",
   "execution_count": 11,
   "id": "dbb056ca-8a81-498c-93f8-d2d485470fda",
   "metadata": {},
   "outputs": [],
   "source": [
    "class_obj = [data_sci , web_de]"
   ]
  },
  {
   "cell_type": "code",
   "execution_count": 12,
   "id": "7ff784a9-aca2-4eb7-8e37-17ef4153e641",
   "metadata": {},
   "outputs": [
    {
     "name": "stdout",
     "output_type": "stream",
     "text": [
      "this is my syllubus for data science master\n",
      "this is my syllubus for wev dev course\n"
     ]
    }
   ],
   "source": [
    "class_parcer(class_obj)"
   ]
  },
  {
   "cell_type": "code",
   "execution_count": null,
   "id": "f4dba5e3-f1e2-439a-88f6-00059157c428",
   "metadata": {},
   "outputs": [],
   "source": []
  }
 ],
 "metadata": {
  "kernelspec": {
   "display_name": "Python 3 (ipykernel)",
   "language": "python",
   "name": "python3"
  },
  "language_info": {
   "codemirror_mode": {
    "name": "ipython",
    "version": 3
   },
   "file_extension": ".py",
   "mimetype": "text/x-python",
   "name": "python",
   "nbconvert_exporter": "python",
   "pygments_lexer": "ipython3",
   "version": "3.10.8"
  }
 },
 "nbformat": 4,
 "nbformat_minor": 5
}
