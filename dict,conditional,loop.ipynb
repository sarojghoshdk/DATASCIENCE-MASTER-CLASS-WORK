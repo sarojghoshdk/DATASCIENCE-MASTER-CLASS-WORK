{
 "cells": [
  {
   "cell_type": "code",
   "execution_count": 1,
   "id": "56e4ee92-b139-483e-a15f-7700f11310fc",
   "metadata": {},
   "outputs": [],
   "source": [
    "d = {}"
   ]
  },
  {
   "cell_type": "code",
   "execution_count": 2,
   "id": "ea681d23-b93e-443a-9677-4146c4293883",
   "metadata": {},
   "outputs": [
    {
     "data": {
      "text/plain": [
       "dict"
      ]
     },
     "execution_count": 2,
     "metadata": {},
     "output_type": "execute_result"
    }
   ],
   "source": [
    "type(d)"
   ]
  },
  {
   "cell_type": "code",
   "execution_count": 3,
   "id": "b3072787-46f3-4853-887b-fb6ce408dba4",
   "metadata": {},
   "outputs": [],
   "source": [
    "d1 = {'key' : 'saroj'}"
   ]
  },
  {
   "cell_type": "code",
   "execution_count": 4,
   "id": "0e5b6d8e-9c93-4aad-8746-b29f0814cb6b",
   "metadata": {},
   "outputs": [
    {
     "data": {
      "text/plain": [
       "{'key': 'saroj'}"
      ]
     },
     "execution_count": 4,
     "metadata": {},
     "output_type": "execute_result"
    }
   ],
   "source": [
    "d1"
   ]
  },
  {
   "cell_type": "code",
   "execution_count": 5,
   "id": "c4c44bc8-9c4b-4696-b40f-529c0f8e6148",
   "metadata": {},
   "outputs": [],
   "source": [
    "d2={'name':'saroj' , 'email':'ss@gmail.com' , 'number':'5655'}"
   ]
  },
  {
   "cell_type": "code",
   "execution_count": 6,
   "id": "d9fbf070-2a48-40b3-8c15-6b2bbdc1def2",
   "metadata": {},
   "outputs": [
    {
     "data": {
      "text/plain": [
       "{'name': 'saroj', 'email': 'ss@gmail.com', 'number': '5655'}"
      ]
     },
     "execution_count": 6,
     "metadata": {},
     "output_type": "execute_result"
    }
   ],
   "source": [
    "d2"
   ]
  },
  {
   "cell_type": "code",
   "execution_count": 9,
   "id": "26dda9a2-549b-40a6-b922-59351f2e0b24",
   "metadata": {},
   "outputs": [],
   "source": [
    "d3={234:'saroj' , \"_war\":\"ghosh\" , True:24234}"
   ]
  },
  {
   "cell_type": "code",
   "execution_count": 10,
   "id": "125e43d1-9c22-4d08-a327-25cefb7019af",
   "metadata": {},
   "outputs": [
    {
     "data": {
      "text/plain": [
       "{234: 'saroj', '_war': 'ghosh', True: 24234}"
      ]
     },
     "execution_count": 10,
     "metadata": {},
     "output_type": "execute_result"
    }
   ],
   "source": [
    "d3"
   ]
  },
  {
   "cell_type": "code",
   "execution_count": 12,
   "id": "a793d41b-df4f-43d4-b82e-4c3904afdc13",
   "metadata": {},
   "outputs": [
    {
     "data": {
      "text/plain": [
       "'saroj'"
      ]
     },
     "execution_count": 12,
     "metadata": {},
     "output_type": "execute_result"
    }
   ],
   "source": [
    "d3[234]"
   ]
  },
  {
   "cell_type": "code",
   "execution_count": 13,
   "id": "32fb80a4-94ea-4664-bf4e-b574d1d56610",
   "metadata": {},
   "outputs": [
    {
     "data": {
      "text/plain": [
       "24234"
      ]
     },
     "execution_count": 13,
     "metadata": {},
     "output_type": "execute_result"
    }
   ],
   "source": [
    "d3[True]"
   ]
  },
  {
   "cell_type": "code",
   "execution_count": 14,
   "id": "001b726a-c2f4-4879-88b3-71ad7bdbd941",
   "metadata": {},
   "outputs": [
    {
     "data": {
      "text/plain": [
       "24234"
      ]
     },
     "execution_count": 14,
     "metadata": {},
     "output_type": "execute_result"
    }
   ],
   "source": [
    "d3[1]"
   ]
  },
  {
   "cell_type": "code",
   "execution_count": 16,
   "id": "c8e511e9-7053-4f40-ba43-fcdc65c7befe",
   "metadata": {},
   "outputs": [],
   "source": [
    "d4={\"name\":\"saroj\" , \"mail_id\":\"ss@gmail.com\" , \"name\":\"saroj_ghosh\" }"
   ]
  },
  {
   "cell_type": "code",
   "execution_count": 17,
   "id": "3a874fb5-11a2-4f9a-ab0d-a0fb729a2f4d",
   "metadata": {},
   "outputs": [
    {
     "data": {
      "text/plain": [
       "'saroj_ghosh'"
      ]
     },
     "execution_count": 17,
     "metadata": {},
     "output_type": "execute_result"
    }
   ],
   "source": [
    "d4[\"name\"]"
   ]
  },
  {
   "cell_type": "code",
   "execution_count": 18,
   "id": "cfb14bb1-d9d1-4c48-9dd5-39a0814ca75d",
   "metadata": {},
   "outputs": [],
   "source": [
    "d5 = {\"company\":\"pwskills\" , \"course\":[\"web dev\",\"data science\",\"java\"]}"
   ]
  },
  {
   "cell_type": "code",
   "execution_count": 19,
   "id": "5a323b99-9480-45e6-bc89-7915c1dd4618",
   "metadata": {},
   "outputs": [
    {
     "data": {
      "text/plain": [
       "{'company': 'pwskills', 'course': ['web dev', 'data science', 'java']}"
      ]
     },
     "execution_count": 19,
     "metadata": {},
     "output_type": "execute_result"
    }
   ],
   "source": [
    "d5"
   ]
  },
  {
   "cell_type": "code",
   "execution_count": 21,
   "id": "fdbed4bd-bc07-4f95-af0a-148a48f8a8e6",
   "metadata": {},
   "outputs": [
    {
     "data": {
      "text/plain": [
       "'java'"
      ]
     },
     "execution_count": 21,
     "metadata": {},
     "output_type": "execute_result"
    }
   ],
   "source": [
    "d5[\"course\"][2]"
   ]
  },
  {
   "cell_type": "code",
   "execution_count": 24,
   "id": "24285aeb-c369-461a-85c3-7d497d54cd91",
   "metadata": {},
   "outputs": [],
   "source": [
    "d6={\"number\":[2,3,36,12,45],\"assignment\":(1,2,3,5,4,6),\"launch_date\":{26,28,30},\"class_time\":{\"webdev\":8,\"data science\":9,\"java\":4}}"
   ]
  },
  {
   "cell_type": "code",
   "execution_count": 25,
   "id": "b3602e4f-795d-4613-a074-0c124900eec4",
   "metadata": {},
   "outputs": [
    {
     "data": {
      "text/plain": [
       "{'number': [2, 3, 36, 12, 45],\n",
       " 'assignment': (1, 2, 3, 5, 4, 6),\n",
       " 'launch_date': {26, 28, 30},\n",
       " 'class_time': {'webdev': 8, 'data science': 9, 'java': 4}}"
      ]
     },
     "execution_count": 25,
     "metadata": {},
     "output_type": "execute_result"
    }
   ],
   "source": [
    "d6"
   ]
  },
  {
   "cell_type": "code",
   "execution_count": 27,
   "id": "e2c36320-923a-407f-8461-745fbb39ec0f",
   "metadata": {},
   "outputs": [
    {
     "data": {
      "text/plain": [
       "4"
      ]
     },
     "execution_count": 27,
     "metadata": {},
     "output_type": "execute_result"
    }
   ],
   "source": [
    "d6[\"class_time\"][\"java\"]"
   ]
  },
  {
   "cell_type": "code",
   "execution_count": 28,
   "id": "5e11c56c-8bb6-48f9-9abc-78ceac0d5047",
   "metadata": {},
   "outputs": [
    {
     "data": {
      "text/plain": [
       "{'number': [2, 3, 36, 12, 45],\n",
       " 'assignment': (1, 2, 3, 5, 4, 6),\n",
       " 'launch_date': {26, 28, 30},\n",
       " 'class_time': {'webdev': 8, 'data science': 9, 'java': 4}}"
      ]
     },
     "execution_count": 28,
     "metadata": {},
     "output_type": "execute_result"
    }
   ],
   "source": [
    "d6"
   ]
  },
  {
   "cell_type": "code",
   "execution_count": 29,
   "id": "9e2543f0-5e57-4c62-bbe0-bc2fac509288",
   "metadata": {},
   "outputs": [],
   "source": [
    "d6[\"mentor\"]=[\"sudhanshu\",\"krish\",\"anurag\",\"hayed\"]"
   ]
  },
  {
   "cell_type": "code",
   "execution_count": 30,
   "id": "88ac7748-9e5c-4886-979e-3471a4980782",
   "metadata": {},
   "outputs": [
    {
     "data": {
      "text/plain": [
       "{'number': [2, 3, 36, 12, 45],\n",
       " 'assignment': (1, 2, 3, 5, 4, 6),\n",
       " 'launch_date': {26, 28, 30},\n",
       " 'class_time': {'webdev': 8, 'data science': 9, 'java': 4},\n",
       " 'mentor': ['sudhanshu', 'krish', 'anurag', 'hayed']}"
      ]
     },
     "execution_count": 30,
     "metadata": {},
     "output_type": "execute_result"
    }
   ],
   "source": [
    "d6"
   ]
  },
  {
   "cell_type": "code",
   "execution_count": 31,
   "id": "ef5fc0ec-b9a8-4ba4-86a5-f248b9716630",
   "metadata": {},
   "outputs": [],
   "source": [
    "del d6[\"number\"]"
   ]
  },
  {
   "cell_type": "code",
   "execution_count": 32,
   "id": "9fa08098-6751-4a4d-bd87-8f9eaa1789d8",
   "metadata": {},
   "outputs": [
    {
     "data": {
      "text/plain": [
       "{'assignment': (1, 2, 3, 5, 4, 6),\n",
       " 'launch_date': {26, 28, 30},\n",
       " 'class_time': {'webdev': 8, 'data science': 9, 'java': 4},\n",
       " 'mentor': ['sudhanshu', 'krish', 'anurag', 'hayed']}"
      ]
     },
     "execution_count": 32,
     "metadata": {},
     "output_type": "execute_result"
    }
   ],
   "source": [
    "d6"
   ]
  },
  {
   "cell_type": "code",
   "execution_count": 34,
   "id": "79df90b3-9d5c-4dba-a0c1-bb1f4bc50da2",
   "metadata": {},
   "outputs": [
    {
     "data": {
      "text/plain": [
       "['assignment', 'launch_date', 'class_time', 'mentor']"
      ]
     },
     "execution_count": 34,
     "metadata": {},
     "output_type": "execute_result"
    }
   ],
   "source": [
    "list(d6.keys())"
   ]
  },
  {
   "cell_type": "code",
   "execution_count": 36,
   "id": "a7b910ac-9c35-490e-87b3-84e38c0e2e5c",
   "metadata": {},
   "outputs": [
    {
     "data": {
      "text/plain": [
       "[(1, 2, 3, 5, 4, 6),\n",
       " {26, 28, 30},\n",
       " {'webdev': 8, 'data science': 9, 'java': 4},\n",
       " ['sudhanshu', 'krish', 'anurag', 'hayed']]"
      ]
     },
     "execution_count": 36,
     "metadata": {},
     "output_type": "execute_result"
    }
   ],
   "source": [
    "list(d6.values())"
   ]
  },
  {
   "cell_type": "code",
   "execution_count": 38,
   "id": "32864365-d251-4ee7-8105-c23f93b0d6b7",
   "metadata": {},
   "outputs": [
    {
     "data": {
      "text/plain": [
       "[('assignment', (1, 2, 3, 5, 4, 6)),\n",
       " ('launch_date', {26, 28, 30}),\n",
       " ('class_time', {'webdev': 8, 'data science': 9, 'java': 4}),\n",
       " ('mentor', ['sudhanshu', 'krish', 'anurag', 'hayed'])]"
      ]
     },
     "execution_count": 38,
     "metadata": {},
     "output_type": "execute_result"
    }
   ],
   "source": [
    "list(d6.items())"
   ]
  },
  {
   "cell_type": "code",
   "execution_count": 39,
   "id": "2ee70766-2d91-4748-b9e4-5079bbb08345",
   "metadata": {},
   "outputs": [
    {
     "data": {
      "text/plain": [
       "(1, 2, 3, 5, 4, 6)"
      ]
     },
     "execution_count": 39,
     "metadata": {},
     "output_type": "execute_result"
    }
   ],
   "source": [
    "d6.pop('assignment')"
   ]
  },
  {
   "cell_type": "code",
   "execution_count": 40,
   "id": "f79f51ec-79cd-40f7-8447-60da2ae2e59a",
   "metadata": {},
   "outputs": [
    {
     "data": {
      "text/plain": [
       "{'launch_date': {26, 28, 30},\n",
       " 'class_time': {'webdev': 8, 'data science': 9, 'java': 4},\n",
       " 'mentor': ['sudhanshu', 'krish', 'anurag', 'hayed']}"
      ]
     },
     "execution_count": 40,
     "metadata": {},
     "output_type": "execute_result"
    }
   ],
   "source": [
    "d6"
   ]
  },
  {
   "cell_type": "code",
   "execution_count": 41,
   "id": "e27822d6-8431-471d-8a78-ee4007a7769b",
   "metadata": {},
   "outputs": [
    {
     "ename": "TypeError",
     "evalue": "pop expected at least 1 argument, got 0",
     "output_type": "error",
     "traceback": [
      "\u001b[0;31m---------------------------------------------------------------------------\u001b[0m",
      "\u001b[0;31mTypeError\u001b[0m                                 Traceback (most recent call last)",
      "Cell \u001b[0;32mIn[41], line 1\u001b[0m\n\u001b[0;32m----> 1\u001b[0m \u001b[43md6\u001b[49m\u001b[38;5;241;43m.\u001b[39;49m\u001b[43mpop\u001b[49m\u001b[43m(\u001b[49m\u001b[43m)\u001b[49m\n",
      "\u001b[0;31mTypeError\u001b[0m: pop expected at least 1 argument, got 0"
     ]
    }
   ],
   "source": [
    "d6.pop()"
   ]
  },
  {
   "cell_type": "code",
   "execution_count": 45,
   "id": "bbaec2fe-cc17-4f8c-9bb4-16224bc8d2a0",
   "metadata": {},
   "outputs": [
    {
     "name": "stdin",
     "output_type": "stream",
     "text": [
      "enter your marks: 100\n"
     ]
    },
    {
     "name": "stdout",
     "output_type": "stream",
     "text": [
      "you will be a part of A0 batch\n"
     ]
    }
   ],
   "source": [
    "marks =  int(input(\"enter your marks:\"))\n",
    "if marks >= 80:\n",
    "    print(\"you will be a part of A0 batch\")\n",
    "elif marks >= 60 and marks < 80:\n",
    "    print(\"you will be a part of A1 batch\")\n",
    "elif marks >= 40 and marks < 60:\n",
    "    print(\"you will be a part of A2 batch\")\n",
    "else:\n",
    "    print(\"you will be part of A3 batch\")"
   ]
  },
  {
   "cell_type": "code",
   "execution_count": 46,
   "id": "595c4856-ad00-4dee-9e2e-bb8c6a12bda5",
   "metadata": {},
   "outputs": [
    {
     "name": "stdin",
     "output_type": "stream",
     "text": [
      "enter price: 500\n"
     ]
    },
    {
     "name": "stdout",
     "output_type": "stream",
     "text": [
      "i will purches\n"
     ]
    }
   ],
   "source": [
    "price=int(input(\"enter price:\"))\n",
    "if price > 1000:\n",
    "    print(\"i will not purches\")\n",
    "else:\n",
    "    print(\"i will purches\")"
   ]
  },
  {
   "cell_type": "code",
   "execution_count": 53,
   "id": "26c8a8a6-2c16-4f97-be8f-fe0fbeea5578",
   "metadata": {},
   "outputs": [
    {
     "name": "stdin",
     "output_type": "stream",
     "text": [
      "enter price: 500\n"
     ]
    },
    {
     "name": "stdout",
     "output_type": "stream",
     "text": [
      "i will purches\n"
     ]
    }
   ],
   "source": [
    "price=int(input(\"enter price:\"))\n",
    "if price > 1000:\n",
    "    print(\"i will not purches\")\n",
    "    if price > 5000:\n",
    "        print(\"this is too much\")\n",
    "    elif price < 2000:\n",
    "        print(\"its ok\")\n",
    "elif price < 1000:\n",
    "    print(\"i will purches\")\n",
    "else:\n",
    "    print(\"not interested\")"
   ]
  },
  {
   "cell_type": "code",
   "execution_count": null,
   "id": "7f690b81-09af-4bb4-a7ec-a613b67b0164",
   "metadata": {},
   "outputs": [],
   "source": [
    "l=[1,2,3,4,5,6,7,8]"
   ]
  },
  {
   "cell_type": "code",
   "execution_count": 59,
   "id": "cfec8cca-1ccc-4f82-b665-c29988168f2b",
   "metadata": {},
   "outputs": [
    {
     "name": "stdout",
     "output_type": "stream",
     "text": [
      "1\n",
      "2\n",
      "3\n",
      "4\n",
      "5\n",
      "6\n",
      "7\n",
      "8\n"
     ]
    },
    {
     "data": {
      "text/plain": [
       "[2, 3, 4, 5, 6, 7, 8, 9]"
      ]
     },
     "execution_count": 59,
     "metadata": {},
     "output_type": "execute_result"
    }
   ],
   "source": [
    "l1=[]\n",
    "for i in l:\n",
    "    print(i)\n",
    "    l1.append(i+1)\n",
    "l1"
   ]
  },
  {
   "cell_type": "code",
   "execution_count": 60,
   "id": "6072acbf-5f7d-408f-b964-5000667903bd",
   "metadata": {},
   "outputs": [
    {
     "data": {
      "text/plain": [
       "[1, 2, 3, 4, 5, 6, 7, 8]"
      ]
     },
     "execution_count": 60,
     "metadata": {},
     "output_type": "execute_result"
    }
   ],
   "source": [
    "l"
   ]
  },
  {
   "cell_type": "code",
   "execution_count": 61,
   "id": "fc1c4e43-4968-4619-9a18-60170e0f3b79",
   "metadata": {},
   "outputs": [],
   "source": [
    "l=[\"saroj\",\"ghosh\",\"pwskills\",\"course\"]"
   ]
  },
  {
   "cell_type": "code",
   "execution_count": 62,
   "id": "446603be-7fb3-41d5-a6f7-f5353c50e55a",
   "metadata": {},
   "outputs": [
    {
     "name": "stdout",
     "output_type": "stream",
     "text": [
      "saroj\n",
      "ghosh\n",
      "pwskills\n",
      "course\n"
     ]
    }
   ],
   "source": [
    "l1=[]\n",
    "for i in l:\n",
    "    print(i)\n",
    "    l1.append(i.upper())"
   ]
  },
  {
   "cell_type": "code",
   "execution_count": 63,
   "id": "7724c193-cc6d-4cb1-9e4c-c82e0d6d4298",
   "metadata": {},
   "outputs": [
    {
     "data": {
      "text/plain": [
       "['SAROJ', 'GHOSH', 'PWSKILLS', 'COURSE']"
      ]
     },
     "execution_count": 63,
     "metadata": {},
     "output_type": "execute_result"
    }
   ],
   "source": [
    "l1"
   ]
  },
  {
   "cell_type": "code",
   "execution_count": 64,
   "id": "b1cc8ba5-7a0b-4082-8bee-c91639385af4",
   "metadata": {},
   "outputs": [],
   "source": [
    "l=[1,2,3,4, 4,\"saroj\",\"ghosh\",324,12.3,\"anb\"]"
   ]
  },
  {
   "cell_type": "code",
   "execution_count": 65,
   "id": "68ecaa24-1bac-47a4-9a7b-15b1ad92829e",
   "metadata": {},
   "outputs": [],
   "source": [
    "l1_num=[]\n",
    "l2_str=[]\n",
    "for i in l:\n",
    "    if type(i) == int or type(i) == float:\n",
    "        l1_num.append(i)\n",
    "    else:\n",
    "        l2_str.append(i)"
   ]
  },
  {
   "cell_type": "code",
   "execution_count": 66,
   "id": "e0601735-0bd8-43d6-aa6a-92a3bd03ca21",
   "metadata": {},
   "outputs": [
    {
     "data": {
      "text/plain": [
       "[1, 2, 3, 4, 4, 324, 12.3]"
      ]
     },
     "execution_count": 66,
     "metadata": {},
     "output_type": "execute_result"
    }
   ],
   "source": [
    "l1_num"
   ]
  },
  {
   "cell_type": "code",
   "execution_count": 67,
   "id": "8dae2350-05cc-4ac2-b0c0-99629d2c96bb",
   "metadata": {},
   "outputs": [
    {
     "data": {
      "text/plain": [
       "['saroj', 'ghosh', 'anb']"
      ]
     },
     "execution_count": 67,
     "metadata": {},
     "output_type": "execute_result"
    }
   ],
   "source": [
    "l2_str"
   ]
  },
  {
   "cell_type": "code",
   "execution_count": null,
   "id": "c72bf8de-de52-43e7-a4dd-09f7b660aefc",
   "metadata": {},
   "outputs": [],
   "source": []
  }
 ],
 "metadata": {
  "kernelspec": {
   "display_name": "Python 3 (ipykernel)",
   "language": "python",
   "name": "python3"
  },
  "language_info": {
   "codemirror_mode": {
    "name": "ipython",
    "version": 3
   },
   "file_extension": ".py",
   "mimetype": "text/x-python",
   "name": "python",
   "nbconvert_exporter": "python",
   "pygments_lexer": "ipython3",
   "version": "3.10.8"
  }
 },
 "nbformat": 4,
 "nbformat_minor": 5
}
