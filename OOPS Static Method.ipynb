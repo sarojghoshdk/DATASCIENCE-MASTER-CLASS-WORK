{
 "cells": [
  {
   "cell_type": "markdown",
   "id": "2f53fd91-f80c-48f3-8c1c-ea1de53b6955",
   "metadata": {},
   "source": [
    "STATIC METHOD"
   ]
  },
  {
   "cell_type": "code",
   "execution_count": 1,
   "id": "a58f4cc6-6382-4163-8f5c-38f53538e0ca",
   "metadata": {},
   "outputs": [],
   "source": [
    "class pwskills:\n",
    "    \n",
    "    def student_details(self , name , mail , number):\n",
    "        print(name , mail , number)"
   ]
  },
  {
   "cell_type": "code",
   "execution_count": 2,
   "id": "d05d9655-e7a0-4066-8d5f-c73c9a71f7db",
   "metadata": {},
   "outputs": [],
   "source": [
    "pw = pwskills()"
   ]
  },
  {
   "cell_type": "code",
   "execution_count": 3,
   "id": "5932c939-e883-45d0-bf5e-3c3e25159839",
   "metadata": {},
   "outputs": [
    {
     "name": "stdout",
     "output_type": "stream",
     "text": [
      "ram roy ram@gmail.com 9102582525\n"
     ]
    }
   ],
   "source": [
    "pw.student_details(\"ram roy\" , \"ram@gmail.com\" , 9102582525)"
   ]
  },
  {
   "cell_type": "code",
   "execution_count": 13,
   "id": "059b5c11-ac40-4dc6-8ecc-2adc06d02fe1",
   "metadata": {},
   "outputs": [],
   "source": [
    "class pwskills1:\n",
    "    \n",
    "    def student_details(self , name , mail , number):\n",
    "        print(name , mail , number)\n",
    "    \n",
    "    @staticmethod\n",
    "    def mentor_class(list_mentor):        # this function is called static function\n",
    "        print(list_mentor)             # if it is repatidely use for all object then it is better to use staticmethode\n",
    "        \n",
    "    def mentor(self , mentor_list):     # without static func this funciton is called for each object when it is same for all student it is waste of memory\n",
    "        print(mentor_list)              # this function is called instance function"
   ]
  },
  {
   "cell_type": "code",
   "execution_count": 5,
   "id": "96041811-aeb2-4054-bf90-b2f21100c262",
   "metadata": {},
   "outputs": [
    {
     "name": "stdout",
     "output_type": "stream",
     "text": [
      "['sudh', 'krish']\n"
     ]
    }
   ],
   "source": [
    "pwskills1.mentor_class([\"sudh\" , \"krish\"])"
   ]
  },
  {
   "cell_type": "code",
   "execution_count": 7,
   "id": "4be1498e-79d0-4f5b-988c-ed799a899dda",
   "metadata": {},
   "outputs": [],
   "source": [
    "stu1 = pwskills1()"
   ]
  },
  {
   "cell_type": "code",
   "execution_count": 8,
   "id": "e447798d-9a64-4cac-bae5-b15c3002e1d5",
   "metadata": {},
   "outputs": [],
   "source": [
    "stu2 = pwskills1()"
   ]
  },
  {
   "cell_type": "code",
   "execution_count": 9,
   "id": "1871d3b8-8141-4864-92bf-704dacc7365d",
   "metadata": {},
   "outputs": [],
   "source": [
    "stu3 = pwskills1()"
   ]
  },
  {
   "cell_type": "code",
   "execution_count": 10,
   "id": "e57cfd1f-98de-4966-a481-bc6d536f5361",
   "metadata": {},
   "outputs": [
    {
     "name": "stdout",
     "output_type": "stream",
     "text": [
      "['sudh', 'krish']\n"
     ]
    }
   ],
   "source": [
    "stu1.mentor([\"sudh\" , \"krish\"])"
   ]
  },
  {
   "cell_type": "code",
   "execution_count": 20,
   "id": "fbe5231d-22f0-49d6-8d86-7f002ea30276",
   "metadata": {},
   "outputs": [],
   "source": [
    "class pwskills2:\n",
    "    \n",
    "    def student_details(self , name , mail , number):  # it is instance function\n",
    "        print(name , mail , number)\n",
    "    \n",
    "    @staticmethod\n",
    "    def mentor_mail_id(mentor_mail_id):        # this function is called static function\n",
    "        print(mentor_mail_id) \n",
    "    \n",
    "    @staticmethod\n",
    "    def mentor_class(list_mentor):        # this function is called static function\n",
    "        pwskills2.mentor_mail_id([\"sudh@gmail.com\" , \"krish@gmail.com\"])    # static func is called under a static func means mentor_mail_id is called in mentor_class\n",
    "        print(list_mentor)             # if it is repatidely use for all object then it is better to use staticmethode\n",
    "        \n",
    "    @classmethod\n",
    "    def class_name(cls):      # in this function staticmethod is used in a classmethode or fumc\n",
    "        cls.mentor_class([\"sudh\" , \"krish\"])     # here in the class methode we call static method\n",
    "        \n",
    "    def mentor(self , mentor_list):     # without static func this funciton is called for each object when it is same for all student it is waste of memory\n",
    "        print(mentor_list)              # this function is called instance function\n",
    "        self.mentor_class([\"sudh\" , \"krish\"])      # use static method in instance function"
   ]
  },
  {
   "cell_type": "code",
   "execution_count": 17,
   "id": "5362d793-51ea-40c0-9e67-b6bf5f9a972f",
   "metadata": {},
   "outputs": [
    {
     "name": "stdout",
     "output_type": "stream",
     "text": [
      "['sudh', 'krish']\n"
     ]
    }
   ],
   "source": [
    "pwskills2.class_name()"
   ]
  },
  {
   "cell_type": "code",
   "execution_count": 19,
   "id": "b9c84902-19b8-4543-bdd9-54d43d78eba8",
   "metadata": {},
   "outputs": [
    {
     "name": "stdout",
     "output_type": "stream",
     "text": [
      "['sudh@gmail.com', 'krish@gmail.com']\n",
      "['sudh', 'krish']\n"
     ]
    }
   ],
   "source": [
    "pwskills2.mentor_class([\"sudh\" , \"krish\"])"
   ]
  },
  {
   "cell_type": "code",
   "execution_count": 21,
   "id": "9be402e7-1da0-4435-b316-a73a471b8cee",
   "metadata": {},
   "outputs": [],
   "source": [
    "pw = pwskills2()"
   ]
  },
  {
   "cell_type": "code",
   "execution_count": 23,
   "id": "89eb08db-470a-40ac-8294-02902f377b9f",
   "metadata": {},
   "outputs": [
    {
     "name": "stdout",
     "output_type": "stream",
     "text": [
      "['sudh', 'krish']\n",
      "['sudh@gmail.com', 'krish@gmail.com']\n",
      "['sudh', 'krish']\n"
     ]
    }
   ],
   "source": [
    "pw.mentor([\"sudh\" , \"krish\"])"
   ]
  },
  {
   "cell_type": "code",
   "execution_count": null,
   "id": "f5625eeb-68a8-4cb3-9f22-750eee66b20e",
   "metadata": {},
   "outputs": [],
   "source": []
  }
 ],
 "metadata": {
  "kernelspec": {
   "display_name": "Python 3 (ipykernel)",
   "language": "python",
   "name": "python3"
  },
  "language_info": {
   "codemirror_mode": {
    "name": "ipython",
    "version": 3
   },
   "file_extension": ".py",
   "mimetype": "text/x-python",
   "name": "python",
   "nbconvert_exporter": "python",
   "pygments_lexer": "ipython3",
   "version": "3.10.8"
  }
 },
 "nbformat": 4,
 "nbformat_minor": 5
}
