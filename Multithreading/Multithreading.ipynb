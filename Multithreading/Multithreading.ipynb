{
 "cells": [
  {
   "cell_type": "code",
   "execution_count": 1,
   "id": "9bbbe858-7fc3-45f7-8ed3-72e4e90cb479",
   "metadata": {},
   "outputs": [],
   "source": [
    "import threading"
   ]
  },
  {
   "cell_type": "code",
   "execution_count": 3,
   "id": "fcb91873-4f73-4722-a53d-3054755e9673",
   "metadata": {},
   "outputs": [],
   "source": [
    "def test(id):\n",
    "    print(\"prog start %d\" %id)"
   ]
  },
  {
   "cell_type": "code",
   "execution_count": 4,
   "id": "fd2be27a-0de9-439d-922e-dc8a7cfd90bc",
   "metadata": {},
   "outputs": [
    {
     "name": "stdout",
     "output_type": "stream",
     "text": [
      "prog start 45\n"
     ]
    }
   ],
   "source": [
    "test(45)"
   ]
  },
  {
   "cell_type": "code",
   "execution_count": 5,
   "id": "162269bd-29cb-4f28-b21b-229e36d78169",
   "metadata": {},
   "outputs": [],
   "source": [
    "thread = [threading.Thread(target = test , args = (i,))for i in range(10)]"
   ]
  },
  {
   "cell_type": "code",
   "execution_count": 6,
   "id": "827ccab9-b8fe-4eb7-89e4-48f9aab31157",
   "metadata": {},
   "outputs": [
    {
     "name": "stdout",
     "output_type": "stream",
     "text": [
      "prog start 0\n",
      "prog start 1\n",
      "prog start 2\n",
      "prog start 3\n",
      "prog start 4\n",
      "prog start 5\n",
      "prog start 6\n",
      "prog start 7\n",
      "prog start 8\n",
      "prog start 9\n"
     ]
    }
   ],
   "source": [
    "for t in thread :\n",
    "    t.start()"
   ]
  },
  {
   "cell_type": "code",
   "execution_count": 7,
   "id": "f97e6a3f-57f3-4f35-8a47-843d3314945e",
   "metadata": {},
   "outputs": [
    {
     "data": {
      "text/plain": [
       "[<Thread(Thread-5 (test), stopped 139724815595072)>,\n",
       " <Thread(Thread-6 (test), stopped 139724815595072)>,\n",
       " <Thread(Thread-7 (test), stopped 139724815595072)>,\n",
       " <Thread(Thread-8 (test), stopped 139724815595072)>,\n",
       " <Thread(Thread-9 (test), stopped 139724815595072)>,\n",
       " <Thread(Thread-10 (test), stopped 139724815595072)>,\n",
       " <Thread(Thread-11 (test), stopped 139724815595072)>,\n",
       " <Thread(Thread-12 (test), stopped 139724815595072)>,\n",
       " <Thread(Thread-13 (test), stopped 139724815595072)>,\n",
       " <Thread(Thread-14 (test), stopped 139724815595072)>]"
      ]
     },
     "execution_count": 7,
     "metadata": {},
     "output_type": "execute_result"
    }
   ],
   "source": [
    "thread"
   ]
  },
  {
   "cell_type": "code",
   "execution_count": 8,
   "id": "6a9a39e6-fa7e-4b63-846e-36b31ccd3a47",
   "metadata": {},
   "outputs": [
    {
     "data": {
      "text/plain": [
       "139725157576896"
      ]
     },
     "execution_count": 8,
     "metadata": {},
     "output_type": "execute_result"
    }
   ],
   "source": [
    "id(thread)"
   ]
  },
  {
   "cell_type": "code",
   "execution_count": 10,
   "id": "d6e4c220-007f-4c80-adb2-cecedd1f7b6d",
   "metadata": {},
   "outputs": [],
   "source": [
    "import threading\n",
    "import urllib.request\n",
    "\n",
    "def file_download(url , filname) :\n",
    "    urllib.request.urlretrieve(url , filname)"
   ]
  },
  {
   "cell_type": "code",
   "execution_count": 11,
   "id": "1d2782dd-fa5a-403a-9861-b492e769145f",
   "metadata": {},
   "outputs": [],
   "source": [
    "file_download('https://raw.githubusercontent.com/itsfoss/text-files/master/agatha.txt', \"text.txt\")"
   ]
  },
  {
   "cell_type": "code",
   "execution_count": 13,
   "id": "90bc4d3b-2caa-47db-95cb-962be7bd6a40",
   "metadata": {},
   "outputs": [],
   "source": [
    "url_list = ['https://raw.githubusercontent.com/itsfoss/text-files/master/agatha.txt' , 'https://raw.githubusercontent.com/itsfoss/text-files/master/sherlock.txt','https://raw.githubusercontent.com/itsfoss/text-files/master/sample_log_file.txt']"
   ]
  },
  {
   "cell_type": "code",
   "execution_count": 14,
   "id": "ebd1f489-d14e-4397-b9cc-f6c15878b803",
   "metadata": {},
   "outputs": [
    {
     "data": {
      "text/plain": [
       "['https://raw.githubusercontent.com/itsfoss/text-files/master/agatha.txt',\n",
       " 'https://raw.githubusercontent.com/itsfoss/text-files/master/sherlock.txt',\n",
       " 'https://raw.githubusercontent.com/itsfoss/text-files/master/sample_log_file.txt']"
      ]
     },
     "execution_count": 14,
     "metadata": {},
     "output_type": "execute_result"
    }
   ],
   "source": [
    "url_list"
   ]
  },
  {
   "cell_type": "code",
   "execution_count": 15,
   "id": "7bf03b43-2b86-4ca5-a803-c41ac1119ce2",
   "metadata": {},
   "outputs": [],
   "source": [
    "file_name_list = ['data1.txt' , 'data2.txt' , 'data3.txt']"
   ]
  },
  {
   "cell_type": "code",
   "execution_count": 26,
   "id": "d09b8f0d-731a-4df1-b0dd-a971f7db427d",
   "metadata": {},
   "outputs": [],
   "source": [
    "ther = [threading.Thread(target = file_download , args = (url_list[i] , file_name_list[i]) ) for i in range(len(url_list))]"
   ]
  },
  {
   "cell_type": "code",
   "execution_count": 27,
   "id": "2b32e40c-3e33-41a5-8574-f86b61acda54",
   "metadata": {},
   "outputs": [
    {
     "data": {
      "text/plain": [
       "[<Thread(Thread-15 (file_download), initial)>,\n",
       " <Thread(Thread-16 (file_download), initial)>,\n",
       " <Thread(Thread-17 (file_download), initial)>]"
      ]
     },
     "execution_count": 27,
     "metadata": {},
     "output_type": "execute_result"
    }
   ],
   "source": [
    "ther"
   ]
  },
  {
   "cell_type": "code",
   "execution_count": 28,
   "id": "70405ec8-046a-46a8-ad02-4175647e032e",
   "metadata": {},
   "outputs": [],
   "source": [
    "for t in ther :\n",
    "    t.start()"
   ]
  },
  {
   "cell_type": "code",
   "execution_count": 29,
   "id": "5359ee13-b5b4-4912-adaa-943132d268a9",
   "metadata": {},
   "outputs": [],
   "source": [
    "import time"
   ]
  },
  {
   "cell_type": "code",
   "execution_count": 44,
   "id": "7c2aa87c-ad59-4452-ac1b-cb4d57ccac3d",
   "metadata": {},
   "outputs": [],
   "source": [
    "def test1(id) :\n",
    "    for i in range(10):\n",
    "        print(\"test1 %d printing %d\" %(id,i))\n",
    "        time.sleep(1)"
   ]
  },
  {
   "cell_type": "code",
   "execution_count": 32,
   "id": "8a46318b-0494-43a9-a084-79e5470cc21e",
   "metadata": {},
   "outputs": [
    {
     "name": "stdout",
     "output_type": "stream",
     "text": [
      "test1 1 printing 0\n",
      "test1 1 printing 1\n",
      "test1 1 printing 2\n",
      "test1 1 printing 3\n",
      "test1 1 printing 4\n",
      "test1 1 printing 5\n",
      "test1 1 printing 6\n",
      "test1 1 printing 7\n",
      "test1 1 printing 8\n",
      "test1 1 printing 9\n"
     ]
    }
   ],
   "source": [
    "test1(1)"
   ]
  },
  {
   "cell_type": "code",
   "execution_count": 45,
   "id": "33765d7c-69e5-40ec-bd83-0d7a67e81453",
   "metadata": {},
   "outputs": [],
   "source": [
    "thread1 = [threading.Thread(target = test1 , args = (i,)) for i in range(3)]"
   ]
  },
  {
   "cell_type": "code",
   "execution_count": 46,
   "id": "e12106c1-d2b0-45f9-96eb-d6c805359dac",
   "metadata": {},
   "outputs": [
    {
     "name": "stdout",
     "output_type": "stream",
     "text": [
      "test1 0 printing 0\n",
      "test1 1 printing 0\n",
      "test1 2 printing 0\n",
      "test1 0 printing 1test1 2 printing 1\n",
      "test1 1 printing 1\n",
      "\n",
      "test1 2 printing 2\n",
      "test1 0 printing 2\n",
      "test1 1 printing 2\n",
      "test1 2 printing 3\n",
      "test1 1 printing 3\n",
      "test1 0 printing 3\n",
      "test1 2 printing 4\n",
      "test1 1 printing 4\n",
      "test1 0 printing 4\n",
      "test1 2 printing 5\n",
      "test1 1 printing 5\n",
      "test1 0 printing 5\n",
      "test1 2 printing 6\n",
      "test1 1 printing 6\n",
      "test1 0 printing 6\n",
      "test1 2 printing 7\n",
      "test1 0 printing 7\n",
      "test1 1 printing 7\n",
      "test1 2 printing 8\n",
      "test1 0 printing 8\n",
      "test1 1 printing 8\n",
      "test1 2 printing 9\n",
      "test1 1 printing 9\n",
      "test1 0 printing 9\n"
     ]
    }
   ],
   "source": [
    "for t in thread1 :\n",
    "    t.start()"
   ]
  },
  {
   "cell_type": "code",
   "execution_count": 67,
   "id": "84e29f1b-7078-4911-890b-b534774b8aeb",
   "metadata": {},
   "outputs": [],
   "source": [
    "import time"
   ]
  },
  {
   "cell_type": "code",
   "execution_count": 68,
   "id": "bd1647fe-7fd9-481a-9649-cf506d8a25dc",
   "metadata": {},
   "outputs": [],
   "source": [
    "def test2(id) :\n",
    "    for i in range(10):\n",
    "        print(\"test1 %d printing %d %s\" %(id,i,time.ctime()))\n",
    "        time.sleep(1)"
   ]
  },
  {
   "cell_type": "code",
   "execution_count": 63,
   "id": "50a9090c-583b-42ae-8f50-a7e439a18728",
   "metadata": {},
   "outputs": [
    {
     "name": "stdout",
     "output_type": "stream",
     "text": [
      "test1 0 printing 0 Wed Mar 29 18:28:00 2023\n",
      "test1 0 printing 1 Wed Mar 29 18:28:01 2023\n",
      "test1 0 printing 2 Wed Mar 29 18:28:02 2023\n",
      "test1 0 printing 3 Wed Mar 29 18:28:03 2023\n",
      "test1 0 printing 4 Wed Mar 29 18:28:04 2023\n",
      "test1 0 printing 5 Wed Mar 29 18:28:05 2023\n",
      "test1 0 printing 6 Wed Mar 29 18:28:06 2023\n",
      "test1 0 printing 7 Wed Mar 29 18:28:07 2023\n",
      "test1 0 printing 8 Wed Mar 29 18:28:08 2023\n",
      "test1 0 printing 9 Wed Mar 29 18:28:09 2023\n"
     ]
    }
   ],
   "source": [
    "test2(0)"
   ]
  },
  {
   "cell_type": "code",
   "execution_count": 71,
   "id": "98bf6959-223d-4139-9cf0-69bbffeac597",
   "metadata": {},
   "outputs": [],
   "source": [
    "thread2 = [threading.Thread(target = test2 , args = (i,)) for i in range(3)]"
   ]
  },
  {
   "cell_type": "code",
   "execution_count": 72,
   "id": "c684294c-1837-41c5-b488-40e1373f8c0f",
   "metadata": {},
   "outputs": [
    {
     "name": "stdout",
     "output_type": "stream",
     "text": [
      "test1 0 printing 0 Wed Mar 29 18:29:32 2023\n",
      "test1 1 printing 0 Wed Mar 29 18:29:32 2023\n",
      "test1 2 printing 0 Wed Mar 29 18:29:32 2023\n",
      "test1 1 printing 1 Wed Mar 29 18:29:33 2023\n",
      "test1 2 printing 1 Wed Mar 29 18:29:33 2023\n",
      "test1 0 printing 1 Wed Mar 29 18:29:33 2023\n",
      "test1 1 printing 2 Wed Mar 29 18:29:34 2023test1 2 printing 2 Wed Mar 29 18:29:34 2023\n",
      "test1 0 printing 2 Wed Mar 29 18:29:34 2023\n",
      "\n",
      "test1 2 printing 3 Wed Mar 29 18:29:35 2023\n",
      "test1 0 printing 3 Wed Mar 29 18:29:35 2023\n",
      "test1 1 printing 3 Wed Mar 29 18:29:35 2023\n",
      "test1 2 printing 4 Wed Mar 29 18:29:36 2023test1 0 printing 4 Wed Mar 29 18:29:36 2023\n",
      "\n",
      "test1 1 printing 4 Wed Mar 29 18:29:36 2023\n",
      "test1 0 printing 5 Wed Mar 29 18:29:37 2023test1 2 printing 5 Wed Mar 29 18:29:37 2023\n",
      "\n",
      "test1 1 printing 5 Wed Mar 29 18:29:37 2023\n",
      "test1 2 printing 6 Wed Mar 29 18:29:38 2023\n",
      "test1 0 printing 6 Wed Mar 29 18:29:38 2023\n",
      "test1 1 printing 6 Wed Mar 29 18:29:38 2023\n",
      "test1 2 printing 7 Wed Mar 29 18:29:39 2023\n",
      "test1 0 printing 7 Wed Mar 29 18:29:39 2023\n",
      "test1 1 printing 7 Wed Mar 29 18:29:39 2023\n",
      "test1 2 printing 8 Wed Mar 29 18:29:40 2023\n",
      "test1 0 printing 8 Wed Mar 29 18:29:40 2023\n",
      "test1 1 printing 8 Wed Mar 29 18:29:40 2023\n",
      "test1 2 printing 9 Wed Mar 29 18:29:41 2023\n",
      "test1 0 printing 9 Wed Mar 29 18:29:41 2023\n",
      "test1 1 printing 9 Wed Mar 29 18:29:41 2023\n"
     ]
    }
   ],
   "source": [
    "for t in thread2 :\n",
    "    t.start()"
   ]
  },
  {
   "cell_type": "code",
   "execution_count": 73,
   "id": "aa3ea1eb-0c4b-4c09-bb25-22b485c824f1",
   "metadata": {},
   "outputs": [],
   "source": [
    "shared_var = 0\n",
    "lock_var = threading.Lock()"
   ]
  },
  {
   "cell_type": "code",
   "execution_count": 82,
   "id": "e0c7ecf5-768d-4793-94a7-0f0991620074",
   "metadata": {},
   "outputs": [
    {
     "name": "stdout",
     "output_type": "stream",
     "text": [
      "test3 id 0 has increased the shared variable by 1\n",
      "test3 id 1 has increased the shared variable by 2\n",
      "test3 id 2 has increased the shared variable by 3\n"
     ]
    }
   ],
   "source": [
    "shared_var = 0\n",
    "lock_var = threading.Lock()\n",
    "def test3(id):\n",
    "    global shared_var\n",
    "    with lock_var:\n",
    "        shared_var = shared_var + 1\n",
    "        print(\"test3 id %d has increased the shared variable by %d\" % (id , shared_var))\n",
    "        time.sleep(1)\n",
    "ther3 = [threading.Thread(target = test3 , args = (i,)) for i in range(3)]\n",
    "for t in ther3:\n",
    "    t.start()"
   ]
  },
  {
   "cell_type": "code",
   "execution_count": 85,
   "id": "b8d89a7c-084f-4f06-8da6-367ddaaccddd",
   "metadata": {},
   "outputs": [],
   "source": [
    "ther3 = [threading.Thread(target = test3 , args = (i,)) for i in range(3)]"
   ]
  },
  {
   "cell_type": "code",
   "execution_count": 76,
   "id": "bf34f112-4d0e-4716-8b10-39e7c21400b8",
   "metadata": {},
   "outputs": [
    {
     "data": {
      "text/plain": [
       "[<Thread(Thread-54 (test3), initial)>,\n",
       " <Thread(Thread-55 (test3), initial)>,\n",
       " <Thread(Thread-56 (test3), initial)>]"
      ]
     },
     "execution_count": 76,
     "metadata": {},
     "output_type": "execute_result"
    }
   ],
   "source": [
    "ther3"
   ]
  },
  {
   "cell_type": "code",
   "execution_count": 86,
   "id": "974f61d1-83f8-4a1b-8b73-5b5e533a577b",
   "metadata": {},
   "outputs": [
    {
     "name": "stdout",
     "output_type": "stream",
     "text": [
      "test3 id 0 has increased the shared variable by 4\n",
      "test3 id 1 has increased the shared variable by 5\n",
      "test3 id 2 has increased the shared variable by 6\n"
     ]
    }
   ],
   "source": [
    "for t in ther3:\n",
    "    t.start()"
   ]
  },
  {
   "cell_type": "code",
   "execution_count": null,
   "id": "7d3cf27a-a920-4a50-ac8a-3ebf22817682",
   "metadata": {},
   "outputs": [],
   "source": []
  }
 ],
 "metadata": {
  "kernelspec": {
   "display_name": "Python 3 (ipykernel)",
   "language": "python",
   "name": "python3"
  },
  "language_info": {
   "codemirror_mode": {
    "name": "ipython",
    "version": 3
   },
   "file_extension": ".py",
   "mimetype": "text/x-python",
   "name": "python",
   "nbconvert_exporter": "python",
   "pygments_lexer": "ipython3",
   "version": "3.10.8"
  }
 },
 "nbformat": 4,
 "nbformat_minor": 5
}
