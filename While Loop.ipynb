{
 "cells": [
  {
   "cell_type": "code",
   "execution_count": 1,
   "id": "1d85c913-504b-4d1b-82ae-b54ed74e539e",
   "metadata": {},
   "outputs": [
    {
     "name": "stdout",
     "output_type": "stream",
     "text": [
      "1\n",
      "2\n",
      "3\n",
      "4\n",
      "5\n",
      "6\n",
      "7\n",
      "8\n",
      "9\n",
      "10\n"
     ]
    }
   ],
   "source": [
    "a = 1\n",
    "while a <= 10:\n",
    "    print(a)\n",
    "    a = a+1"
   ]
  },
  {
   "cell_type": "markdown",
   "id": "fe499060-6641-421b-8be8-4a657193b29e",
   "metadata": {},
   "source": [
    "sum"
   ]
  },
  {
   "cell_type": "code",
   "execution_count": 5,
   "id": "8976c4db-95b9-428b-80a5-225594b4f5f8",
   "metadata": {},
   "outputs": [
    {
     "name": "stdin",
     "output_type": "stream",
     "text": [
      "enter yr input 5\n"
     ]
    },
    {
     "data": {
      "text/plain": [
       "15"
      ]
     },
     "execution_count": 5,
     "metadata": {},
     "output_type": "execute_result"
    }
   ],
   "source": [
    "n= int(input(\"enter yr input\"))\n",
    "startpoint=0\n",
    "counter=1\n",
    "while counter <= n:\n",
    "    startpoint = startpoint+counter\n",
    "    counter = counter + 1\n",
    "startpoint"
   ]
  },
  {
   "cell_type": "code",
   "execution_count": 7,
   "id": "c827ba6a-d1aa-43ae-934b-ce96dfebdc37",
   "metadata": {},
   "outputs": [
    {
     "name": "stdin",
     "output_type": "stream",
     "text": [
      "enter number 3\n"
     ]
    },
    {
     "data": {
      "text/plain": [
       "6"
      ]
     },
     "execution_count": 7,
     "metadata": {},
     "output_type": "execute_result"
    }
   ],
   "source": [
    "number = int(input(\"enter number\"))\n",
    "fact = 1\n",
    "while number > 0:\n",
    "    fact = fact * number\n",
    "    number -= 1\n",
    "fact"
   ]
  },
  {
   "cell_type": "markdown",
   "id": "3bbe736e-bd02-424d-acc9-000625992706",
   "metadata": {},
   "source": [
    "fibonaci series"
   ]
  },
  {
   "cell_type": "code",
   "execution_count": 9,
   "id": "cf5aca0c-06d9-4544-91fe-b90b541f796a",
   "metadata": {},
   "outputs": [
    {
     "name": "stdin",
     "output_type": "stream",
     "text": [
      "enter number 10\n"
     ]
    },
    {
     "name": "stdout",
     "output_type": "stream",
     "text": [
      "0\n",
      "1\n",
      "1\n",
      "2\n",
      "3\n",
      "5\n",
      "8\n",
      "13\n",
      "21\n",
      "34\n"
     ]
    }
   ],
   "source": [
    "num = int(input(\"enter number\"))\n",
    "a , b = 0 , 1\n",
    "counter = 0\n",
    "while counter < num:\n",
    "    print(a)\n",
    "    c = a + b\n",
    "    a = b\n",
    "    b = c\n",
    "    counter += 1"
   ]
  },
  {
   "cell_type": "code",
   "execution_count": 10,
   "id": "f993f036-5f92-4f1d-8665-f974bad04ebc",
   "metadata": {},
   "outputs": [
    {
     "name": "stdout",
     "output_type": "stream",
     "text": [
      "0\n",
      "1\n",
      "1\n",
      "2\n",
      "3\n",
      "5\n",
      "8\n",
      "13\n",
      "21\n",
      "34\n"
     ]
    }
   ],
   "source": [
    "a , b = 0 , 1\n",
    "for i in range(10):\n",
    "    print(a)\n",
    "    c = a + b\n",
    "    a = b\n",
    "    b = c"
   ]
  },
  {
   "cell_type": "code",
   "execution_count": 11,
   "id": "46449645-a577-4394-8062-aca1f5fcadcc",
   "metadata": {},
   "outputs": [],
   "source": [
    "s = \"saroj\""
   ]
  },
  {
   "cell_type": "code",
   "execution_count": 12,
   "id": "1e1ec439-2054-42bb-86b7-2d6267b77cd6",
   "metadata": {},
   "outputs": [
    {
     "data": {
      "text/plain": [
       "'joras'"
      ]
     },
     "execution_count": 12,
     "metadata": {},
     "output_type": "execute_result"
    }
   ],
   "source": [
    "s[::-1]"
   ]
  },
  {
   "cell_type": "code",
   "execution_count": 13,
   "id": "260f249b-fd78-47d7-80b5-c88a4eed9975",
   "metadata": {},
   "outputs": [
    {
     "name": "stdin",
     "output_type": "stream",
     "text": [
      "enter input saroj\n"
     ]
    }
   ],
   "source": [
    "word = input(\"enter input\")"
   ]
  },
  {
   "cell_type": "code",
   "execution_count": 15,
   "id": "38ef398f-6d6b-45d0-a104-0e84498dba63",
   "metadata": {},
   "outputs": [
    {
     "name": "stdout",
     "output_type": "stream",
     "text": [
      "joras\n"
     ]
    }
   ],
   "source": [
    "reverse = \"\"\n",
    "length = len(word)\n",
    "while length > 0:\n",
    "    reverse = reverse + word[length - 1]\n",
    "    length -= 1\n",
    "print(reverse)"
   ]
  },
  {
   "cell_type": "markdown",
   "id": "f02fa4d7-2724-4992-9b28-c352c684de00",
   "metadata": {},
   "source": [
    "print table of numbers"
   ]
  },
  {
   "cell_type": "code",
   "execution_count": 20,
   "id": "b07b7d05-33df-4d54-90b5-997d4a6b420a",
   "metadata": {},
   "outputs": [
    {
     "name": "stdin",
     "output_type": "stream",
     "text": [
      "enter i/p 2\n"
     ]
    },
    {
     "name": "stdout",
     "output_type": "stream",
     "text": [
      "2 * 1 = 2\n",
      "2 * 2 = 4\n",
      "2 * 3 = 6\n",
      "2 * 4 = 8\n",
      "2 * 5 = 10\n",
      "2 * 6 = 12\n",
      "2 * 7 = 14\n",
      "2 * 8 = 16\n",
      "2 * 9 = 18\n",
      "2 * 10 = 20\n",
      "2 * 11 = 22\n",
      "2 * 12 = 24\n",
      "2 * 13 = 26\n",
      "2 * 14 = 28\n",
      "2 * 15 = 30\n",
      "2 * 16 = 32\n",
      "2 * 17 = 34\n",
      "2 * 18 = 36\n",
      "2 * 19 = 38\n",
      "2 * 20 = 40\n"
     ]
    }
   ],
   "source": [
    "n = int(input(\"enter i/p\"))\n",
    "i = 1\n",
    "while i <= 20:\n",
    "    result = n*i\n",
    "    print(n ,\"*\", i ,\"=\",result)\n",
    "    i = i+1"
   ]
  },
  {
   "cell_type": "code",
   "execution_count": 22,
   "id": "56dd6cc3-b324-45bd-8ddf-6fe0234837de",
   "metadata": {},
   "outputs": [
    {
     "name": "stdout",
     "output_type": "stream",
     "text": [
      "1\n",
      "2\n",
      "3\n",
      "4\n",
      "this will be excuted once your while will complete itself\n"
     ]
    }
   ],
   "source": [
    "n = 5\n",
    "i = 1\n",
    "while i < n:\n",
    "    print(i)\n",
    "    i += 1\n",
    "else:\n",
    "    print(\"this will be excuted once your while will complete itself\")"
   ]
  },
  {
   "cell_type": "code",
   "execution_count": 23,
   "id": "ffa77cda-7455-4bcd-98e9-0875e10bd38a",
   "metadata": {},
   "outputs": [
    {
     "name": "stdout",
     "output_type": "stream",
     "text": [
      "1\n",
      "2\n",
      "3\n"
     ]
    }
   ],
   "source": [
    "n = 5\n",
    "i = 1\n",
    "while i < n:\n",
    "    print(i)\n",
    "    if i == 3:\n",
    "        break\n",
    "    i += 1\n",
    "else:\n",
    "    print(\"this will be excuted once your while will complete itself\")"
   ]
  },
  {
   "cell_type": "code",
   "execution_count": null,
   "id": "8fdd6eb8-b124-4ab4-8caf-5f3866f1de43",
   "metadata": {},
   "outputs": [],
   "source": []
  }
 ],
 "metadata": {
  "kernelspec": {
   "display_name": "Python 3 (ipykernel)",
   "language": "python",
   "name": "python3"
  },
  "language_info": {
   "codemirror_mode": {
    "name": "ipython",
    "version": 3
   },
   "file_extension": ".py",
   "mimetype": "text/x-python",
   "name": "python",
   "nbconvert_exporter": "python",
   "pygments_lexer": "ipython3",
   "version": "3.10.8"
  }
 },
 "nbformat": 4,
 "nbformat_minor": 5
}
