{
 "cells": [
  {
   "cell_type": "code",
   "execution_count": 1,
   "id": "b038bec9-d344-428a-84ec-253b3239dfcb",
   "metadata": {},
   "outputs": [],
   "source": [
    "import numpy as np"
   ]
  },
  {
   "cell_type": "code",
   "execution_count": 2,
   "id": "fe0b191d-bbe7-40bf-8fa2-336c2fa4d69c",
   "metadata": {},
   "outputs": [],
   "source": [
    "l = [1,2,3,4]"
   ]
  },
  {
   "cell_type": "code",
   "execution_count": 3,
   "id": "8d8a61f4-bb70-480d-aa0b-d46bee568289",
   "metadata": {},
   "outputs": [],
   "source": [
    "# convert list into array\n",
    "ar = np.array(l)"
   ]
  },
  {
   "cell_type": "code",
   "execution_count": 4,
   "id": "ae0acf1e-e206-40c4-872b-67eb017bdbfe",
   "metadata": {},
   "outputs": [
    {
     "data": {
      "text/plain": [
       "array([1, 2, 3, 4])"
      ]
     },
     "execution_count": 4,
     "metadata": {},
     "output_type": "execute_result"
    }
   ],
   "source": [
    "ar"
   ]
  },
  {
   "cell_type": "code",
   "execution_count": 5,
   "id": "cc1d296e-97af-4651-8cb0-3164e25b2a74",
   "metadata": {},
   "outputs": [
    {
     "data": {
      "text/plain": [
       "numpy.ndarray"
      ]
     },
     "execution_count": 5,
     "metadata": {},
     "output_type": "execute_result"
    }
   ],
   "source": [
    "type(ar)   # ndarray means n-dimencional array"
   ]
  },
  {
   "cell_type": "code",
   "execution_count": 6,
   "id": "0442bb43-51f0-4674-9cb6-427f3b5b63c8",
   "metadata": {},
   "outputs": [
    {
     "data": {
      "text/plain": [
       "array([[1, 2],\n",
       "       [3, 4]])"
      ]
     },
     "execution_count": 6,
     "metadata": {},
     "output_type": "execute_result"
    }
   ],
   "source": [
    "np.array([[1,2] , [3,4]])"
   ]
  },
  {
   "cell_type": "code",
   "execution_count": 7,
   "id": "1b76c86c-a0f6-4d3d-b58a-8342ac863784",
   "metadata": {},
   "outputs": [],
   "source": [
    "# array([1, 2, 3, 4]) single [] means one dimencional array.\n",
    "# array([[1, 2],\n",
    "#       [3, 4]])  [[]] means two dimencional array"
   ]
  },
  {
   "cell_type": "code",
   "execution_count": 8,
   "id": "2718c64b-efd6-4925-9535-b098f37bbe7a",
   "metadata": {},
   "outputs": [
    {
     "data": {
      "text/plain": [
       "array([1, 2, 3, 4])"
      ]
     },
     "execution_count": 8,
     "metadata": {},
     "output_type": "execute_result"
    }
   ],
   "source": [
    "np.asarray(l)"
   ]
  },
  {
   "cell_type": "code",
   "execution_count": 9,
   "id": "251d2311-685d-48fd-b173-0f0f17f0ddc4",
   "metadata": {},
   "outputs": [],
   "source": [
    "a = [2,3,4]"
   ]
  },
  {
   "cell_type": "code",
   "execution_count": 10,
   "id": "b7ff0121-c7f2-4d4a-8f47-19eceb2f3c55",
   "metadata": {},
   "outputs": [
    {
     "data": {
      "text/plain": [
       "array([2, 3, 4])"
      ]
     },
     "execution_count": 10,
     "metadata": {},
     "output_type": "execute_result"
    }
   ],
   "source": [
    "np.asanyarray(a)"
   ]
  },
  {
   "cell_type": "code",
   "execution_count": 11,
   "id": "6e3efdf9-6ae3-44ad-ad47-4c6387c6e3ec",
   "metadata": {},
   "outputs": [],
   "source": [
    "b = np.matrix(l)"
   ]
  },
  {
   "cell_type": "code",
   "execution_count": 12,
   "id": "b8ad2195-bad8-410a-b84b-d67daea498ca",
   "metadata": {},
   "outputs": [
    {
     "data": {
      "text/plain": [
       "matrix([[1, 2, 3, 4]])"
      ]
     },
     "execution_count": 12,
     "metadata": {},
     "output_type": "execute_result"
    }
   ],
   "source": [
    "b"
   ]
  },
  {
   "cell_type": "code",
   "execution_count": 13,
   "id": "0252712a-38d2-4bae-9d61-d8474b8dfe3a",
   "metadata": {},
   "outputs": [],
   "source": [
    "# array is superclass in numpy\n",
    "# matreix is subset of array in numpy\n",
    "# matrix is bidifault two dimencitional"
   ]
  },
  {
   "cell_type": "code",
   "execution_count": 14,
   "id": "4ac43093-2c9a-445d-ad4b-85e7fc0dc5a5",
   "metadata": {},
   "outputs": [
    {
     "data": {
      "text/plain": [
       "matrix([[1, 2, 3, 4]])"
      ]
     },
     "execution_count": 14,
     "metadata": {},
     "output_type": "execute_result"
    }
   ],
   "source": [
    "np.asanyarray(b)"
   ]
  },
  {
   "cell_type": "code",
   "execution_count": 15,
   "id": "a8bea0bf-c12f-4cd1-a292-69a0f91c461e",
   "metadata": {},
   "outputs": [],
   "source": [
    "a = np.array(l)"
   ]
  },
  {
   "cell_type": "code",
   "execution_count": 16,
   "id": "98ef7606-c7d0-4036-a56e-4dea426b3eb2",
   "metadata": {},
   "outputs": [
    {
     "data": {
      "text/plain": [
       "array([1, 2, 3, 4])"
      ]
     },
     "execution_count": 16,
     "metadata": {},
     "output_type": "execute_result"
    }
   ],
   "source": [
    "a"
   ]
  },
  {
   "cell_type": "code",
   "execution_count": 17,
   "id": "7d6a818a-50a8-4de2-9109-78d5b3f37262",
   "metadata": {},
   "outputs": [],
   "source": [
    "c = a   # it is solawo copy here c and a point to one location where a is present"
   ]
  },
  {
   "cell_type": "code",
   "execution_count": 18,
   "id": "d875a2ea-f270-49f9-a281-abed070fa75c",
   "metadata": {},
   "outputs": [
    {
     "data": {
      "text/plain": [
       "array([1, 2, 3, 4])"
      ]
     },
     "execution_count": 18,
     "metadata": {},
     "output_type": "execute_result"
    }
   ],
   "source": [
    "c"
   ]
  },
  {
   "cell_type": "code",
   "execution_count": 19,
   "id": "b3fc0737-65ab-4b0c-bf60-7bd6eb1cedc6",
   "metadata": {},
   "outputs": [
    {
     "data": {
      "text/plain": [
       "array([1, 2, 3, 4])"
      ]
     },
     "execution_count": 19,
     "metadata": {},
     "output_type": "execute_result"
    }
   ],
   "source": [
    "a"
   ]
  },
  {
   "cell_type": "code",
   "execution_count": 20,
   "id": "6e4063fa-67bf-401e-a7b7-d79c5229ceb4",
   "metadata": {},
   "outputs": [],
   "source": [
    "c[0] = 100"
   ]
  },
  {
   "cell_type": "code",
   "execution_count": 21,
   "id": "c802c1f8-8d26-408e-b070-e94d05923f99",
   "metadata": {},
   "outputs": [
    {
     "data": {
      "text/plain": [
       "array([100,   2,   3,   4])"
      ]
     },
     "execution_count": 21,
     "metadata": {},
     "output_type": "execute_result"
    }
   ],
   "source": [
    "c"
   ]
  },
  {
   "cell_type": "code",
   "execution_count": 22,
   "id": "84b39d5a-d550-4a47-a380-04861a2044b5",
   "metadata": {},
   "outputs": [],
   "source": [
    "d = np.copy(a)   # it is deep copy . here d and a point to other location"
   ]
  },
  {
   "cell_type": "code",
   "execution_count": 23,
   "id": "76abe73d-f9ee-4bd6-bb0e-d7835a1291a6",
   "metadata": {},
   "outputs": [
    {
     "data": {
      "text/plain": [
       "array([100,   2,   3,   4])"
      ]
     },
     "execution_count": 23,
     "metadata": {},
     "output_type": "execute_result"
    }
   ],
   "source": [
    "d"
   ]
  },
  {
   "cell_type": "code",
   "execution_count": 24,
   "id": "0acc2fe0-4256-4ba8-9e5c-cf2efc9ef30d",
   "metadata": {},
   "outputs": [
    {
     "data": {
      "text/plain": [
       "array([100,   2,   3,   4])"
      ]
     },
     "execution_count": 24,
     "metadata": {},
     "output_type": "execute_result"
    }
   ],
   "source": [
    "a"
   ]
  },
  {
   "cell_type": "code",
   "execution_count": 25,
   "id": "c3f33fbe-ae96-4cbd-a450-42f081e0bd04",
   "metadata": {},
   "outputs": [],
   "source": [
    "a[1] = 400"
   ]
  },
  {
   "cell_type": "code",
   "execution_count": 26,
   "id": "12689c97-16f8-4292-8236-fcdc14d8c2d2",
   "metadata": {},
   "outputs": [
    {
     "data": {
      "text/plain": [
       "array([100, 400,   3,   4])"
      ]
     },
     "execution_count": 26,
     "metadata": {},
     "output_type": "execute_result"
    }
   ],
   "source": [
    "a"
   ]
  },
  {
   "cell_type": "code",
   "execution_count": 27,
   "id": "966c7db3-c1cd-4722-83bd-032e6842cc95",
   "metadata": {},
   "outputs": [
    {
     "data": {
      "text/plain": [
       "array([100,   2,   3,   4])"
      ]
     },
     "execution_count": 27,
     "metadata": {},
     "output_type": "execute_result"
    }
   ],
   "source": [
    "d"
   ]
  },
  {
   "cell_type": "code",
   "execution_count": 28,
   "id": "0f3c21b6-5bd7-4405-b637-b07ba3f75836",
   "metadata": {},
   "outputs": [
    {
     "data": {
      "text/plain": [
       "array([[ True, False, False],\n",
       "       [False,  True, False],\n",
       "       [False, False,  True]])"
      ]
     },
     "execution_count": 28,
     "metadata": {},
     "output_type": "execute_result"
    }
   ],
   "source": [
    "# to generate data using function by given condition here (3,3) means 3 X 3 matrix or 2D array\n",
    "np.fromfunction(lambda i,j : i == j, (3,3))"
   ]
  },
  {
   "cell_type": "code",
   "execution_count": 29,
   "id": "9b2bacc7-92c3-4dc7-9823-7779557dd5f1",
   "metadata": {},
   "outputs": [
    {
     "data": {
      "text/plain": [
       "array([[0., 0., 0.],\n",
       "       [0., 1., 2.],\n",
       "       [0., 2., 4.]])"
      ]
     },
     "execution_count": 29,
     "metadata": {},
     "output_type": "execute_result"
    }
   ],
   "source": [
    "np.fromfunction(lambda i,j : i * j, (3,3))"
   ]
  },
  {
   "cell_type": "code",
   "execution_count": 30,
   "id": "28b965a8-4df4-4f97-bb19-20a51209ed20",
   "metadata": {},
   "outputs": [],
   "source": [
    "# to create array from fromiter function it is used for iterable condition\n",
    "iterable = (i*i for i in range (5))"
   ]
  },
  {
   "cell_type": "code",
   "execution_count": 31,
   "id": "803370fd-7bc2-4059-8ec7-c965831b11d5",
   "metadata": {},
   "outputs": [
    {
     "data": {
      "text/plain": [
       "array([ 0.,  1.,  4.,  9., 16.])"
      ]
     },
     "execution_count": 31,
     "metadata": {},
     "output_type": "execute_result"
    }
   ],
   "source": [
    "# to create array from fromiter function it is used for iterable condition\n",
    "np.fromiter(iterable , float)"
   ]
  },
  {
   "cell_type": "code",
   "execution_count": 32,
   "id": "a940af22-f3a6-4300-8f19-8c6af2c2efb6",
   "metadata": {},
   "outputs": [
    {
     "data": {
      "text/plain": [
       "array([234., 234.])"
      ]
     },
     "execution_count": 32,
     "metadata": {},
     "output_type": "execute_result"
    }
   ],
   "source": [
    "# to crteate a array from string\n",
    "np.fromstring('234 234' , sep = ' ')"
   ]
  },
  {
   "cell_type": "code",
   "execution_count": 33,
   "id": "2379b2a6-40f0-4e1c-a6b8-b1bb356fe723",
   "metadata": {},
   "outputs": [
    {
     "data": {
      "text/plain": [
       "array([4., 5.])"
      ]
     },
     "execution_count": 33,
     "metadata": {},
     "output_type": "execute_result"
    }
   ],
   "source": [
    "np.fromstring('4,5' , sep = ',')"
   ]
  },
  {
   "cell_type": "code",
   "execution_count": 34,
   "id": "5787f80f-658a-4a7b-baf7-a64b0d2c4dea",
   "metadata": {},
   "outputs": [],
   "source": [
    "# Numpy - Data Types."
   ]
  },
  {
   "cell_type": "code",
   "execution_count": 35,
   "id": "052230a9-754d-46cb-8bcf-6b71d7d3353f",
   "metadata": {},
   "outputs": [],
   "source": [
    "l = [2,3,4,5,6]"
   ]
  },
  {
   "cell_type": "code",
   "execution_count": 36,
   "id": "0e870b9e-b8fc-4403-aa90-231211c9b799",
   "metadata": {},
   "outputs": [],
   "source": [
    "ar = np.array(l)"
   ]
  },
  {
   "cell_type": "code",
   "execution_count": 37,
   "id": "fa7876c6-35de-43e0-8082-be5f3bcac4ba",
   "metadata": {},
   "outputs": [
    {
     "data": {
      "text/plain": [
       "array([2, 3, 4, 5, 6])"
      ]
     },
     "execution_count": 37,
     "metadata": {},
     "output_type": "execute_result"
    }
   ],
   "source": [
    "ar"
   ]
  },
  {
   "cell_type": "code",
   "execution_count": 38,
   "id": "78f1c14b-ea24-40ff-bb11-8e6a4360ec48",
   "metadata": {},
   "outputs": [
    {
     "data": {
      "text/plain": [
       "1"
      ]
     },
     "execution_count": 38,
     "metadata": {},
     "output_type": "execute_result"
    }
   ],
   "source": [
    "# to find dimension of an array\n",
    "ar.ndim"
   ]
  },
  {
   "cell_type": "code",
   "execution_count": 39,
   "id": "7b86ff3c-e9d0-4881-a512-6e3043ad68a0",
   "metadata": {},
   "outputs": [],
   "source": [
    "ar2 = np.array([[1,2,3,4] , [2,3,4,5]])"
   ]
  },
  {
   "cell_type": "code",
   "execution_count": 40,
   "id": "ad9b9940-c012-4656-9bba-a2dd81f46389",
   "metadata": {},
   "outputs": [
    {
     "data": {
      "text/plain": [
       "array([[1, 2, 3, 4],\n",
       "       [2, 3, 4, 5]])"
      ]
     },
     "execution_count": 40,
     "metadata": {},
     "output_type": "execute_result"
    }
   ],
   "source": [
    "ar2"
   ]
  },
  {
   "cell_type": "code",
   "execution_count": 41,
   "id": "37912554-9594-44d4-ab68-7ad9fcd2ae64",
   "metadata": {},
   "outputs": [
    {
     "data": {
      "text/plain": [
       "2"
      ]
     },
     "execution_count": 41,
     "metadata": {},
     "output_type": "execute_result"
    }
   ],
   "source": [
    "# to find dimension of an array\n",
    "ar2.ndim"
   ]
  },
  {
   "cell_type": "code",
   "execution_count": 42,
   "id": "00f62ba4-2119-45a9-89b4-cf7d743bf4a3",
   "metadata": {},
   "outputs": [
    {
     "data": {
      "text/plain": [
       "5"
      ]
     },
     "execution_count": 42,
     "metadata": {},
     "output_type": "execute_result"
    }
   ],
   "source": [
    "# to find the size or how many element present in array\n",
    "ar.size"
   ]
  },
  {
   "cell_type": "code",
   "execution_count": 43,
   "id": "1eab0046-4324-4dc3-b2e5-f388b54345a0",
   "metadata": {},
   "outputs": [
    {
     "data": {
      "text/plain": [
       "8"
      ]
     },
     "execution_count": 43,
     "metadata": {},
     "output_type": "execute_result"
    }
   ],
   "source": [
    "ar2.size"
   ]
  },
  {
   "cell_type": "code",
   "execution_count": 44,
   "id": "3275cea4-83af-49ba-a41c-326d94c0a4dd",
   "metadata": {},
   "outputs": [
    {
     "data": {
      "text/plain": [
       "array([2, 3, 4, 5, 6])"
      ]
     },
     "execution_count": 44,
     "metadata": {},
     "output_type": "execute_result"
    }
   ],
   "source": [
    "ar"
   ]
  },
  {
   "cell_type": "code",
   "execution_count": 45,
   "id": "81cc0d8e-abf2-4bf1-9b95-30c0cb3637eb",
   "metadata": {},
   "outputs": [
    {
     "data": {
      "text/plain": [
       "array([[1, 2, 3, 4],\n",
       "       [2, 3, 4, 5]])"
      ]
     },
     "execution_count": 45,
     "metadata": {},
     "output_type": "execute_result"
    }
   ],
   "source": [
    "ar2"
   ]
  },
  {
   "cell_type": "code",
   "execution_count": 46,
   "id": "0031121f-9d35-4348-83c7-aa61d642d8a9",
   "metadata": {},
   "outputs": [
    {
     "data": {
      "text/plain": [
       "(5,)"
      ]
     },
     "execution_count": 46,
     "metadata": {},
     "output_type": "execute_result"
    }
   ],
   "source": [
    "# to find the shape or how many row and column is present in the array\n",
    "ar.shape"
   ]
  },
  {
   "cell_type": "code",
   "execution_count": 47,
   "id": "6a5bc065-e6c6-4c7f-86b5-7a294c714d02",
   "metadata": {},
   "outputs": [
    {
     "data": {
      "text/plain": [
       "(2, 4)"
      ]
     },
     "execution_count": 47,
     "metadata": {},
     "output_type": "execute_result"
    }
   ],
   "source": [
    "ar2.shape"
   ]
  },
  {
   "cell_type": "code",
   "execution_count": 48,
   "id": "bdff5eb9-b8bf-4520-bda4-52fc5dc86e06",
   "metadata": {},
   "outputs": [
    {
     "data": {
      "text/plain": [
       "dtype('int64')"
      ]
     },
     "execution_count": 48,
     "metadata": {},
     "output_type": "execute_result"
    }
   ],
   "source": [
    "ar.dtype"
   ]
  },
  {
   "cell_type": "code",
   "execution_count": 49,
   "id": "add07eb3-910a-43c0-886a-178e3aa21f21",
   "metadata": {},
   "outputs": [
    {
     "data": {
      "text/plain": [
       "dtype('int64')"
      ]
     },
     "execution_count": 49,
     "metadata": {},
     "output_type": "execute_result"
    }
   ],
   "source": [
    "ar2.dtype"
   ]
  },
  {
   "cell_type": "code",
   "execution_count": 50,
   "id": "b1806bb2-d1b5-4fdf-84e7-f460b9fce252",
   "metadata": {},
   "outputs": [],
   "source": [
    "ar22 = np.array([(1.4 , 45 ,45) , (23,45,66)])"
   ]
  },
  {
   "cell_type": "code",
   "execution_count": 51,
   "id": "87e8b2b5-f05f-4b95-ac75-c9a6c88742a5",
   "metadata": {},
   "outputs": [
    {
     "data": {
      "text/plain": [
       "array([[ 1.4, 45. , 45. ],\n",
       "       [23. , 45. , 66. ]])"
      ]
     },
     "execution_count": 51,
     "metadata": {},
     "output_type": "execute_result"
    }
   ],
   "source": [
    "ar22"
   ]
  },
  {
   "cell_type": "code",
   "execution_count": 52,
   "id": "f27116c3-670c-4db0-a918-d6615f591886",
   "metadata": {},
   "outputs": [
    {
     "data": {
      "text/plain": [
       "dtype('float64')"
      ]
     },
     "execution_count": 52,
     "metadata": {},
     "output_type": "execute_result"
    }
   ],
   "source": [
    "ar22.dtype"
   ]
  },
  {
   "cell_type": "code",
   "execution_count": 53,
   "id": "0892ba68-9051-41e8-af3b-a110d114c88d",
   "metadata": {},
   "outputs": [
    {
     "data": {
      "text/plain": [
       "[0, 1, 2, 3, 4]"
      ]
     },
     "execution_count": 53,
     "metadata": {},
     "output_type": "execute_result"
    }
   ],
   "source": [
    "list(range(5))"
   ]
  },
  {
   "cell_type": "code",
   "execution_count": 54,
   "id": "132f1bcf-df0a-4cb0-9b96-53036f6daa32",
   "metadata": {},
   "outputs": [
    {
     "ename": "TypeError",
     "evalue": "'float' object cannot be interpreted as an integer",
     "output_type": "error",
     "traceback": [
      "\u001b[0;31m---------------------------------------------------------------------------\u001b[0m",
      "\u001b[0;31mTypeError\u001b[0m                                 Traceback (most recent call last)",
      "Cell \u001b[0;32mIn[54], line 1\u001b[0m\n\u001b[0;32m----> 1\u001b[0m \u001b[38;5;28mlist\u001b[39m(\u001b[38;5;28;43mrange\u001b[39;49m\u001b[43m(\u001b[49m\u001b[38;5;241;43m0.1\u001b[39;49m\u001b[43m \u001b[49m\u001b[43m,\u001b[49m\u001b[43m \u001b[49m\u001b[38;5;241;43m5\u001b[39;49m\u001b[43m)\u001b[49m)\n",
      "\u001b[0;31mTypeError\u001b[0m: 'float' object cannot be interpreted as an integer"
     ]
    }
   ],
   "source": [
    "list(range(0.1 , 5))"
   ]
  },
  {
   "cell_type": "code",
   "execution_count": 55,
   "id": "cbc7c13a-6e59-4167-b39e-91f5fe8b231b",
   "metadata": {},
   "outputs": [
    {
     "data": {
      "text/plain": [
       "array([2.3, 3.3, 4.3, 5.3])"
      ]
     },
     "execution_count": 55,
     "metadata": {},
     "output_type": "execute_result"
    }
   ],
   "source": [
    "# range() function cannot take float value but in numpy arange() function can take floating point also\n",
    "np.arange(2.3,5.6)"
   ]
  },
  {
   "cell_type": "code",
   "execution_count": 56,
   "id": "73995c1b-ef8f-4ac9-9b84-9a43fba69c75",
   "metadata": {},
   "outputs": [
    {
     "data": {
      "text/plain": [
       "array([2.3, 2.6, 2.9, 3.2, 3.5, 3.8, 4.1, 4.4, 4.7, 5. , 5.3])"
      ]
     },
     "execution_count": 56,
     "metadata": {},
     "output_type": "execute_result"
    }
   ],
   "source": [
    "np.arange(2.3,5.6 , 0.3)"
   ]
  },
  {
   "cell_type": "code",
   "execution_count": 57,
   "id": "792defbd-2b45-4436-b0ca-d318afe0a0d7",
   "metadata": {},
   "outputs": [
    {
     "data": {
      "text/plain": [
       "[2.3,\n",
       " 2.5999999999999996,\n",
       " 2.8999999999999995,\n",
       " 3.1999999999999993,\n",
       " 3.499999999999999,\n",
       " 3.799999999999999,\n",
       " 4.099999999999999,\n",
       " 4.399999999999999,\n",
       " 4.699999999999998,\n",
       " 4.999999999999998,\n",
       " 5.299999999999998]"
      ]
     },
     "execution_count": 57,
     "metadata": {},
     "output_type": "execute_result"
    }
   ],
   "source": [
    "list(np.arange(2.3,5.6 , 0.3))"
   ]
  },
  {
   "cell_type": "code",
   "execution_count": 58,
   "id": "a82ce484-254f-4581-b96b-2c0e41391b5c",
   "metadata": {},
   "outputs": [],
   "source": [
    "# range() func & arange() func is same the only difference is arange() func is allow the float or fractionm value.\n",
    "# range() func is present in python core & arange function is present in numpy"
   ]
  },
  {
   "cell_type": "code",
   "execution_count": 59,
   "id": "62f129b2-478a-4020-a8da-4c5cea3dca51",
   "metadata": {},
   "outputs": [
    {
     "data": {
      "text/plain": [
       "array([1.        , 1.44444444, 1.88888889, 2.33333333, 2.77777778,\n",
       "       3.22222222, 3.66666667, 4.11111111, 4.55555556, 5.        ])"
      ]
     },
     "execution_count": 59,
     "metadata": {},
     "output_type": "execute_result"
    }
   ],
   "source": [
    "# to produce array by linespace() func\n",
    "np.linspace(1,5,10)"
   ]
  },
  {
   "cell_type": "code",
   "execution_count": 60,
   "id": "b3030c35-6f3f-4c7a-8dda-051451e928fe",
   "metadata": {},
   "outputs": [
    {
     "data": {
      "text/plain": [
       "array([0., 0., 0., 0., 0.])"
      ]
     },
     "execution_count": 60,
     "metadata": {},
     "output_type": "execute_result"
    }
   ],
   "source": [
    "np.zeros(5)"
   ]
  },
  {
   "cell_type": "code",
   "execution_count": 61,
   "id": "a857b66a-5352-40e0-af08-84db0582e9ba",
   "metadata": {},
   "outputs": [
    {
     "data": {
      "text/plain": [
       "array([[0., 0., 0., 0.],\n",
       "       [0., 0., 0., 0.],\n",
       "       [0., 0., 0., 0.]])"
      ]
     },
     "execution_count": 61,
     "metadata": {},
     "output_type": "execute_result"
    }
   ],
   "source": [
    "np.zeros((3,4))"
   ]
  },
  {
   "cell_type": "code",
   "execution_count": 62,
   "id": "9343d460-42d9-4cbf-8d73-01810b38f18e",
   "metadata": {},
   "outputs": [
    {
     "data": {
      "text/plain": [
       "array([[[0., 0.],\n",
       "        [0., 0.],\n",
       "        [0., 0.],\n",
       "        [0., 0.]],\n",
       "\n",
       "       [[0., 0.],\n",
       "        [0., 0.],\n",
       "        [0., 0.],\n",
       "        [0., 0.]],\n",
       "\n",
       "       [[0., 0.],\n",
       "        [0., 0.],\n",
       "        [0., 0.],\n",
       "        [0., 0.]]])"
      ]
     },
     "execution_count": 62,
     "metadata": {},
     "output_type": "execute_result"
    }
   ],
   "source": [
    "np.zeros((3,4,2)) # here (3,4,2) is 3 dimensional array means 4 X 2 matrix or array such type array 3 times"
   ]
  },
  {
   "cell_type": "code",
   "execution_count": 63,
   "id": "0adcdf87-6e74-4d4b-8e51-3dc204cfa306",
   "metadata": {},
   "outputs": [],
   "source": [
    "ar4 = np.zeros((3,4,2,3))"
   ]
  },
  {
   "cell_type": "code",
   "execution_count": 64,
   "id": "62163fb3-7167-479e-938e-542d2f7c840f",
   "metadata": {},
   "outputs": [
    {
     "data": {
      "text/plain": [
       "4"
      ]
     },
     "execution_count": 64,
     "metadata": {},
     "output_type": "execute_result"
    }
   ],
   "source": [
    "ar4.ndim"
   ]
  },
  {
   "cell_type": "code",
   "execution_count": 65,
   "id": "8bb58353-4861-4d78-a332-ab0c5f1f1ff1",
   "metadata": {},
   "outputs": [
    {
     "data": {
      "text/plain": [
       "array([1., 1., 1., 1.])"
      ]
     },
     "execution_count": 65,
     "metadata": {},
     "output_type": "execute_result"
    }
   ],
   "source": [
    "np.ones(4)"
   ]
  },
  {
   "cell_type": "code",
   "execution_count": 66,
   "id": "2163e347-c98c-4c91-954c-8a4579789387",
   "metadata": {},
   "outputs": [
    {
     "data": {
      "text/plain": [
       "array([[1., 1., 1.],\n",
       "       [1., 1., 1.]])"
      ]
     },
     "execution_count": 66,
     "metadata": {},
     "output_type": "execute_result"
    }
   ],
   "source": [
    "np.ones((2,3))"
   ]
  },
  {
   "cell_type": "code",
   "execution_count": 67,
   "id": "8568ca9e-1742-4785-89d1-f1651d36f93f",
   "metadata": {},
   "outputs": [],
   "source": [
    "on = np.ones((2,3,2))"
   ]
  },
  {
   "cell_type": "code",
   "execution_count": 68,
   "id": "f379d17e-acc9-4e8e-b370-5fc8bf77c512",
   "metadata": {},
   "outputs": [
    {
     "data": {
      "text/plain": [
       "array([[[6., 6.],\n",
       "        [6., 6.],\n",
       "        [6., 6.]],\n",
       "\n",
       "       [[6., 6.],\n",
       "        [6., 6.],\n",
       "        [6., 6.]]])"
      ]
     },
     "execution_count": 68,
     "metadata": {},
     "output_type": "execute_result"
    }
   ],
   "source": [
    "on + 5"
   ]
  },
  {
   "cell_type": "code",
   "execution_count": 69,
   "id": "57305a0f-4548-44f7-a51c-667a5f1badf8",
   "metadata": {},
   "outputs": [
    {
     "data": {
      "text/plain": [
       "array([[[4., 4.],\n",
       "        [4., 4.],\n",
       "        [4., 4.]],\n",
       "\n",
       "       [[4., 4.],\n",
       "        [4., 4.],\n",
       "        [4., 4.]]])"
      ]
     },
     "execution_count": 69,
     "metadata": {},
     "output_type": "execute_result"
    }
   ],
   "source": [
    "on * 4"
   ]
  },
  {
   "cell_type": "code",
   "execution_count": 70,
   "id": "9a3814db-e1e6-4fd8-8950-c2a465765398",
   "metadata": {},
   "outputs": [
    {
     "data": {
      "text/plain": [
       "array([[0., 0., 0., 1., 1., 1.],\n",
       "       [2., 2., 2., 0., 1., 2.],\n",
       "       [0., 1., 2., 0., 1., 2.]])"
      ]
     },
     "execution_count": 70,
     "metadata": {},
     "output_type": "execute_result"
    }
   ],
   "source": [
    "# to proiduced empty array\n",
    "np.empty((3,6))"
   ]
  },
  {
   "cell_type": "code",
   "execution_count": 71,
   "id": "e6936deb-ecd8-4da8-9145-1eceb66d63d0",
   "metadata": {},
   "outputs": [
    {
     "data": {
      "text/plain": [
       "array([[1., 0., 0., 0.],\n",
       "       [0., 1., 0., 0.],\n",
       "       [0., 0., 1., 0.],\n",
       "       [0., 0., 0., 1.]])"
      ]
     },
     "execution_count": 71,
     "metadata": {},
     "output_type": "execute_result"
    }
   ],
   "source": [
    "# to produce identity matrix \n",
    "np.eye(4)"
   ]
  },
  {
   "cell_type": "code",
   "execution_count": 72,
   "id": "988a0d1f-b830-4c9e-a428-22102a8fbeb8",
   "metadata": {},
   "outputs": [
    {
     "data": {
      "text/plain": [
       "array([2.        , 2.10526316, 2.21052632, 2.31578947, 2.42105263,\n",
       "       2.52631579, 2.63157895, 2.73684211, 2.84210526, 2.94736842,\n",
       "       3.05263158, 3.15789474, 3.26315789, 3.36842105, 3.47368421,\n",
       "       3.57894737, 3.68421053, 3.78947368, 3.89473684, 4.        ])"
      ]
     },
     "execution_count": 72,
     "metadata": {},
     "output_type": "execute_result"
    }
   ],
   "source": [
    "np.linspace(2,4,20) # to produce 2 to 4 data which is divided by 20"
   ]
  },
  {
   "cell_type": "code",
   "execution_count": 73,
   "id": "8317caec-a73b-41f4-8e17-227ad26bbc11",
   "metadata": {},
   "outputs": [
    {
     "data": {
      "text/plain": [
       "array([   100.        ,    215.443469  ,    464.15888336,   1000.        ,\n",
       "         2154.43469003,   4641.58883361,  10000.        ,  21544.34690032,\n",
       "        46415.88833613, 100000.        ])"
      ]
     },
     "execution_count": 73,
     "metadata": {},
     "output_type": "execute_result"
    }
   ],
   "source": [
    "np.logspace(2 , 5 , 10)  # to produce logarithm of 2 to 5 data which is divided by 10"
   ]
  },
  {
   "cell_type": "code",
   "execution_count": 74,
   "id": "9a6e965b-9bf4-4bea-b941-961444de8d1c",
   "metadata": {},
   "outputs": [
    {
     "data": {
      "text/plain": [
       "array([ 4.        ,  5.0396842 ,  6.34960421,  8.        , 10.0793684 ,\n",
       "       12.69920842, 16.        , 20.1587368 , 25.39841683, 32.        ])"
      ]
     },
     "execution_count": 74,
     "metadata": {},
     "output_type": "execute_result"
    }
   ],
   "source": [
    "np.logspace(2 , 5 , 10 , base = 2)   # bidifault base = 10"
   ]
  },
  {
   "cell_type": "code",
   "execution_count": 75,
   "id": "66387657-a8b5-47c7-bcd4-099ea903968e",
   "metadata": {},
   "outputs": [],
   "source": [
    "# to produce random data \n",
    "arr = np.random.randn(3,4)    # randn produce that type of data where mean = 0 avg = 0 & std = 1"
   ]
  },
  {
   "cell_type": "code",
   "execution_count": 76,
   "id": "a43e7ebd-b592-4f70-abd4-52ab1ba458c4",
   "metadata": {},
   "outputs": [],
   "source": [
    "import pandas as pd"
   ]
  },
  {
   "cell_type": "code",
   "execution_count": 77,
   "id": "b81ce753-e0ac-46b8-a47f-fc5522132996",
   "metadata": {},
   "outputs": [
    {
     "data": {
      "text/html": [
       "<div>\n",
       "<style scoped>\n",
       "    .dataframe tbody tr th:only-of-type {\n",
       "        vertical-align: middle;\n",
       "    }\n",
       "\n",
       "    .dataframe tbody tr th {\n",
       "        vertical-align: top;\n",
       "    }\n",
       "\n",
       "    .dataframe thead th {\n",
       "        text-align: right;\n",
       "    }\n",
       "</style>\n",
       "<table border=\"1\" class=\"dataframe\">\n",
       "  <thead>\n",
       "    <tr style=\"text-align: right;\">\n",
       "      <th></th>\n",
       "      <th>0</th>\n",
       "      <th>1</th>\n",
       "      <th>2</th>\n",
       "      <th>3</th>\n",
       "    </tr>\n",
       "  </thead>\n",
       "  <tbody>\n",
       "    <tr>\n",
       "      <th>0</th>\n",
       "      <td>-0.115251</td>\n",
       "      <td>1.129059</td>\n",
       "      <td>-0.285638</td>\n",
       "      <td>0.316582</td>\n",
       "    </tr>\n",
       "    <tr>\n",
       "      <th>1</th>\n",
       "      <td>0.077485</td>\n",
       "      <td>0.002963</td>\n",
       "      <td>-0.093048</td>\n",
       "      <td>0.094706</td>\n",
       "    </tr>\n",
       "    <tr>\n",
       "      <th>2</th>\n",
       "      <td>1.098310</td>\n",
       "      <td>0.662737</td>\n",
       "      <td>0.195246</td>\n",
       "      <td>0.093822</td>\n",
       "    </tr>\n",
       "  </tbody>\n",
       "</table>\n",
       "</div>"
      ],
      "text/plain": [
       "          0         1         2         3\n",
       "0 -0.115251  1.129059 -0.285638  0.316582\n",
       "1  0.077485  0.002963 -0.093048  0.094706\n",
       "2  1.098310  0.662737  0.195246  0.093822"
      ]
     },
     "execution_count": 77,
     "metadata": {},
     "output_type": "execute_result"
    }
   ],
   "source": [
    "pd.DataFrame(arr)"
   ]
  },
  {
   "cell_type": "code",
   "execution_count": 78,
   "id": "37a6bfc2-5d40-4c49-b759-de1fc78b98ac",
   "metadata": {},
   "outputs": [
    {
     "data": {
      "text/plain": [
       "array([[0.74074892, 0.47257548, 0.71309575, 0.14312455],\n",
       "       [0.82126553, 0.08819255, 0.18364138, 0.7288519 ],\n",
       "       [0.60157659, 0.21560373, 0.55272704, 0.84307849]])"
      ]
     },
     "execution_count": 78,
     "metadata": {},
     "output_type": "execute_result"
    }
   ],
   "source": [
    "np.random.rand(3 , 4)"
   ]
  },
  {
   "cell_type": "code",
   "execution_count": 79,
   "id": "e873f95d-4042-4017-b5b3-b4d3abc14073",
   "metadata": {},
   "outputs": [
    {
     "data": {
      "text/plain": [
       "array([[ 72, 102,  74,  30],\n",
       "       [ 52,  89,  53,  88],\n",
       "       [ 34,  76,   6, 101]])"
      ]
     },
     "execution_count": 79,
     "metadata": {},
     "output_type": "execute_result"
    }
   ],
   "source": [
    "np.random.randint(1,110 ,(3,4))    # here the data presejnt in between 1 to 110 and it gives the output 3 X 4 matrix or array it always produce int"
   ]
  },
  {
   "cell_type": "code",
   "execution_count": 80,
   "id": "002c45e4-0eb3-46b5-a873-884809810232",
   "metadata": {},
   "outputs": [
    {
     "data": {
      "text/html": [
       "<div>\n",
       "<style scoped>\n",
       "    .dataframe tbody tr th:only-of-type {\n",
       "        vertical-align: middle;\n",
       "    }\n",
       "\n",
       "    .dataframe tbody tr th {\n",
       "        vertical-align: top;\n",
       "    }\n",
       "\n",
       "    .dataframe thead th {\n",
       "        text-align: right;\n",
       "    }\n",
       "</style>\n",
       "<table border=\"1\" class=\"dataframe\">\n",
       "  <thead>\n",
       "    <tr style=\"text-align: right;\">\n",
       "      <th></th>\n",
       "      <th>0</th>\n",
       "      <th>1</th>\n",
       "      <th>2</th>\n",
       "      <th>3</th>\n",
       "      <th>4</th>\n",
       "      <th>5</th>\n",
       "      <th>6</th>\n",
       "      <th>7</th>\n",
       "      <th>8</th>\n",
       "      <th>9</th>\n",
       "      <th>...</th>\n",
       "      <th>390</th>\n",
       "      <th>391</th>\n",
       "      <th>392</th>\n",
       "      <th>393</th>\n",
       "      <th>394</th>\n",
       "      <th>395</th>\n",
       "      <th>396</th>\n",
       "      <th>397</th>\n",
       "      <th>398</th>\n",
       "      <th>399</th>\n",
       "    </tr>\n",
       "  </thead>\n",
       "  <tbody>\n",
       "    <tr>\n",
       "      <th>0</th>\n",
       "      <td>55</td>\n",
       "      <td>39</td>\n",
       "      <td>21</td>\n",
       "      <td>84</td>\n",
       "      <td>96</td>\n",
       "      <td>52</td>\n",
       "      <td>29</td>\n",
       "      <td>103</td>\n",
       "      <td>51</td>\n",
       "      <td>86</td>\n",
       "      <td>...</td>\n",
       "      <td>43</td>\n",
       "      <td>92</td>\n",
       "      <td>103</td>\n",
       "      <td>6</td>\n",
       "      <td>55</td>\n",
       "      <td>54</td>\n",
       "      <td>23</td>\n",
       "      <td>99</td>\n",
       "      <td>74</td>\n",
       "      <td>63</td>\n",
       "    </tr>\n",
       "    <tr>\n",
       "      <th>1</th>\n",
       "      <td>56</td>\n",
       "      <td>31</td>\n",
       "      <td>36</td>\n",
       "      <td>15</td>\n",
       "      <td>83</td>\n",
       "      <td>33</td>\n",
       "      <td>15</td>\n",
       "      <td>39</td>\n",
       "      <td>15</td>\n",
       "      <td>84</td>\n",
       "      <td>...</td>\n",
       "      <td>59</td>\n",
       "      <td>96</td>\n",
       "      <td>108</td>\n",
       "      <td>34</td>\n",
       "      <td>97</td>\n",
       "      <td>93</td>\n",
       "      <td>82</td>\n",
       "      <td>26</td>\n",
       "      <td>32</td>\n",
       "      <td>33</td>\n",
       "    </tr>\n",
       "    <tr>\n",
       "      <th>2</th>\n",
       "      <td>108</td>\n",
       "      <td>81</td>\n",
       "      <td>105</td>\n",
       "      <td>74</td>\n",
       "      <td>2</td>\n",
       "      <td>109</td>\n",
       "      <td>14</td>\n",
       "      <td>19</td>\n",
       "      <td>10</td>\n",
       "      <td>38</td>\n",
       "      <td>...</td>\n",
       "      <td>86</td>\n",
       "      <td>78</td>\n",
       "      <td>87</td>\n",
       "      <td>72</td>\n",
       "      <td>58</td>\n",
       "      <td>21</td>\n",
       "      <td>52</td>\n",
       "      <td>3</td>\n",
       "      <td>86</td>\n",
       "      <td>81</td>\n",
       "    </tr>\n",
       "    <tr>\n",
       "      <th>3</th>\n",
       "      <td>102</td>\n",
       "      <td>90</td>\n",
       "      <td>49</td>\n",
       "      <td>35</td>\n",
       "      <td>4</td>\n",
       "      <td>63</td>\n",
       "      <td>13</td>\n",
       "      <td>20</td>\n",
       "      <td>96</td>\n",
       "      <td>46</td>\n",
       "      <td>...</td>\n",
       "      <td>102</td>\n",
       "      <td>103</td>\n",
       "      <td>84</td>\n",
       "      <td>10</td>\n",
       "      <td>62</td>\n",
       "      <td>79</td>\n",
       "      <td>5</td>\n",
       "      <td>95</td>\n",
       "      <td>46</td>\n",
       "      <td>6</td>\n",
       "    </tr>\n",
       "    <tr>\n",
       "      <th>4</th>\n",
       "      <td>18</td>\n",
       "      <td>103</td>\n",
       "      <td>32</td>\n",
       "      <td>85</td>\n",
       "      <td>27</td>\n",
       "      <td>45</td>\n",
       "      <td>32</td>\n",
       "      <td>97</td>\n",
       "      <td>43</td>\n",
       "      <td>41</td>\n",
       "      <td>...</td>\n",
       "      <td>58</td>\n",
       "      <td>94</td>\n",
       "      <td>84</td>\n",
       "      <td>44</td>\n",
       "      <td>18</td>\n",
       "      <td>60</td>\n",
       "      <td>12</td>\n",
       "      <td>100</td>\n",
       "      <td>9</td>\n",
       "      <td>38</td>\n",
       "    </tr>\n",
       "    <tr>\n",
       "      <th>...</th>\n",
       "      <td>...</td>\n",
       "      <td>...</td>\n",
       "      <td>...</td>\n",
       "      <td>...</td>\n",
       "      <td>...</td>\n",
       "      <td>...</td>\n",
       "      <td>...</td>\n",
       "      <td>...</td>\n",
       "      <td>...</td>\n",
       "      <td>...</td>\n",
       "      <td>...</td>\n",
       "      <td>...</td>\n",
       "      <td>...</td>\n",
       "      <td>...</td>\n",
       "      <td>...</td>\n",
       "      <td>...</td>\n",
       "      <td>...</td>\n",
       "      <td>...</td>\n",
       "      <td>...</td>\n",
       "      <td>...</td>\n",
       "      <td>...</td>\n",
       "    </tr>\n",
       "    <tr>\n",
       "      <th>295</th>\n",
       "      <td>107</td>\n",
       "      <td>61</td>\n",
       "      <td>71</td>\n",
       "      <td>53</td>\n",
       "      <td>33</td>\n",
       "      <td>14</td>\n",
       "      <td>106</td>\n",
       "      <td>73</td>\n",
       "      <td>107</td>\n",
       "      <td>65</td>\n",
       "      <td>...</td>\n",
       "      <td>38</td>\n",
       "      <td>39</td>\n",
       "      <td>2</td>\n",
       "      <td>1</td>\n",
       "      <td>75</td>\n",
       "      <td>89</td>\n",
       "      <td>96</td>\n",
       "      <td>84</td>\n",
       "      <td>10</td>\n",
       "      <td>74</td>\n",
       "    </tr>\n",
       "    <tr>\n",
       "      <th>296</th>\n",
       "      <td>62</td>\n",
       "      <td>109</td>\n",
       "      <td>20</td>\n",
       "      <td>42</td>\n",
       "      <td>8</td>\n",
       "      <td>22</td>\n",
       "      <td>26</td>\n",
       "      <td>106</td>\n",
       "      <td>2</td>\n",
       "      <td>102</td>\n",
       "      <td>...</td>\n",
       "      <td>61</td>\n",
       "      <td>92</td>\n",
       "      <td>92</td>\n",
       "      <td>79</td>\n",
       "      <td>40</td>\n",
       "      <td>84</td>\n",
       "      <td>25</td>\n",
       "      <td>21</td>\n",
       "      <td>39</td>\n",
       "      <td>88</td>\n",
       "    </tr>\n",
       "    <tr>\n",
       "      <th>297</th>\n",
       "      <td>31</td>\n",
       "      <td>46</td>\n",
       "      <td>82</td>\n",
       "      <td>89</td>\n",
       "      <td>40</td>\n",
       "      <td>76</td>\n",
       "      <td>102</td>\n",
       "      <td>18</td>\n",
       "      <td>40</td>\n",
       "      <td>52</td>\n",
       "      <td>...</td>\n",
       "      <td>11</td>\n",
       "      <td>57</td>\n",
       "      <td>68</td>\n",
       "      <td>25</td>\n",
       "      <td>62</td>\n",
       "      <td>88</td>\n",
       "      <td>56</td>\n",
       "      <td>35</td>\n",
       "      <td>95</td>\n",
       "      <td>90</td>\n",
       "    </tr>\n",
       "    <tr>\n",
       "      <th>298</th>\n",
       "      <td>77</td>\n",
       "      <td>102</td>\n",
       "      <td>24</td>\n",
       "      <td>31</td>\n",
       "      <td>17</td>\n",
       "      <td>54</td>\n",
       "      <td>2</td>\n",
       "      <td>11</td>\n",
       "      <td>16</td>\n",
       "      <td>36</td>\n",
       "      <td>...</td>\n",
       "      <td>66</td>\n",
       "      <td>10</td>\n",
       "      <td>80</td>\n",
       "      <td>92</td>\n",
       "      <td>52</td>\n",
       "      <td>80</td>\n",
       "      <td>40</td>\n",
       "      <td>109</td>\n",
       "      <td>24</td>\n",
       "      <td>76</td>\n",
       "    </tr>\n",
       "    <tr>\n",
       "      <th>299</th>\n",
       "      <td>46</td>\n",
       "      <td>13</td>\n",
       "      <td>46</td>\n",
       "      <td>28</td>\n",
       "      <td>75</td>\n",
       "      <td>93</td>\n",
       "      <td>29</td>\n",
       "      <td>6</td>\n",
       "      <td>59</td>\n",
       "      <td>15</td>\n",
       "      <td>...</td>\n",
       "      <td>25</td>\n",
       "      <td>50</td>\n",
       "      <td>17</td>\n",
       "      <td>33</td>\n",
       "      <td>62</td>\n",
       "      <td>31</td>\n",
       "      <td>30</td>\n",
       "      <td>106</td>\n",
       "      <td>78</td>\n",
       "      <td>78</td>\n",
       "    </tr>\n",
       "  </tbody>\n",
       "</table>\n",
       "<p>300 rows × 400 columns</p>\n",
       "</div>"
      ],
      "text/plain": [
       "     0    1    2    3    4    5    6    7    8    9    ...  390  391  392  \\\n",
       "0     55   39   21   84   96   52   29  103   51   86  ...   43   92  103   \n",
       "1     56   31   36   15   83   33   15   39   15   84  ...   59   96  108   \n",
       "2    108   81  105   74    2  109   14   19   10   38  ...   86   78   87   \n",
       "3    102   90   49   35    4   63   13   20   96   46  ...  102  103   84   \n",
       "4     18  103   32   85   27   45   32   97   43   41  ...   58   94   84   \n",
       "..   ...  ...  ...  ...  ...  ...  ...  ...  ...  ...  ...  ...  ...  ...   \n",
       "295  107   61   71   53   33   14  106   73  107   65  ...   38   39    2   \n",
       "296   62  109   20   42    8   22   26  106    2  102  ...   61   92   92   \n",
       "297   31   46   82   89   40   76  102   18   40   52  ...   11   57   68   \n",
       "298   77  102   24   31   17   54    2   11   16   36  ...   66   10   80   \n",
       "299   46   13   46   28   75   93   29    6   59   15  ...   25   50   17   \n",
       "\n",
       "     393  394  395  396  397  398  399  \n",
       "0      6   55   54   23   99   74   63  \n",
       "1     34   97   93   82   26   32   33  \n",
       "2     72   58   21   52    3   86   81  \n",
       "3     10   62   79    5   95   46    6  \n",
       "4     44   18   60   12  100    9   38  \n",
       "..   ...  ...  ...  ...  ...  ...  ...  \n",
       "295    1   75   89   96   84   10   74  \n",
       "296   79   40   84   25   21   39   88  \n",
       "297   25   62   88   56   35   95   90  \n",
       "298   92   52   80   40  109   24   76  \n",
       "299   33   62   31   30  106   78   78  \n",
       "\n",
       "[300 rows x 400 columns]"
      ]
     },
     "execution_count": 80,
     "metadata": {},
     "output_type": "execute_result"
    }
   ],
   "source": [
    "pd.DataFrame(np.random.randint(1,110 ,(300,400))) "
   ]
  },
  {
   "cell_type": "code",
   "execution_count": 81,
   "id": "c2f058ad-45a4-4d17-85e0-6436cea250dd",
   "metadata": {},
   "outputs": [],
   "source": [
    "# to stroe the above data in csv file\n",
    "pd.DataFrame(np.random.randint(1,110 ,(300,400))).to_csv('test.csv')"
   ]
  },
  {
   "cell_type": "code",
   "execution_count": 82,
   "id": "11643f54-d072-4f13-bfdf-ad452eae31d1",
   "metadata": {},
   "outputs": [],
   "source": [
    "arr = np.random.rand(3 , 4)"
   ]
  },
  {
   "cell_type": "code",
   "execution_count": 83,
   "id": "2c45e7a2-145f-4dd4-8802-74758348c3e5",
   "metadata": {},
   "outputs": [
    {
     "data": {
      "text/plain": [
       "array([[0.49726413, 0.31627037, 0.24446997, 0.20071051],\n",
       "       [0.74008776, 0.525021  , 0.0887768 , 0.10549645],\n",
       "       [0.20451141, 0.23193284, 0.80460971, 0.7071527 ]])"
      ]
     },
     "execution_count": 83,
     "metadata": {},
     "output_type": "execute_result"
    }
   ],
   "source": [
    "arr"
   ]
  },
  {
   "cell_type": "code",
   "execution_count": 84,
   "id": "77002b2d-79de-4027-b9a6-3a51879ce864",
   "metadata": {},
   "outputs": [
    {
     "data": {
      "text/plain": [
       "array([[0.49726413, 0.31627037],\n",
       "       [0.24446997, 0.20071051],\n",
       "       [0.74008776, 0.525021  ],\n",
       "       [0.0887768 , 0.10549645],\n",
       "       [0.20451141, 0.23193284],\n",
       "       [0.80460971, 0.7071527 ]])"
      ]
     },
     "execution_count": 84,
     "metadata": {},
     "output_type": "execute_result"
    }
   ],
   "source": [
    "arr.reshape(6,2) # 3 X 4 = 12 data is prtesent means reshape is same as 12 data means 6 X 2"
   ]
  },
  {
   "cell_type": "code",
   "execution_count": 85,
   "id": "535bf6f2-7ebe-4b7f-96a6-1e45a72153a3",
   "metadata": {},
   "outputs": [
    {
     "data": {
      "text/plain": [
       "array([[0.49726413, 0.31627037],\n",
       "       [0.24446997, 0.20071051],\n",
       "       [0.74008776, 0.525021  ],\n",
       "       [0.0887768 , 0.10549645],\n",
       "       [0.20451141, 0.23193284],\n",
       "       [0.80460971, 0.7071527 ]])"
      ]
     },
     "execution_count": 85,
     "metadata": {},
     "output_type": "execute_result"
    }
   ],
   "source": [
    "arr.reshape(6,-1)"
   ]
  },
  {
   "cell_type": "code",
   "execution_count": 86,
   "id": "b7e440bb-961a-4caa-84c0-7cfc20dbe9df",
   "metadata": {},
   "outputs": [],
   "source": [
    "arr1 = arr.reshape(6,-145248552745)"
   ]
  },
  {
   "cell_type": "code",
   "execution_count": 87,
   "id": "b8d65bfd-f516-4d65-b09d-efc53f650a5a",
   "metadata": {},
   "outputs": [
    {
     "data": {
      "text/plain": [
       "array([[0.49726413, 0.31627037],\n",
       "       [0.24446997, 0.20071051],\n",
       "       [0.74008776, 0.525021  ],\n",
       "       [0.0887768 , 0.10549645],\n",
       "       [0.20451141, 0.23193284],\n",
       "       [0.80460971, 0.7071527 ]])"
      ]
     },
     "execution_count": 87,
     "metadata": {},
     "output_type": "execute_result"
    }
   ],
   "source": [
    "arr1"
   ]
  },
  {
   "cell_type": "code",
   "execution_count": 88,
   "id": "c9fa8fd6-4359-4f3c-9b3e-c67242456705",
   "metadata": {},
   "outputs": [
    {
     "data": {
      "text/plain": [
       "0.20071051160702114"
      ]
     },
     "execution_count": 88,
     "metadata": {},
     "output_type": "execute_result"
    }
   ],
   "source": [
    "arr1[1][1]"
   ]
  },
  {
   "cell_type": "code",
   "execution_count": 89,
   "id": "efe94b4a-3166-43c7-8375-12044aad5bc5",
   "metadata": {},
   "outputs": [
    {
     "data": {
      "text/plain": [
       "array([0.525021  , 0.10549645, 0.23193284])"
      ]
     },
     "execution_count": 89,
     "metadata": {},
     "output_type": "execute_result"
    }
   ],
   "source": [
    "arr1[2:5 , 1]"
   ]
  },
  {
   "cell_type": "code",
   "execution_count": 90,
   "id": "915e2898-0377-4efd-afb8-fe424dd82869",
   "metadata": {},
   "outputs": [],
   "source": [
    "arr = np.random.randint(1,100 , (5,5))"
   ]
  },
  {
   "cell_type": "code",
   "execution_count": 91,
   "id": "48c1b777-11a2-4f51-895f-7fb840ef3bc0",
   "metadata": {},
   "outputs": [
    {
     "data": {
      "text/plain": [
       "array([[42, 94,  6, 44, 12],\n",
       "       [23, 35, 92, 10,  3],\n",
       "       [74, 49, 94, 44, 10],\n",
       "       [17, 87, 67, 10, 63],\n",
       "       [16, 69, 10, 80, 60]])"
      ]
     },
     "execution_count": 91,
     "metadata": {},
     "output_type": "execute_result"
    }
   ],
   "source": [
    "arr"
   ]
  },
  {
   "cell_type": "code",
   "execution_count": 92,
   "id": "39d1dfef-8029-4e7c-b526-60933019a5ca",
   "metadata": {},
   "outputs": [
    {
     "data": {
      "text/plain": [
       "array([94, 92, 74, 94, 87, 67, 63, 69, 80, 60])"
      ]
     },
     "execution_count": 92,
     "metadata": {},
     "output_type": "execute_result"
    }
   ],
   "source": [
    "arr[arr > 50]"
   ]
  },
  {
   "cell_type": "code",
   "execution_count": 93,
   "id": "3cef29d0-66f1-4bbc-bbf9-cf8ca114f47d",
   "metadata": {},
   "outputs": [
    {
     "data": {
      "text/plain": [
       "array([[42, 94,  6, 44, 12],\n",
       "       [23, 35, 92, 10,  3],\n",
       "       [74, 49, 94, 44, 10],\n",
       "       [17, 87, 67, 10, 63],\n",
       "       [16, 69, 10, 80, 60]])"
      ]
     },
     "execution_count": 93,
     "metadata": {},
     "output_type": "execute_result"
    }
   ],
   "source": [
    "arr"
   ]
  },
  {
   "cell_type": "code",
   "execution_count": 94,
   "id": "809e0f41-46e3-4549-bbc1-d3a29e6af6c0",
   "metadata": {},
   "outputs": [
    {
     "data": {
      "text/plain": [
       "array([[49, 94],\n",
       "       [87, 67]])"
      ]
     },
     "execution_count": 94,
     "metadata": {},
     "output_type": "execute_result"
    }
   ],
   "source": [
    "arr[2:4 , [1,2]]"
   ]
  },
  {
   "cell_type": "code",
   "execution_count": 95,
   "id": "311272aa-fac7-4867-9747-237da73673b8",
   "metadata": {},
   "outputs": [],
   "source": [
    "arr[0][0] = 5000"
   ]
  },
  {
   "cell_type": "code",
   "execution_count": 96,
   "id": "e9b7e6f9-2362-48c0-99ac-1885cfc75287",
   "metadata": {},
   "outputs": [
    {
     "data": {
      "text/plain": [
       "array([[5000,   94,    6,   44,   12],\n",
       "       [  23,   35,   92,   10,    3],\n",
       "       [  74,   49,   94,   44,   10],\n",
       "       [  17,   87,   67,   10,   63],\n",
       "       [  16,   69,   10,   80,   60]])"
      ]
     },
     "execution_count": 96,
     "metadata": {},
     "output_type": "execute_result"
    }
   ],
   "source": [
    "arr"
   ]
  },
  {
   "cell_type": "code",
   "execution_count": 97,
   "id": "f02b7fe7-46b4-4b13-b974-533d1c589fa9",
   "metadata": {},
   "outputs": [],
   "source": [
    "# Numpy Inbuilt Function"
   ]
  },
  {
   "cell_type": "code",
   "execution_count": 98,
   "id": "60f75d10-2dee-47cd-8842-77177ce78201",
   "metadata": {},
   "outputs": [],
   "source": [
    "arr1 = np.random.randint(1,3 , (3,3))\n",
    "arr2 = np.random.randint(1,3 , (3,3))"
   ]
  },
  {
   "cell_type": "code",
   "execution_count": 99,
   "id": "c1583a66-df59-4aa1-aa1e-c0c9da22272f",
   "metadata": {},
   "outputs": [
    {
     "data": {
      "text/plain": [
       "array([[2, 2, 2],\n",
       "       [1, 1, 1],\n",
       "       [1, 1, 2]])"
      ]
     },
     "execution_count": 99,
     "metadata": {},
     "output_type": "execute_result"
    }
   ],
   "source": [
    "arr1"
   ]
  },
  {
   "cell_type": "code",
   "execution_count": 100,
   "id": "884bdef4-4b22-4d83-854e-4e6dad568a2f",
   "metadata": {},
   "outputs": [
    {
     "data": {
      "text/plain": [
       "array([[2, 2, 2],\n",
       "       [2, 1, 1],\n",
       "       [1, 2, 1]])"
      ]
     },
     "execution_count": 100,
     "metadata": {},
     "output_type": "execute_result"
    }
   ],
   "source": [
    "arr2"
   ]
  },
  {
   "cell_type": "code",
   "execution_count": 101,
   "id": "481dbdf7-6630-46af-b381-530b4915a75b",
   "metadata": {},
   "outputs": [
    {
     "data": {
      "text/plain": [
       "array([[4, 4, 4],\n",
       "       [3, 2, 2],\n",
       "       [2, 3, 3]])"
      ]
     },
     "execution_count": 101,
     "metadata": {},
     "output_type": "execute_result"
    }
   ],
   "source": [
    "arr1 + arr2 "
   ]
  },
  {
   "cell_type": "code",
   "execution_count": 102,
   "id": "c7515a7a-e535-438a-98db-a36fbf21347d",
   "metadata": {},
   "outputs": [
    {
     "data": {
      "text/plain": [
       "array([[ 0,  0,  0],\n",
       "       [-1,  0,  0],\n",
       "       [ 0, -1,  1]])"
      ]
     },
     "execution_count": 102,
     "metadata": {},
     "output_type": "execute_result"
    }
   ],
   "source": [
    "arr1 - arr2"
   ]
  },
  {
   "cell_type": "code",
   "execution_count": 103,
   "id": "c00b74ec-31d2-497c-bfef-57f5558bfbce",
   "metadata": {},
   "outputs": [
    {
     "data": {
      "text/plain": [
       "array([[1. , 1. , 1. ],\n",
       "       [0.5, 1. , 1. ],\n",
       "       [1. , 0.5, 2. ]])"
      ]
     },
     "execution_count": 103,
     "metadata": {},
     "output_type": "execute_result"
    }
   ],
   "source": [
    "arr1 / arr2"
   ]
  },
  {
   "cell_type": "code",
   "execution_count": 107,
   "id": "59bf02d9-797b-44a0-9d0d-3acf791589ed",
   "metadata": {},
   "outputs": [
    {
     "data": {
      "text/plain": [
       "array([[4, 4, 4],\n",
       "       [2, 1, 1],\n",
       "       [1, 2, 2]])"
      ]
     },
     "execution_count": 107,
     "metadata": {},
     "output_type": "execute_result"
    }
   ],
   "source": [
    "arr1 * arr2   # it is index multiplication"
   ]
  },
  {
   "cell_type": "code",
   "execution_count": 108,
   "id": "297228b3-fe1f-4e32-8be7-b6b57c00e97d",
   "metadata": {},
   "outputs": [
    {
     "data": {
      "text/plain": [
       "array([[2, 2, 2],\n",
       "       [1, 1, 1],\n",
       "       [1, 1, 2]])"
      ]
     },
     "execution_count": 108,
     "metadata": {},
     "output_type": "execute_result"
    }
   ],
   "source": [
    "arr1"
   ]
  },
  {
   "cell_type": "code",
   "execution_count": 109,
   "id": "de50b563-7256-4efa-90f7-97e7151c1cd7",
   "metadata": {},
   "outputs": [
    {
     "data": {
      "text/plain": [
       "array([[2, 2, 2],\n",
       "       [2, 1, 1],\n",
       "       [1, 2, 1]])"
      ]
     },
     "execution_count": 109,
     "metadata": {},
     "output_type": "execute_result"
    }
   ],
   "source": [
    "arr2"
   ]
  },
  {
   "cell_type": "code",
   "execution_count": 110,
   "id": "28a380a9-5c91-4c1b-876b-0cf45deb59f9",
   "metadata": {},
   "outputs": [
    {
     "data": {
      "text/plain": [
       "array([[10, 10,  8],\n",
       "       [ 5,  5,  4],\n",
       "       [ 6,  7,  5]])"
      ]
     },
     "execution_count": 110,
     "metadata": {},
     "output_type": "execute_result"
    }
   ],
   "source": [
    "# to find matrix multiplication\n",
    "arr1@arr2"
   ]
  },
  {
   "cell_type": "code",
   "execution_count": 111,
   "id": "9f9c90e4-4436-4ae1-8b08-0d4bcb492c9a",
   "metadata": {},
   "outputs": [
    {
     "name": "stderr",
     "output_type": "stream",
     "text": [
      "/tmp/ipykernel_873/824215542.py:1: RuntimeWarning: divide by zero encountered in divide\n",
      "  arr1 / 0\n"
     ]
    },
    {
     "data": {
      "text/plain": [
       "array([[inf, inf, inf],\n",
       "       [inf, inf, inf],\n",
       "       [inf, inf, inf]])"
      ]
     },
     "execution_count": 111,
     "metadata": {},
     "output_type": "execute_result"
    }
   ],
   "source": [
    "arr1 / 0"
   ]
  },
  {
   "cell_type": "code",
   "execution_count": 113,
   "id": "7025635d-24a5-4976-a37a-f70bd3477113",
   "metadata": {},
   "outputs": [
    {
     "data": {
      "text/plain": [
       "array([[102, 102, 102],\n",
       "       [101, 101, 101],\n",
       "       [101, 101, 102]])"
      ]
     },
     "execution_count": 113,
     "metadata": {},
     "output_type": "execute_result"
    }
   ],
   "source": [
    "arr1 + 100"
   ]
  },
  {
   "cell_type": "code",
   "execution_count": 114,
   "id": "543b07e1-5af1-492b-a89b-a684cb724934",
   "metadata": {},
   "outputs": [
    {
     "data": {
      "text/plain": [
       "array([[4, 4, 4],\n",
       "       [1, 1, 1],\n",
       "       [1, 1, 4]])"
      ]
     },
     "execution_count": 114,
     "metadata": {},
     "output_type": "execute_result"
    }
   ],
   "source": [
    "arr1**2"
   ]
  },
  {
   "cell_type": "code",
   "execution_count": 115,
   "id": "3b978630-60c4-4f2d-9a7c-3122fe12707e",
   "metadata": {},
   "outputs": [],
   "source": [
    "# Numpy - Broadcasting"
   ]
  },
  {
   "cell_type": "code",
   "execution_count": 117,
   "id": "fb962d49-ed63-4ad6-9bd2-e075b7d828f1",
   "metadata": {},
   "outputs": [],
   "source": [
    "arr = np.zeros((4,4))"
   ]
  },
  {
   "cell_type": "code",
   "execution_count": 118,
   "id": "a792498d-54ac-4d89-a0d4-f79b191e22bd",
   "metadata": {},
   "outputs": [
    {
     "data": {
      "text/plain": [
       "array([[0., 0., 0., 0.],\n",
       "       [0., 0., 0., 0.],\n",
       "       [0., 0., 0., 0.],\n",
       "       [0., 0., 0., 0.]])"
      ]
     },
     "execution_count": 118,
     "metadata": {},
     "output_type": "execute_result"
    }
   ],
   "source": [
    "arr"
   ]
  },
  {
   "cell_type": "code",
   "execution_count": 119,
   "id": "a0e14018-35e7-44f8-8a36-0ce11698eb3a",
   "metadata": {},
   "outputs": [],
   "source": [
    "row = np.array([1,2,3,4])"
   ]
  },
  {
   "cell_type": "code",
   "execution_count": 120,
   "id": "33e94af8-dbe7-47b5-91d3-535bada90b16",
   "metadata": {},
   "outputs": [
    {
     "data": {
      "text/plain": [
       "array([1, 2, 3, 4])"
      ]
     },
     "execution_count": 120,
     "metadata": {},
     "output_type": "execute_result"
    }
   ],
   "source": [
    "row"
   ]
  },
  {
   "cell_type": "code",
   "execution_count": 127,
   "id": "ea83008d-7cfe-439b-9231-c89cf8ca3fcc",
   "metadata": {},
   "outputs": [
    {
     "data": {
      "text/plain": [
       "array([[1., 2., 3., 4.],\n",
       "       [1., 2., 3., 4.],\n",
       "       [1., 2., 3., 4.],\n",
       "       [1., 2., 3., 4.]])"
      ]
     },
     "execution_count": 127,
     "metadata": {},
     "output_type": "execute_result"
    }
   ],
   "source": [
    "arr + row     # this is the broadcasting"
   ]
  },
  {
   "cell_type": "code",
   "execution_count": 123,
   "id": "6991ce32-5126-4376-aebc-ff01e8c66ec3",
   "metadata": {},
   "outputs": [
    {
     "data": {
      "text/plain": [
       "array([1, 2, 3, 4])"
      ]
     },
     "execution_count": 123,
     "metadata": {},
     "output_type": "execute_result"
    }
   ],
   "source": [
    "# to rotate one 1D array\n",
    "row.T     # 1D array can not be rotate"
   ]
  },
  {
   "cell_type": "code",
   "execution_count": 124,
   "id": "318f14be-ed98-4a59-9e93-3d11f9348428",
   "metadata": {},
   "outputs": [],
   "source": [
    "col = np.array([[1,2,3,4]])"
   ]
  },
  {
   "cell_type": "code",
   "execution_count": 125,
   "id": "c0410108-5d9f-4b26-9c58-ca61b1002c71",
   "metadata": {},
   "outputs": [
    {
     "data": {
      "text/plain": [
       "array([[1],\n",
       "       [2],\n",
       "       [3],\n",
       "       [4]])"
      ]
     },
     "execution_count": 125,
     "metadata": {},
     "output_type": "execute_result"
    }
   ],
   "source": [
    "# to rotate one 2D array\n",
    "col.T"
   ]
  },
  {
   "cell_type": "code",
   "execution_count": 126,
   "id": "09278f2d-128f-4e89-9e01-b10debe6d6dd",
   "metadata": {},
   "outputs": [
    {
     "data": {
      "text/plain": [
       "array([[1, 2, 3, 4]])"
      ]
     },
     "execution_count": 126,
     "metadata": {},
     "output_type": "execute_result"
    }
   ],
   "source": [
    "col"
   ]
  },
  {
   "cell_type": "code",
   "execution_count": 128,
   "id": "bc5d4ff7-f387-4a83-bc18-a0eea3777300",
   "metadata": {},
   "outputs": [
    {
     "data": {
      "text/plain": [
       "array([[1., 1., 1., 1.],\n",
       "       [2., 2., 2., 2.],\n",
       "       [3., 3., 3., 3.],\n",
       "       [4., 4., 4., 4.]])"
      ]
     },
     "execution_count": 128,
     "metadata": {},
     "output_type": "execute_result"
    }
   ],
   "source": [
    "col.T + arr"
   ]
  },
  {
   "cell_type": "code",
   "execution_count": 129,
   "id": "0bdf52ae-8eb3-4514-acbb-45c084414ce0",
   "metadata": {},
   "outputs": [],
   "source": [
    "arr1 = np.random.randint(1,4 , (3,4))"
   ]
  },
  {
   "cell_type": "code",
   "execution_count": 130,
   "id": "e29bcf41-b287-4189-bb43-0bf92b3871f1",
   "metadata": {},
   "outputs": [
    {
     "data": {
      "text/plain": [
       "array([[1, 3, 1, 2],\n",
       "       [1, 2, 1, 3],\n",
       "       [1, 3, 3, 2]])"
      ]
     },
     "execution_count": 130,
     "metadata": {},
     "output_type": "execute_result"
    }
   ],
   "source": [
    "arr1"
   ]
  },
  {
   "cell_type": "code",
   "execution_count": 131,
   "id": "bd714077-4ccc-405a-80da-53a20aebc11e",
   "metadata": {},
   "outputs": [
    {
     "data": {
      "text/plain": [
       "array([[1.        , 1.73205081, 1.        , 1.41421356],\n",
       "       [1.        , 1.41421356, 1.        , 1.73205081],\n",
       "       [1.        , 1.73205081, 1.73205081, 1.41421356]])"
      ]
     },
     "execution_count": 131,
     "metadata": {},
     "output_type": "execute_result"
    }
   ],
   "source": [
    "# to find squre root of all the array\n",
    "np.sqrt(arr1)"
   ]
  },
  {
   "cell_type": "code",
   "execution_count": 132,
   "id": "a480a94d-8d75-4085-a708-503ce708cf2f",
   "metadata": {},
   "outputs": [
    {
     "data": {
      "text/plain": [
       "array([[ 2.71828183, 20.08553692,  2.71828183,  7.3890561 ],\n",
       "       [ 2.71828183,  7.3890561 ,  2.71828183, 20.08553692],\n",
       "       [ 2.71828183, 20.08553692, 20.08553692,  7.3890561 ]])"
      ]
     },
     "execution_count": 132,
     "metadata": {},
     "output_type": "execute_result"
    }
   ],
   "source": [
    "# to find exponent of all the array\n",
    "np.exp(arr1)"
   ]
  },
  {
   "cell_type": "code",
   "execution_count": 133,
   "id": "2a10edd4-dd2b-40e9-8551-19a551506b68",
   "metadata": {},
   "outputs": [
    {
     "data": {
      "text/plain": [
       "array([[0.        , 0.47712125, 0.        , 0.30103   ],\n",
       "       [0.        , 0.30103   , 0.        , 0.47712125],\n",
       "       [0.        , 0.47712125, 0.47712125, 0.30103   ]])"
      ]
     },
     "execution_count": 133,
     "metadata": {},
     "output_type": "execute_result"
    }
   ],
   "source": [
    "np.log10(arr1)"
   ]
  },
  {
   "cell_type": "code",
   "execution_count": null,
   "id": "cf25711b-a0cc-4f0d-85d8-bd71b13ac201",
   "metadata": {},
   "outputs": [],
   "source": []
  }
 ],
 "metadata": {
  "kernelspec": {
   "display_name": "Python 3 (ipykernel)",
   "language": "python",
   "name": "python3"
  },
  "language_info": {
   "codemirror_mode": {
    "name": "ipython",
    "version": 3
   },
   "file_extension": ".py",
   "mimetype": "text/x-python",
   "name": "python",
   "nbconvert_exporter": "python",
   "pygments_lexer": "ipython3",
   "version": "3.10.8"
  }
 },
 "nbformat": 4,
 "nbformat_minor": 5
}
