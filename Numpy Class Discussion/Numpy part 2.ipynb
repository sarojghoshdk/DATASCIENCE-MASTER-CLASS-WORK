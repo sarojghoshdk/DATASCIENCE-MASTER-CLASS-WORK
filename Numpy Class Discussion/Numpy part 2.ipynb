{
 "cells": [
  {
   "cell_type": "code",
   "execution_count": 2,
   "id": "1d61d694-ff88-4fba-bef8-0774a506f20c",
   "metadata": {},
   "outputs": [],
   "source": [
    "# Numpy Array Manupulation"
   ]
  },
  {
   "cell_type": "code",
   "execution_count": 3,
   "id": "de9d6e26-87eb-450d-9ddf-439fd3c89b9a",
   "metadata": {},
   "outputs": [],
   "source": [
    "import numpy as np"
   ]
  },
  {
   "cell_type": "code",
   "execution_count": 4,
   "id": "2134c410-53da-4397-8a3e-b180b4a7d9a3",
   "metadata": {},
   "outputs": [],
   "source": [
    "arr = np.random.randint(1,10 , (3,4))"
   ]
  },
  {
   "cell_type": "code",
   "execution_count": 5,
   "id": "cfc2b535-55c6-4185-a1fd-0b447c336d0e",
   "metadata": {},
   "outputs": [
    {
     "data": {
      "text/plain": [
       "array([[8, 5, 9, 1],\n",
       "       [4, 5, 3, 2],\n",
       "       [5, 7, 7, 4]])"
      ]
     },
     "execution_count": 5,
     "metadata": {},
     "output_type": "execute_result"
    }
   ],
   "source": [
    "arr"
   ]
  },
  {
   "cell_type": "code",
   "execution_count": 6,
   "id": "ec425b43-6aff-488b-b5fe-99a92d743706",
   "metadata": {},
   "outputs": [
    {
     "data": {
      "text/plain": [
       "array([[8, 5],\n",
       "       [9, 1],\n",
       "       [4, 5],\n",
       "       [3, 2],\n",
       "       [5, 7],\n",
       "       [7, 4]])"
      ]
     },
     "execution_count": 6,
     "metadata": {},
     "output_type": "execute_result"
    }
   ],
   "source": [
    "arr.reshape(6 , 2)"
   ]
  },
  {
   "cell_type": "code",
   "execution_count": 7,
   "id": "74e1ada1-436d-47ee-95d4-bf9cd0eccd77",
   "metadata": {},
   "outputs": [
    {
     "data": {
      "text/plain": [
       "array([[8, 5, 9, 1, 4, 5],\n",
       "       [3, 2, 5, 7, 7, 4]])"
      ]
     },
     "execution_count": 7,
     "metadata": {},
     "output_type": "execute_result"
    }
   ],
   "source": [
    "arr.reshape(2 , 6)"
   ]
  },
  {
   "cell_type": "code",
   "execution_count": 9,
   "id": "d47ba098-55b1-4faf-9280-6bbe1820aaab",
   "metadata": {},
   "outputs": [
    {
     "data": {
      "text/plain": [
       "array([[8, 5, 9, 1, 4, 5],\n",
       "       [3, 2, 5, 7, 7, 4]])"
      ]
     },
     "execution_count": 9,
     "metadata": {},
     "output_type": "execute_result"
    }
   ],
   "source": [
    "arr.reshape(2 , -41235252)"
   ]
  },
  {
   "cell_type": "code",
   "execution_count": 11,
   "id": "b5d147e8-fc3d-4554-b30d-0337da25d911",
   "metadata": {},
   "outputs": [
    {
     "data": {
      "text/plain": [
       "array([[8, 4, 5],\n",
       "       [5, 5, 7],\n",
       "       [9, 3, 7],\n",
       "       [1, 2, 4]])"
      ]
     },
     "execution_count": 11,
     "metadata": {},
     "output_type": "execute_result"
    }
   ],
   "source": [
    "arr.T"
   ]
  },
  {
   "cell_type": "code",
   "execution_count": 12,
   "id": "5de77727-5927-4bd6-8713-eb99ddfb6a91",
   "metadata": {},
   "outputs": [
    {
     "data": {
      "text/plain": [
       "array([[8, 5, 9, 1],\n",
       "       [4, 5, 3, 2],\n",
       "       [5, 7, 7, 4]])"
      ]
     },
     "execution_count": 12,
     "metadata": {},
     "output_type": "execute_result"
    }
   ],
   "source": [
    "arr"
   ]
  },
  {
   "cell_type": "code",
   "execution_count": 14,
   "id": "070fe9d4-c6b3-47ed-aebe-95feb56e1dbb",
   "metadata": {},
   "outputs": [
    {
     "data": {
      "text/plain": [
       "array([8, 5, 9, 1, 4, 5, 3, 2, 5, 7, 7, 4])"
      ]
     },
     "execution_count": 14,
     "metadata": {},
     "output_type": "execute_result"
    }
   ],
   "source": [
    "# to convert 2D array into 1Darray\n",
    "arr.flatten()"
   ]
  },
  {
   "cell_type": "code",
   "execution_count": 15,
   "id": "0304c863-44cf-4b7b-888d-34861a79cde4",
   "metadata": {},
   "outputs": [],
   "source": [
    "arr1 =  np.array([1,2,3,3,4])"
   ]
  },
  {
   "cell_type": "code",
   "execution_count": 17,
   "id": "4e24ed23-aa31-41ca-b390-1764b188f3d7",
   "metadata": {},
   "outputs": [
    {
     "data": {
      "text/plain": [
       "1"
      ]
     },
     "execution_count": 17,
     "metadata": {},
     "output_type": "execute_result"
    }
   ],
   "source": [
    "arr1.ndim"
   ]
  },
  {
   "cell_type": "code",
   "execution_count": 18,
   "id": "e3801311-dce3-490f-8b17-ba0eed94f86f",
   "metadata": {},
   "outputs": [
    {
     "data": {
      "text/plain": [
       "array([[1],\n",
       "       [2],\n",
       "       [3],\n",
       "       [3],\n",
       "       [4]])"
      ]
     },
     "execution_count": 18,
     "metadata": {},
     "output_type": "execute_result"
    }
   ],
   "source": [
    "# to change 1D array into 2D array\n",
    "np.expand_dims(arr1 , axis=1)"
   ]
  },
  {
   "cell_type": "code",
   "execution_count": 19,
   "id": "6b04ba32-cca4-4a64-8a54-6c6f7bb0746d",
   "metadata": {},
   "outputs": [
    {
     "data": {
      "text/plain": [
       "array([[1, 2, 3, 3, 4]])"
      ]
     },
     "execution_count": 19,
     "metadata": {},
     "output_type": "execute_result"
    }
   ],
   "source": [
    "np.expand_dims(arr1 , axis=0)"
   ]
  },
  {
   "cell_type": "code",
   "execution_count": 20,
   "id": "05ac3056-f758-4be4-ae03-d98ea9ece443",
   "metadata": {},
   "outputs": [
    {
     "data": {
      "text/plain": [
       "array([[8, 5, 9, 1],\n",
       "       [4, 5, 3, 2],\n",
       "       [5, 7, 7, 4]])"
      ]
     },
     "execution_count": 20,
     "metadata": {},
     "output_type": "execute_result"
    }
   ],
   "source": [
    "arr"
   ]
  },
  {
   "cell_type": "code",
   "execution_count": 21,
   "id": "526f2f2d-38a9-49b4-993c-4adbc2c1a3c2",
   "metadata": {},
   "outputs": [
    {
     "data": {
      "text/plain": [
       "array([[8, 5, 9, 1],\n",
       "       [4, 5, 3, 2],\n",
       "       [5, 7, 7, 4]])"
      ]
     },
     "execution_count": 21,
     "metadata": {},
     "output_type": "execute_result"
    }
   ],
   "source": [
    "np.squeeze(arr)"
   ]
  },
  {
   "cell_type": "code",
   "execution_count": 23,
   "id": "ef21afc7-73c0-4732-8677-6c96cfeaa4c4",
   "metadata": {},
   "outputs": [],
   "source": [
    "data = np.array([[1] , [2] , [3]])"
   ]
  },
  {
   "cell_type": "code",
   "execution_count": 24,
   "id": "be71ac96-682d-4a19-82f3-6bb3af91e72f",
   "metadata": {},
   "outputs": [
    {
     "data": {
      "text/plain": [
       "array([[1],\n",
       "       [2],\n",
       "       [3]])"
      ]
     },
     "execution_count": 24,
     "metadata": {},
     "output_type": "execute_result"
    }
   ],
   "source": [
    "data"
   ]
  },
  {
   "cell_type": "code",
   "execution_count": 25,
   "id": "00002fce-eba5-4c12-b3ae-c5401dd345e4",
   "metadata": {},
   "outputs": [
    {
     "data": {
      "text/plain": [
       "array([1, 2, 3])"
      ]
     },
     "execution_count": 25,
     "metadata": {},
     "output_type": "execute_result"
    }
   ],
   "source": [
    "np.squeeze(data)"
   ]
  },
  {
   "cell_type": "code",
   "execution_count": 26,
   "id": "6b1d77d8-66f7-48ae-8563-a5ff9ffbdbf0",
   "metadata": {},
   "outputs": [
    {
     "data": {
      "text/plain": [
       "array([1, 2, 3, 3, 4])"
      ]
     },
     "execution_count": 26,
     "metadata": {},
     "output_type": "execute_result"
    }
   ],
   "source": [
    "arr1"
   ]
  },
  {
   "cell_type": "code",
   "execution_count": 27,
   "id": "0431a389-befb-4038-a557-12b8f2d896ba",
   "metadata": {},
   "outputs": [
    {
     "data": {
      "text/plain": [
       "array([1, 1, 1, 2, 2, 2, 3, 3, 3, 3, 3, 3, 4, 4, 4])"
      ]
     },
     "execution_count": 27,
     "metadata": {},
     "output_type": "execute_result"
    }
   ],
   "source": [
    "np.repeat(arr1 , 3)"
   ]
  },
  {
   "cell_type": "code",
   "execution_count": 28,
   "id": "e687d8c5-0c90-40c2-a0c9-8bf4aba274b8",
   "metadata": {},
   "outputs": [
    {
     "data": {
      "text/plain": [
       "array([3, 3, 4, 1, 2])"
      ]
     },
     "execution_count": 28,
     "metadata": {},
     "output_type": "execute_result"
    }
   ],
   "source": [
    "np.roll(arr1 , 3)"
   ]
  },
  {
   "cell_type": "code",
   "execution_count": 30,
   "id": "334fdbf2-a975-44e6-89b0-ead1f805dde8",
   "metadata": {},
   "outputs": [
    {
     "data": {
      "text/plain": [
       "array([1, 2, 3, 3, 4])"
      ]
     },
     "execution_count": 30,
     "metadata": {},
     "output_type": "execute_result"
    }
   ],
   "source": [
    "arr1"
   ]
  },
  {
   "cell_type": "code",
   "execution_count": 31,
   "id": "03a48c0e-6c5e-4858-a2d9-2378ca59906e",
   "metadata": {},
   "outputs": [
    {
     "data": {
      "text/plain": [
       "array([[1, 0, 0, 0, 0],\n",
       "       [0, 2, 0, 0, 0],\n",
       "       [0, 0, 3, 0, 0],\n",
       "       [0, 0, 0, 3, 0],\n",
       "       [0, 0, 0, 0, 4]])"
      ]
     },
     "execution_count": 31,
     "metadata": {},
     "output_type": "execute_result"
    }
   ],
   "source": [
    "np.diag(arr1)"
   ]
  },
  {
   "cell_type": "code",
   "execution_count": 32,
   "id": "0bad9f77-2110-425a-96ba-5fd5daf4178a",
   "metadata": {},
   "outputs": [],
   "source": [
    "# Numpy Binary Operators"
   ]
  },
  {
   "cell_type": "code",
   "execution_count": 33,
   "id": "372078cc-8220-4e2b-9a4b-f20beb2fe2fa",
   "metadata": {},
   "outputs": [],
   "source": [
    "arr1 = np.random.randint(1,10 , (3,4))"
   ]
  },
  {
   "cell_type": "code",
   "execution_count": 34,
   "id": "bdfa8aee-e9f8-494d-ab89-69fd82bcee38",
   "metadata": {},
   "outputs": [],
   "source": [
    "arr2 = np.random.randint(1,10 , (3,4))"
   ]
  },
  {
   "cell_type": "code",
   "execution_count": 35,
   "id": "60a92c31-d160-4dca-8e01-107a0d9a1aaf",
   "metadata": {},
   "outputs": [
    {
     "data": {
      "text/plain": [
       "array([[8, 3, 1, 9],\n",
       "       [7, 7, 6, 6],\n",
       "       [3, 6, 8, 9]])"
      ]
     },
     "execution_count": 35,
     "metadata": {},
     "output_type": "execute_result"
    }
   ],
   "source": [
    "arr1"
   ]
  },
  {
   "cell_type": "code",
   "execution_count": 36,
   "id": "6bb7cc21-f231-4f34-9bf3-aea6bc1f21ea",
   "metadata": {},
   "outputs": [
    {
     "data": {
      "text/plain": [
       "array([[7, 3, 6, 4],\n",
       "       [5, 9, 5, 3],\n",
       "       [4, 2, 6, 1]])"
      ]
     },
     "execution_count": 36,
     "metadata": {},
     "output_type": "execute_result"
    }
   ],
   "source": [
    "arr2"
   ]
  },
  {
   "cell_type": "code",
   "execution_count": 37,
   "id": "175c690b-58f3-48a2-9146-c5900ce0e791",
   "metadata": {},
   "outputs": [
    {
     "data": {
      "text/plain": [
       "array([[15,  6,  7, 13],\n",
       "       [12, 16, 11,  9],\n",
       "       [ 7,  8, 14, 10]])"
      ]
     },
     "execution_count": 37,
     "metadata": {},
     "output_type": "execute_result"
    }
   ],
   "source": [
    "arr1 + arr2"
   ]
  },
  {
   "cell_type": "code",
   "execution_count": 38,
   "id": "723a8a7b-9563-4c0f-888e-30029461eea0",
   "metadata": {},
   "outputs": [
    {
     "data": {
      "text/plain": [
       "array([[56,  9,  6, 36],\n",
       "       [35, 63, 30, 18],\n",
       "       [12, 12, 48,  9]])"
      ]
     },
     "execution_count": 38,
     "metadata": {},
     "output_type": "execute_result"
    }
   ],
   "source": [
    "arr1 * arr2"
   ]
  },
  {
   "cell_type": "code",
   "execution_count": 39,
   "id": "279b3e05-cd01-4a8d-8061-6ee2ce841463",
   "metadata": {},
   "outputs": [
    {
     "data": {
      "text/plain": [
       "array([[1.14285714, 1.        , 0.16666667, 2.25      ],\n",
       "       [1.4       , 0.77777778, 1.2       , 2.        ],\n",
       "       [0.75      , 3.        , 1.33333333, 9.        ]])"
      ]
     },
     "execution_count": 39,
     "metadata": {},
     "output_type": "execute_result"
    }
   ],
   "source": [
    "arr1 / arr2"
   ]
  },
  {
   "cell_type": "code",
   "execution_count": 40,
   "id": "c9e2ed19-ea20-4322-a756-216051f0627c",
   "metadata": {},
   "outputs": [
    {
     "data": {
      "text/plain": [
       "array([[ 1,  0, -5,  5],\n",
       "       [ 2, -2,  1,  3],\n",
       "       [-1,  4,  2,  8]])"
      ]
     },
     "execution_count": 40,
     "metadata": {},
     "output_type": "execute_result"
    }
   ],
   "source": [
    "arr1 - arr2"
   ]
  },
  {
   "cell_type": "code",
   "execution_count": 41,
   "id": "6af288d4-0956-4aca-a6d1-caf4846c6dcb",
   "metadata": {},
   "outputs": [
    {
     "data": {
      "text/plain": [
       "array([[1, 0, 1, 1],\n",
       "       [2, 7, 1, 0],\n",
       "       [3, 0, 2, 0]])"
      ]
     },
     "execution_count": 41,
     "metadata": {},
     "output_type": "execute_result"
    }
   ],
   "source": [
    "arr1 % arr2"
   ]
  },
  {
   "cell_type": "code",
   "execution_count": 42,
   "id": "6074e8fe-334d-43f4-b4ea-8021578344bb",
   "metadata": {},
   "outputs": [
    {
     "data": {
      "text/plain": [
       "array([[ 2097152,       27,        1,     6561],\n",
       "       [   16807, 40353607,     7776,      216],\n",
       "       [      81,       36,   262144,        9]])"
      ]
     },
     "execution_count": 42,
     "metadata": {},
     "output_type": "execute_result"
    }
   ],
   "source": [
    "arr1 ** arr2"
   ]
  },
  {
   "cell_type": "code",
   "execution_count": 43,
   "id": "f70cdbc7-1486-4071-9c97-b5c2335c0045",
   "metadata": {},
   "outputs": [
    {
     "data": {
      "text/plain": [
       "array([[8, 3, 1, 9],\n",
       "       [7, 7, 6, 6],\n",
       "       [3, 6, 8, 9]])"
      ]
     },
     "execution_count": 43,
     "metadata": {},
     "output_type": "execute_result"
    }
   ],
   "source": [
    "arr1"
   ]
  },
  {
   "cell_type": "code",
   "execution_count": 44,
   "id": "396271e3-e70f-445a-b75c-07546615b0d9",
   "metadata": {},
   "outputs": [
    {
     "data": {
      "text/plain": [
       "array([[7, 3, 6, 4],\n",
       "       [5, 9, 5, 3],\n",
       "       [4, 2, 6, 1]])"
      ]
     },
     "execution_count": 44,
     "metadata": {},
     "output_type": "execute_result"
    }
   ],
   "source": [
    "arr2"
   ]
  },
  {
   "cell_type": "code",
   "execution_count": 45,
   "id": "c634b917-7418-4f9b-a34e-cdd51062d423",
   "metadata": {},
   "outputs": [
    {
     "data": {
      "text/plain": [
       "array([[0, 3, 0, 0],\n",
       "       [5, 1, 4, 2],\n",
       "       [0, 2, 0, 1]])"
      ]
     },
     "execution_count": 45,
     "metadata": {},
     "output_type": "execute_result"
    }
   ],
   "source": [
    "arr1 & arr2"
   ]
  },
  {
   "cell_type": "code",
   "execution_count": 46,
   "id": "b72eda1e-2397-4a7b-8fc9-732af9ebbc7a",
   "metadata": {},
   "outputs": [
    {
     "data": {
      "text/plain": [
       "array([[ -9,  -4,  -2, -10],\n",
       "       [ -8,  -8,  -7,  -7],\n",
       "       [ -4,  -7,  -9, -10]])"
      ]
     },
     "execution_count": 46,
     "metadata": {},
     "output_type": "execute_result"
    }
   ],
   "source": [
    "# nigate of an array\n",
    "~arr1"
   ]
  },
  {
   "cell_type": "code",
   "execution_count": 47,
   "id": "faa38599-2176-4598-bcc6-e51fa4c1eeaa",
   "metadata": {},
   "outputs": [
    {
     "data": {
      "text/plain": [
       "array([[15,  3,  7, 13],\n",
       "       [ 7, 15,  7,  7],\n",
       "       [ 7,  6, 14,  9]])"
      ]
     },
     "execution_count": 47,
     "metadata": {},
     "output_type": "execute_result"
    }
   ],
   "source": [
    "arr1 | arr2"
   ]
  },
  {
   "cell_type": "code",
   "execution_count": 48,
   "id": "78bc3ef4-683b-4502-a4c3-65244b8440e7",
   "metadata": {},
   "outputs": [
    {
     "data": {
      "text/plain": [
       "array([[ True, False, False,  True],\n",
       "       [ True, False,  True,  True],\n",
       "       [False,  True,  True,  True]])"
      ]
     },
     "execution_count": 48,
     "metadata": {},
     "output_type": "execute_result"
    }
   ],
   "source": [
    "arr1 > arr2"
   ]
  },
  {
   "cell_type": "code",
   "execution_count": 49,
   "id": "23e2115c-0309-4b4e-94ec-44d54893fa6e",
   "metadata": {},
   "outputs": [],
   "source": [
    "# Numpy String Function"
   ]
  },
  {
   "cell_type": "code",
   "execution_count": 52,
   "id": "4c612579-f6a8-4583-9bb7-10a054bc73ea",
   "metadata": {},
   "outputs": [],
   "source": [
    "arr = np.array(['sudh' , 'kumar'])"
   ]
  },
  {
   "cell_type": "code",
   "execution_count": 53,
   "id": "e608b383-95cf-4831-aa45-99761fa98a79",
   "metadata": {},
   "outputs": [
    {
     "data": {
      "text/plain": [
       "array(['sudh', 'kumar'], dtype='<U5')"
      ]
     },
     "execution_count": 53,
     "metadata": {},
     "output_type": "execute_result"
    }
   ],
   "source": [
    "arr"
   ]
  },
  {
   "cell_type": "code",
   "execution_count": 54,
   "id": "4579332d-5dda-40cc-95ff-4102a7ffec80",
   "metadata": {},
   "outputs": [
    {
     "data": {
      "text/plain": [
       "array(['SUDH', 'KUMAR'], dtype='<U5')"
      ]
     },
     "execution_count": 54,
     "metadata": {},
     "output_type": "execute_result"
    }
   ],
   "source": [
    "np.char.upper(arr)"
   ]
  },
  {
   "cell_type": "code",
   "execution_count": 55,
   "id": "17dc647a-56b6-485c-9d32-3c1903c5f8ca",
   "metadata": {},
   "outputs": [
    {
     "data": {
      "text/plain": [
       "array(['Sudh', 'Kumar'], dtype='<U5')"
      ]
     },
     "execution_count": 55,
     "metadata": {},
     "output_type": "execute_result"
    }
   ],
   "source": [
    "np.char.title(arr)"
   ]
  },
  {
   "cell_type": "code",
   "execution_count": 56,
   "id": "99a61e16-93fc-4e37-87f1-2e6d015e869e",
   "metadata": {},
   "outputs": [
    {
     "data": {
      "text/plain": [
       "array(['Sudh', 'Kumar'], dtype='<U5')"
      ]
     },
     "execution_count": 56,
     "metadata": {},
     "output_type": "execute_result"
    }
   ],
   "source": [
    "np.char.capitalize(arr)"
   ]
  },
  {
   "cell_type": "code",
   "execution_count": 57,
   "id": "76bfba84-3931-4793-8bd6-7f3faac78e90",
   "metadata": {},
   "outputs": [],
   "source": [
    "# Numpy Mathematical Function"
   ]
  },
  {
   "cell_type": "code",
   "execution_count": 58,
   "id": "85d06d76-2c07-4c2b-ad16-0c3fee2bb579",
   "metadata": {},
   "outputs": [
    {
     "data": {
      "text/plain": [
       "array([[8, 3, 1, 9],\n",
       "       [7, 7, 6, 6],\n",
       "       [3, 6, 8, 9]])"
      ]
     },
     "execution_count": 58,
     "metadata": {},
     "output_type": "execute_result"
    }
   ],
   "source": [
    "arr1"
   ]
  },
  {
   "cell_type": "code",
   "execution_count": 59,
   "id": "460b1d83-5c02-42d3-b9e6-12492c0a0c00",
   "metadata": {},
   "outputs": [
    {
     "data": {
      "text/plain": [
       "array([[ 0.98935825,  0.14112001,  0.84147098,  0.41211849],\n",
       "       [ 0.6569866 ,  0.6569866 , -0.2794155 , -0.2794155 ],\n",
       "       [ 0.14112001, -0.2794155 ,  0.98935825,  0.41211849]])"
      ]
     },
     "execution_count": 59,
     "metadata": {},
     "output_type": "execute_result"
    }
   ],
   "source": [
    "np.sin(arr1)"
   ]
  },
  {
   "cell_type": "code",
   "execution_count": 60,
   "id": "69ddb6e8-cab0-4d14-a34e-23a475a0ee7d",
   "metadata": {},
   "outputs": [
    {
     "data": {
      "text/plain": [
       "array([[-0.14550003, -0.9899925 ,  0.54030231, -0.91113026],\n",
       "       [ 0.75390225,  0.75390225,  0.96017029,  0.96017029],\n",
       "       [-0.9899925 ,  0.96017029, -0.14550003, -0.91113026]])"
      ]
     },
     "execution_count": 60,
     "metadata": {},
     "output_type": "execute_result"
    }
   ],
   "source": [
    "np.cos(arr1)"
   ]
  },
  {
   "cell_type": "code",
   "execution_count": 61,
   "id": "0434b02d-b446-4899-8fd6-d90f6b29d2ab",
   "metadata": {},
   "outputs": [
    {
     "data": {
      "text/plain": [
       "array([[-6.79971146, -0.14254654,  1.55740772, -0.45231566],\n",
       "       [ 0.87144798,  0.87144798, -0.29100619, -0.29100619],\n",
       "       [-0.14254654, -0.29100619, -6.79971146, -0.45231566]])"
      ]
     },
     "execution_count": 61,
     "metadata": {},
     "output_type": "execute_result"
    }
   ],
   "source": [
    "np.tan(arr1)"
   ]
  },
  {
   "cell_type": "code",
   "execution_count": 62,
   "id": "0babdb77-a86d-4a47-a999-24cd5509812d",
   "metadata": {},
   "outputs": [
    {
     "data": {
      "text/plain": [
       "array([[0.90308999, 0.47712125, 0.        , 0.95424251],\n",
       "       [0.84509804, 0.84509804, 0.77815125, 0.77815125],\n",
       "       [0.47712125, 0.77815125, 0.90308999, 0.95424251]])"
      ]
     },
     "execution_count": 62,
     "metadata": {},
     "output_type": "execute_result"
    }
   ],
   "source": [
    "np.log10(arr1)"
   ]
  },
  {
   "cell_type": "code",
   "execution_count": 63,
   "id": "fc9aa9ca-3abe-48ef-8fe5-b40adaa77419",
   "metadata": {},
   "outputs": [
    {
     "data": {
      "text/plain": [
       "array([[2.98095799e+03, 2.00855369e+01, 2.71828183e+00, 8.10308393e+03],\n",
       "       [1.09663316e+03, 1.09663316e+03, 4.03428793e+02, 4.03428793e+02],\n",
       "       [2.00855369e+01, 4.03428793e+02, 2.98095799e+03, 8.10308393e+03]])"
      ]
     },
     "execution_count": 63,
     "metadata": {},
     "output_type": "execute_result"
    }
   ],
   "source": [
    "np.exp(arr1)"
   ]
  },
  {
   "cell_type": "code",
   "execution_count": 64,
   "id": "3f457fde-001d-476c-94e2-7e38fcd76067",
   "metadata": {},
   "outputs": [
    {
     "data": {
      "text/plain": [
       "array([[2.82842712, 1.73205081, 1.        , 3.        ],\n",
       "       [2.64575131, 2.64575131, 2.44948974, 2.44948974],\n",
       "       [1.73205081, 2.44948974, 2.82842712, 3.        ]])"
      ]
     },
     "execution_count": 64,
     "metadata": {},
     "output_type": "execute_result"
    }
   ],
   "source": [
    "np.sqrt(arr1)"
   ]
  },
  {
   "cell_type": "code",
   "execution_count": 65,
   "id": "67b41159-88a1-4317-a053-f6e66411f334",
   "metadata": {},
   "outputs": [
    {
     "data": {
      "text/plain": [
       "array([[64,  9,  1, 81],\n",
       "       [49, 49, 36, 36],\n",
       "       [ 9, 36, 64, 81]])"
      ]
     },
     "execution_count": 65,
     "metadata": {},
     "output_type": "execute_result"
    }
   ],
   "source": [
    "np.power(arr1 , 2)"
   ]
  },
  {
   "cell_type": "code",
   "execution_count": 66,
   "id": "3c1dd18e-d03d-4043-96dc-ec5a14b6245d",
   "metadata": {},
   "outputs": [
    {
     "data": {
      "text/plain": [
       "6.083333333333333"
      ]
     },
     "execution_count": 66,
     "metadata": {},
     "output_type": "execute_result"
    }
   ],
   "source": [
    "np.mean(arr1)"
   ]
  },
  {
   "cell_type": "code",
   "execution_count": 67,
   "id": "09a2ba92-751c-4dff-af28-06ab3d04294d",
   "metadata": {},
   "outputs": [
    {
     "data": {
      "text/plain": [
       "6.5"
      ]
     },
     "execution_count": 67,
     "metadata": {},
     "output_type": "execute_result"
    }
   ],
   "source": [
    "np.median(arr1)"
   ]
  },
  {
   "cell_type": "code",
   "execution_count": 69,
   "id": "826a7f4e-62b7-4414-be83-e2147b56bbd0",
   "metadata": {},
   "outputs": [
    {
     "data": {
      "text/plain": [
       "2.43099202430247"
      ]
     },
     "execution_count": 69,
     "metadata": {},
     "output_type": "execute_result"
    }
   ],
   "source": [
    "np.std(arr1)"
   ]
  },
  {
   "cell_type": "code",
   "execution_count": 70,
   "id": "0512e3e3-a5cb-4d23-b990-ee898e090a9f",
   "metadata": {},
   "outputs": [
    {
     "data": {
      "text/plain": [
       "5.909722222222222"
      ]
     },
     "execution_count": 70,
     "metadata": {},
     "output_type": "execute_result"
    }
   ],
   "source": [
    "np.var(arr1)"
   ]
  },
  {
   "cell_type": "code",
   "execution_count": 71,
   "id": "d40a93fb-633c-496a-981e-8339d5fb3015",
   "metadata": {},
   "outputs": [
    {
     "data": {
      "text/plain": [
       "1"
      ]
     },
     "execution_count": 71,
     "metadata": {},
     "output_type": "execute_result"
    }
   ],
   "source": [
    "np.min(arr1)"
   ]
  },
  {
   "cell_type": "code",
   "execution_count": 72,
   "id": "b15bd11e-cac3-4d9f-adae-023537da96a4",
   "metadata": {},
   "outputs": [
    {
     "data": {
      "text/plain": [
       "9"
      ]
     },
     "execution_count": 72,
     "metadata": {},
     "output_type": "execute_result"
    }
   ],
   "source": [
    "np.max(arr1)"
   ]
  },
  {
   "cell_type": "code",
   "execution_count": null,
   "id": "72278a98-1595-468a-91d4-1b0b40903357",
   "metadata": {},
   "outputs": [],
   "source": []
  }
 ],
 "metadata": {
  "kernelspec": {
   "display_name": "Python 3 (ipykernel)",
   "language": "python",
   "name": "python3"
  },
  "language_info": {
   "codemirror_mode": {
    "name": "ipython",
    "version": 3
   },
   "file_extension": ".py",
   "mimetype": "text/x-python",
   "name": "python",
   "nbconvert_exporter": "python",
   "pygments_lexer": "ipython3",
   "version": "3.10.8"
  }
 },
 "nbformat": 4,
 "nbformat_minor": 5
}
