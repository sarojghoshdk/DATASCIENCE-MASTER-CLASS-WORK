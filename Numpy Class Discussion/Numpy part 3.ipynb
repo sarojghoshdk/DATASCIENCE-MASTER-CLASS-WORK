{
 "cells": [
  {
   "cell_type": "code",
   "execution_count": 1,
   "id": "1c07bee5-2e06-4b0c-a939-1d4d48acacab",
   "metadata": {},
   "outputs": [],
   "source": [
    "# Sort, Search & Counting Function"
   ]
  },
  {
   "cell_type": "code",
   "execution_count": 2,
   "id": "e084eb5a-e0f8-47a4-9a71-501dc0f6ab4b",
   "metadata": {},
   "outputs": [],
   "source": [
    "import numpy as np"
   ]
  },
  {
   "cell_type": "code",
   "execution_count": 3,
   "id": "3a590510-ab83-4665-8af1-7a76da74c8c0",
   "metadata": {},
   "outputs": [],
   "source": [
    "arr = np.array([4,3,5,6,72,3,3,455,5,6,6])"
   ]
  },
  {
   "cell_type": "code",
   "execution_count": 4,
   "id": "375557e6-38b9-415f-9f48-e92f6b7a9a49",
   "metadata": {},
   "outputs": [
    {
     "data": {
      "text/plain": [
       "array([  4,   3,   5,   6,  72,   3,   3, 455,   5,   6,   6])"
      ]
     },
     "execution_count": 4,
     "metadata": {},
     "output_type": "execute_result"
    }
   ],
   "source": [
    "arr"
   ]
  },
  {
   "cell_type": "code",
   "execution_count": 5,
   "id": "f149035b-43c8-4e12-96fe-9ba5cea77814",
   "metadata": {},
   "outputs": [
    {
     "data": {
      "text/plain": [
       "array([  3,   3,   3,   4,   5,   5,   6,   6,   6,  72, 455])"
      ]
     },
     "execution_count": 5,
     "metadata": {},
     "output_type": "execute_result"
    }
   ],
   "source": [
    "np.sort(arr)"
   ]
  },
  {
   "cell_type": "code",
   "execution_count": 6,
   "id": "45e50890-4c83-4db3-99a5-47d2581e7826",
   "metadata": {},
   "outputs": [
    {
     "data": {
      "text/plain": [
       "11"
      ]
     },
     "execution_count": 6,
     "metadata": {},
     "output_type": "execute_result"
    }
   ],
   "source": [
    "np.searchsorted(arr , 34)   # in which position 34 data is gone"
   ]
  },
  {
   "cell_type": "code",
   "execution_count": 7,
   "id": "a97929e1-566b-4a76-b061-fcd2e3981e1d",
   "metadata": {},
   "outputs": [],
   "source": [
    "arr1 = np.array([0,345,454,0,0,0,0,0])"
   ]
  },
  {
   "cell_type": "code",
   "execution_count": 8,
   "id": "2070d10b-fcf6-46f2-af12-b6cee85fc483",
   "metadata": {},
   "outputs": [
    {
     "data": {
      "text/plain": [
       "array([  0, 345, 454,   0,   0,   0,   0,   0])"
      ]
     },
     "execution_count": 8,
     "metadata": {},
     "output_type": "execute_result"
    }
   ],
   "source": [
    "arr1"
   ]
  },
  {
   "cell_type": "code",
   "execution_count": 9,
   "id": "d4f5086e-0a27-4d20-9064-17282b508823",
   "metadata": {},
   "outputs": [
    {
     "data": {
      "text/plain": [
       "2"
      ]
     },
     "execution_count": 9,
     "metadata": {},
     "output_type": "execute_result"
    }
   ],
   "source": [
    "np.count_nonzero(arr1)"
   ]
  },
  {
   "cell_type": "code",
   "execution_count": 10,
   "id": "7b55745c-e53d-4251-a00a-aaaaa550d9ae",
   "metadata": {},
   "outputs": [
    {
     "data": {
      "text/plain": [
       "array([  4,   3,   5,   6,  72,   3,   3, 455,   5,   6,   6])"
      ]
     },
     "execution_count": 10,
     "metadata": {},
     "output_type": "execute_result"
    }
   ],
   "source": [
    "arr"
   ]
  },
  {
   "cell_type": "code",
   "execution_count": 11,
   "id": "8e3499c1-78d6-49ee-a4c3-af117c585789",
   "metadata": {},
   "outputs": [
    {
     "data": {
      "text/plain": [
       "(array([4, 7]),)"
      ]
     },
     "execution_count": 11,
     "metadata": {},
     "output_type": "execute_result"
    }
   ],
   "source": [
    "np.where(arr > 6)"
   ]
  },
  {
   "cell_type": "code",
   "execution_count": 13,
   "id": "17ad9f96-6f85-4a7a-90d0-2d66500c3db1",
   "metadata": {},
   "outputs": [
    {
     "data": {
      "text/plain": [
       "array([  4,   5,   6,  72, 455,   5,   6,   6])"
      ]
     },
     "execution_count": 13,
     "metadata": {},
     "output_type": "execute_result"
    }
   ],
   "source": [
    "np.extract(arr > 3 , arr)"
   ]
  },
  {
   "cell_type": "code",
   "execution_count": 14,
   "id": "5f19acef-9cec-4ca6-b7bf-dc517bf666d0",
   "metadata": {},
   "outputs": [],
   "source": [
    "# Numpy Byte Swapping"
   ]
  },
  {
   "cell_type": "code",
   "execution_count": 15,
   "id": "1fd9ad5f-acee-4842-a2b0-5f814cd448f0",
   "metadata": {},
   "outputs": [
    {
     "data": {
      "text/plain": [
       "array([  4,   3,   5,   6,  72,   3,   3, 455,   5,   6,   6])"
      ]
     },
     "execution_count": 15,
     "metadata": {},
     "output_type": "execute_result"
    }
   ],
   "source": [
    "arr"
   ]
  },
  {
   "cell_type": "code",
   "execution_count": 16,
   "id": "5180aee6-1ecb-4aa8-a3ac-40358fb79125",
   "metadata": {},
   "outputs": [
    {
     "data": {
      "text/plain": [
       "array([  288230376151711744,   216172782113783808,   360287970189639680,\n",
       "         432345564227567616,  5188146770730811392,   216172782113783808,\n",
       "         216172782113783808, -4107001385185181696,   360287970189639680,\n",
       "         432345564227567616,   432345564227567616])"
      ]
     },
     "execution_count": 16,
     "metadata": {},
     "output_type": "execute_result"
    }
   ],
   "source": [
    "arr.byteswap()"
   ]
  },
  {
   "cell_type": "code",
   "execution_count": 17,
   "id": "f67b125a-5ae9-486d-ad74-953983d56f3d",
   "metadata": {},
   "outputs": [],
   "source": [
    "# Numpy Copies & Views"
   ]
  },
  {
   "cell_type": "code",
   "execution_count": 18,
   "id": "06a24fe2-5dc5-4b33-a518-70f70435bd91",
   "metadata": {},
   "outputs": [
    {
     "data": {
      "text/plain": [
       "array([  4,   3,   5,   6,  72,   3,   3, 455,   5,   6,   6])"
      ]
     },
     "execution_count": 18,
     "metadata": {},
     "output_type": "execute_result"
    }
   ],
   "source": [
    "arr"
   ]
  },
  {
   "cell_type": "code",
   "execution_count": 19,
   "id": "1852486d-9b56-4d97-8614-723aba36f54d",
   "metadata": {},
   "outputs": [],
   "source": [
    "a = np.copy(arr)"
   ]
  },
  {
   "cell_type": "code",
   "execution_count": 20,
   "id": "42695006-91c1-4643-9366-2548d0d1c167",
   "metadata": {},
   "outputs": [],
   "source": [
    "b = arr.view()"
   ]
  },
  {
   "cell_type": "code",
   "execution_count": 21,
   "id": "ed7d0fa1-94f8-44ba-8023-51983fc51e11",
   "metadata": {},
   "outputs": [
    {
     "data": {
      "text/plain": [
       "array([  4,   3,   5,   6,  72,   3,   3, 455,   5,   6,   6])"
      ]
     },
     "execution_count": 21,
     "metadata": {},
     "output_type": "execute_result"
    }
   ],
   "source": [
    "b"
   ]
  },
  {
   "cell_type": "code",
   "execution_count": 22,
   "id": "2310de21-e117-4c56-a231-87fcce9ec13a",
   "metadata": {},
   "outputs": [
    {
     "data": {
      "text/plain": [
       "array([  4,   3,   5,   6,  72,   3,   3, 455,   5,   6,   6])"
      ]
     },
     "execution_count": 22,
     "metadata": {},
     "output_type": "execute_result"
    }
   ],
   "source": [
    "arr"
   ]
  },
  {
   "cell_type": "code",
   "execution_count": 23,
   "id": "8c90b13b-e91a-4a2f-b63b-41ad32088246",
   "metadata": {},
   "outputs": [],
   "source": [
    "b[0] = 67"
   ]
  },
  {
   "cell_type": "code",
   "execution_count": 24,
   "id": "845b92dc-c95e-4c26-988c-4b172fbc4f72",
   "metadata": {},
   "outputs": [
    {
     "data": {
      "text/plain": [
       "array([ 67,   3,   5,   6,  72,   3,   3, 455,   5,   6,   6])"
      ]
     },
     "execution_count": 24,
     "metadata": {},
     "output_type": "execute_result"
    }
   ],
   "source": [
    "b"
   ]
  },
  {
   "cell_type": "code",
   "execution_count": 25,
   "id": "6e9a0c6e-7442-41b8-9010-66099b148269",
   "metadata": {},
   "outputs": [
    {
     "data": {
      "text/plain": [
       "array([ 67,   3,   5,   6,  72,   3,   3, 455,   5,   6,   6])"
      ]
     },
     "execution_count": 25,
     "metadata": {},
     "output_type": "execute_result"
    }
   ],
   "source": [
    "arr"
   ]
  },
  {
   "cell_type": "code",
   "execution_count": 26,
   "id": "41042bf6-2436-43f3-8b8b-a7ff313df09a",
   "metadata": {},
   "outputs": [],
   "source": [
    "# Numpy Matrix Library"
   ]
  },
  {
   "cell_type": "code",
   "execution_count": 27,
   "id": "0d44098f-0668-4372-87db-ce3bdba8ed4a",
   "metadata": {},
   "outputs": [],
   "source": [
    "import numpy.matlib as nm"
   ]
  },
  {
   "cell_type": "code",
   "execution_count": 28,
   "id": "4c6c0b1d-ff6e-4897-b2b9-6c861726afcb",
   "metadata": {},
   "outputs": [
    {
     "data": {
      "text/plain": [
       "matrix([[0., 0., 0., 0., 0.]])"
      ]
     },
     "execution_count": 28,
     "metadata": {},
     "output_type": "execute_result"
    }
   ],
   "source": [
    "nm.zeros(5)"
   ]
  },
  {
   "cell_type": "code",
   "execution_count": 29,
   "id": "b8ac9d1a-fefd-4df9-9709-92bcb14e948e",
   "metadata": {},
   "outputs": [
    {
     "data": {
      "text/plain": [
       "matrix([[1., 1., 1., 1.],\n",
       "        [1., 1., 1., 1.],\n",
       "        [1., 1., 1., 1.]])"
      ]
     },
     "execution_count": 29,
     "metadata": {},
     "output_type": "execute_result"
    }
   ],
   "source": [
    "nm.ones((3,4))"
   ]
  },
  {
   "cell_type": "code",
   "execution_count": 30,
   "id": "894b07e3-3ba0-49b5-a611-ea7223d6bd9e",
   "metadata": {},
   "outputs": [
    {
     "data": {
      "text/plain": [
       "matrix([[1., 0., 0., 0., 0.],\n",
       "        [0., 1., 0., 0., 0.],\n",
       "        [0., 0., 1., 0., 0.],\n",
       "        [0., 0., 0., 1., 0.],\n",
       "        [0., 0., 0., 0., 1.]])"
      ]
     },
     "execution_count": 30,
     "metadata": {},
     "output_type": "execute_result"
    }
   ],
   "source": [
    "nm.eye(5)"
   ]
  },
  {
   "cell_type": "code",
   "execution_count": 31,
   "id": "19087002-7b52-4017-87d2-8c486330100e",
   "metadata": {},
   "outputs": [],
   "source": [
    "# Numpy linear Algebra"
   ]
  },
  {
   "cell_type": "code",
   "execution_count": 36,
   "id": "d4852dec-6ae9-47d0-a8bf-e7b5e57555fd",
   "metadata": {},
   "outputs": [],
   "source": [
    "arr1 = np.random.randint([[2,3] , [4,5]])"
   ]
  },
  {
   "cell_type": "code",
   "execution_count": 37,
   "id": "6aeb7545-ceca-4d84-8ba0-d734d3a8dc2f",
   "metadata": {},
   "outputs": [],
   "source": [
    "arr2 = np.random.randint([[5,3] , [2,5]])"
   ]
  },
  {
   "cell_type": "code",
   "execution_count": 38,
   "id": "924f6bb5-3347-47dd-baab-d4583e8ffea8",
   "metadata": {},
   "outputs": [
    {
     "data": {
      "text/plain": [
       "array([[ 2,  4],\n",
       "       [ 6, 14]])"
      ]
     },
     "execution_count": 38,
     "metadata": {},
     "output_type": "execute_result"
    }
   ],
   "source": [
    "np.dot(arr1 , arr2)"
   ]
  },
  {
   "cell_type": "code",
   "execution_count": 40,
   "id": "122eab01-2967-451d-a5f0-041a2657a6c5",
   "metadata": {},
   "outputs": [
    {
     "data": {
      "text/plain": [
       "array([[ 2,  4],\n",
       "       [ 6, 14]])"
      ]
     },
     "execution_count": 40,
     "metadata": {},
     "output_type": "execute_result"
    }
   ],
   "source": [
    "arr1@arr2   # matrix multiplication"
   ]
  },
  {
   "cell_type": "code",
   "execution_count": null,
   "id": "4aea8051-605f-4dac-b918-f3a37b56dca5",
   "metadata": {},
   "outputs": [],
   "source": []
  }
 ],
 "metadata": {
  "kernelspec": {
   "display_name": "Python 3 (ipykernel)",
   "language": "python",
   "name": "python3"
  },
  "language_info": {
   "codemirror_mode": {
    "name": "ipython",
    "version": 3
   },
   "file_extension": ".py",
   "mimetype": "text/x-python",
   "name": "python",
   "nbconvert_exporter": "python",
   "pygments_lexer": "ipython3",
   "version": "3.10.8"
  }
 },
 "nbformat": 4,
 "nbformat_minor": 5
}
