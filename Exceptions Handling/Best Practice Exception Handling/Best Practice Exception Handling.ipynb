{
 "cells": [
  {
   "cell_type": "code",
   "execution_count": 1,
   "id": "ea37a4c5-fde1-44c4-a068-2ef3f9bb0f8d",
   "metadata": {},
   "outputs": [
    {
     "name": "stdout",
     "output_type": "stream",
     "text": [
      "division by zero\n"
     ]
    }
   ],
   "source": [
    "# use always a specific exception\n",
    "\n",
    "try :\n",
    "    10/0\n",
    "except Exception as e:\n",
    "    print(e)\n",
    "    "
   ]
  },
  {
   "cell_type": "code",
   "execution_count": 2,
   "id": "7106af19-2a33-467a-8b9f-c903624d9954",
   "metadata": {},
   "outputs": [
    {
     "name": "stdout",
     "output_type": "stream",
     "text": [
      "division by zero\n"
     ]
    }
   ],
   "source": [
    "try :\n",
    "    10/0\n",
    "except ZeroDivisionError as e:\n",
    "    print(e)\n",
    "    "
   ]
  },
  {
   "cell_type": "code",
   "execution_count": 3,
   "id": "1dd8e86f-38a3-46d9-86d7-89591372f96f",
   "metadata": {},
   "outputs": [
    {
     "name": "stdout",
     "output_type": "stream",
     "text": [
      "i am trying to handle a Zerodevision error division by zero\n"
     ]
    }
   ],
   "source": [
    "# print always a proper message\n",
    "\n",
    "try :\n",
    "    10/0\n",
    "except ZeroDivisionError as e:\n",
    "    print(\"i am trying to handle a Zerodevision error\" , e)"
   ]
  },
  {
   "cell_type": "code",
   "execution_count": 5,
   "id": "8d14c95c-83af-4138-9c1b-f594b9169439",
   "metadata": {},
   "outputs": [],
   "source": [
    "# always try to log your error\n",
    "\n",
    "import logging\n",
    "logging.basicConfig(filename = \"error.log\" , level = logging.ERROR)\n",
    "try :\n",
    "    10/0\n",
    "except ZeroDivisionError as e:\n",
    "    logging.error(\"i am trying to handle a Zerodevision error {}\".format(e))"
   ]
  },
  {
   "cell_type": "code",
   "execution_count": 6,
   "id": "38246992-e4c1-4f28-80b0-9d293471b23f",
   "metadata": {},
   "outputs": [],
   "source": [
    "# always avoid to write a multiple exception handling\n",
    "\n",
    "try :\n",
    "    10/0\n",
    "except FileNotFoundError as e:\n",
    "    logging.error(\"i am trying to handle file not found error {}\".format(e))\n",
    "except AttributeError as e:\n",
    "    logging.error(\"i am trying to handle Attribute error {}\".format(e))\n",
    "except ZeroDivisionError as e:\n",
    "    logging.error(\"i am trying to handle a Zerodevision error {}\".format(e))"
   ]
  },
  {
   "cell_type": "code",
   "execution_count": 7,
   "id": "c68bd89c-2eaf-4789-9eea-84a05d4400fb",
   "metadata": {},
   "outputs": [],
   "source": [
    "# Document all the error\n",
    "# Cleanup all the recources\n",
    "\n",
    "try :\n",
    "    with open(\"ex.txt\" , \"w\") as f:\n",
    "        f.write(\"this is my dat to file\")\n",
    "except FileNotFoundError as e:\n",
    "    logging.error(\"i am trying to handle file not found error {}\".format(e))\n",
    "finally:\n",
    "    f.close()"
   ]
  },
  {
   "cell_type": "code",
   "execution_count": null,
   "id": "153e7bd6-77c5-475a-a81c-c7894ed964e1",
   "metadata": {},
   "outputs": [],
   "source": []
  }
 ],
 "metadata": {
  "kernelspec": {
   "display_name": "Python 3 (ipykernel)",
   "language": "python",
   "name": "python3"
  },
  "language_info": {
   "codemirror_mode": {
    "name": "ipython",
    "version": 3
   },
   "file_extension": ".py",
   "mimetype": "text/x-python",
   "name": "python",
   "nbconvert_exporter": "python",
   "pygments_lexer": "ipython3",
   "version": "3.10.8"
  }
 },
 "nbformat": 4,
 "nbformat_minor": 5
}
