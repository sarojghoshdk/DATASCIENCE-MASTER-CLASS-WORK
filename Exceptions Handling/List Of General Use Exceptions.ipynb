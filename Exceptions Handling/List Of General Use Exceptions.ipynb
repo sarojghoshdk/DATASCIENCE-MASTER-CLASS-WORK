{
 "cells": [
  {
   "cell_type": "code",
   "execution_count": 1,
   "id": "e9c0a844-7be8-47f6-aa5e-f1f7297ae792",
   "metadata": {},
   "outputs": [
    {
     "name": "stdout",
     "output_type": "stream",
     "text": [
      "division by zero\n"
     ]
    }
   ],
   "source": [
    "try :\n",
    "    \n",
    "    a = 10/0\n",
    "except ZeroDivisionError as e:\n",
    "    print(e)"
   ]
  },
  {
   "cell_type": "code",
   "execution_count": 2,
   "id": "c9aa2ed6-5a82-4d84-bc9d-cfb22bbca9b4",
   "metadata": {},
   "outputs": [
    {
     "name": "stdout",
     "output_type": "stream",
     "text": [
      "invalid literal for int() with base 10: 'saroj'\n"
     ]
    }
   ],
   "source": [
    "try :\n",
    "    int(\"saroj\")\n",
    "except (ValueError , TypeError) as e:\n",
    "    print(e)"
   ]
  },
  {
   "cell_type": "code",
   "execution_count": 4,
   "id": "2695c1e2-8e9b-466e-bfc6-d1958c947820",
   "metadata": {},
   "outputs": [
    {
     "name": "stdout",
     "output_type": "stream",
     "text": [
      "this will catch an error\n"
     ]
    }
   ],
   "source": [
    "try :\n",
    "    int(\"saroj\")\n",
    "except:            # when we don't know acyual error\n",
    "    print(\"this will catch an error\")"
   ]
  },
  {
   "cell_type": "code",
   "execution_count": 5,
   "id": "2ea46057-34e9-41b7-962f-8a38683740de",
   "metadata": {},
   "outputs": [
    {
     "name": "stdout",
     "output_type": "stream",
     "text": [
      "No module named 'saroj'\n"
     ]
    },
    {
     "data": {
      "text/plain": [
       "5.0"
      ]
     },
     "execution_count": 5,
     "metadata": {},
     "output_type": "execute_result"
    }
   ],
   "source": [
    "try :\n",
    "    import saroj\n",
    "except ImportError as e:\n",
    "    print(e)\n",
    "10/2"
   ]
  },
  {
   "cell_type": "code",
   "execution_count": 7,
   "id": "7de1f5dc-a510-4a23-8ea2-4547e18c42b7",
   "metadata": {},
   "outputs": [
    {
     "name": "stdout",
     "output_type": "stream",
     "text": [
      "'key2'\n"
     ]
    }
   ],
   "source": [
    "try :\n",
    "    d = {\"key\" : \"saroj\" , 1 : [2,3,4,5]}\n",
    "    print(d[\"key2\"])\n",
    "except KeyError as e:\n",
    "    print(e)"
   ]
  },
  {
   "cell_type": "code",
   "execution_count": 8,
   "id": "ac1a84a8-58f9-4b62-b1e8-8a026874268b",
   "metadata": {},
   "outputs": [
    {
     "name": "stdout",
     "output_type": "stream",
     "text": [
      "'str' object has no attribute 'test'\n"
     ]
    }
   ],
   "source": [
    "try :\n",
    "    \"saroj\".test()\n",
    "except AttributeError as e:\n",
    "    print(e)"
   ]
  },
  {
   "cell_type": "code",
   "execution_count": 9,
   "id": "5ee868a1-7608-4159-8a82-fb5e65bf4d43",
   "metadata": {},
   "outputs": [
    {
     "name": "stdout",
     "output_type": "stream",
     "text": [
      "list index out of range\n"
     ]
    }
   ],
   "source": [
    "try :\n",
    "    l = [2,3,4,5]\n",
    "    print(l[6])\n",
    "except IndexError as e:\n",
    "    print(e)"
   ]
  },
  {
   "cell_type": "code",
   "execution_count": 10,
   "id": "85e7d800-f7a7-41b6-b92b-51275fada783",
   "metadata": {},
   "outputs": [
    {
     "name": "stdout",
     "output_type": "stream",
     "text": [
      "unsupported operand type(s) for +: 'int' and 'str'\n"
     ]
    }
   ],
   "source": [
    "try :\n",
    "    123 + \"saroj\"\n",
    "except TypeError as e:\n",
    "    print(e)"
   ]
  },
  {
   "cell_type": "code",
   "execution_count": 11,
   "id": "e156ed0f-2b86-493b-b7dc-2ebc280b9ec5",
   "metadata": {},
   "outputs": [
    {
     "name": "stdout",
     "output_type": "stream",
     "text": [
      "[Errno 2] No such file or directory: 'ex.txt'\n"
     ]
    }
   ],
   "source": [
    "try :\n",
    "    with open(\"ex.txt\" , \"r\") as f:\n",
    "        t = f.read()\n",
    "except FileNotFoundError as e :\n",
    "    print(e)"
   ]
  },
  {
   "cell_type": "code",
   "execution_count": 14,
   "id": "a3a2c856-499e-409a-a204-e819f17141d4",
   "metadata": {},
   "outputs": [
    {
     "name": "stdout",
     "output_type": "stream",
     "text": [
      "[Errno 2] No such file or directory: 'ex.txt'\n"
     ]
    }
   ],
   "source": [
    "try :\n",
    "    with open(\"ex.txt\" , \"r\") as f:\n",
    "        t = f.read()\n",
    "except Exception as e: # generic or super class is place at last because if superclass is comes first then superclass will handal the exception.\n",
    "    print(e)\n",
    "except FileNotFoundError as e :\n",
    "    print(\"test\" , e)"
   ]
  },
  {
   "cell_type": "code",
   "execution_count": 16,
   "id": "0c7f1980-6fef-4fa1-a2a7-29f5a871637b",
   "metadata": {},
   "outputs": [],
   "source": [
    "def test(file):\n",
    "    try :\n",
    "        with open(\"ex.txt\" , \"r\") as f:\n",
    "            t = f.read()\n",
    "    except Exception as e: # generic or super class is place at last because if superclass is comes first then superclass will handal the exception.\n",
    "        print(e)\n",
    "    except FileNotFoundError as e :\n",
    "        print(\"test\" , e)"
   ]
  },
  {
   "cell_type": "code",
   "execution_count": 12,
   "id": "8347660e-82db-405d-81a1-74cf415dac86",
   "metadata": {},
   "outputs": [
    {
     "data": {
      "text/plain": [
       "['__cause__',\n",
       " '__class__',\n",
       " '__context__',\n",
       " '__delattr__',\n",
       " '__dict__',\n",
       " '__dir__',\n",
       " '__doc__',\n",
       " '__eq__',\n",
       " '__format__',\n",
       " '__ge__',\n",
       " '__getattribute__',\n",
       " '__gt__',\n",
       " '__hash__',\n",
       " '__init__',\n",
       " '__init_subclass__',\n",
       " '__le__',\n",
       " '__lt__',\n",
       " '__ne__',\n",
       " '__new__',\n",
       " '__reduce__',\n",
       " '__reduce_ex__',\n",
       " '__repr__',\n",
       " '__setattr__',\n",
       " '__setstate__',\n",
       " '__sizeof__',\n",
       " '__str__',\n",
       " '__subclasshook__',\n",
       " '__suppress_context__',\n",
       " '__traceback__',\n",
       " 'args',\n",
       " 'with_traceback']"
      ]
     },
     "execution_count": 12,
     "metadata": {},
     "output_type": "execute_result"
    }
   ],
   "source": [
    "dir(Exception)"
   ]
  },
  {
   "cell_type": "code",
   "execution_count": null,
   "id": "1dd7abab-e3f1-47b4-a9b6-38720ea06e35",
   "metadata": {},
   "outputs": [],
   "source": []
  }
 ],
 "metadata": {
  "kernelspec": {
   "display_name": "Python 3 (ipykernel)",
   "language": "python",
   "name": "python3"
  },
  "language_info": {
   "codemirror_mode": {
    "name": "ipython",
    "version": 3
   },
   "file_extension": ".py",
   "mimetype": "text/x-python",
   "name": "python",
   "nbconvert_exporter": "python",
   "pygments_lexer": "ipython3",
   "version": "3.10.8"
  }
 },
 "nbformat": 4,
 "nbformat_minor": 5
}
