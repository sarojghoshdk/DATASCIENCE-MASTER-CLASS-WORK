{
 "cells": [
  {
   "cell_type": "markdown",
   "id": "bab94569-68a0-48b8-ad6a-c728b41a27b6",
   "metadata": {},
   "source": [
    "Property Decorators Getters, Setters, And Deletes"
   ]
  },
  {
   "cell_type": "code",
   "execution_count": 18,
   "id": "79e7e3fb-a7ee-4ca2-8650-03a95658e022",
   "metadata": {},
   "outputs": [],
   "source": [
    "class pwskills:\n",
    "    \n",
    "    def __init__(self , course_price , course_name):\n",
    "        self.__course_price = course_price      # this is private not seen by the user & user can't access this course_price\n",
    "        self.course_name = course_name\n",
    "        \n",
    "    @property\n",
    "    def course_price_access(self):     # by this func user saw the course_price & access the course_price\n",
    "        return self.__course_price\n",
    "    \n",
    "    @course_price_access.setter        # by this func user can set the course_price\n",
    "    def course_price_set(self , price):\n",
    "        if price <= 3500:\n",
    "            pass\n",
    "        else:\n",
    "            self.__course_price = price\n",
    "            \n",
    "    @course_price_access.deleter        # by this func user can delete the course_price\n",
    "    def delete_course_price(self):\n",
    "        del self.__course_price"
   ]
  },
  {
   "cell_type": "code",
   "execution_count": 20,
   "id": "f9e7370f-3bdb-44dd-9b0a-8bc79d804c5e",
   "metadata": {},
   "outputs": [],
   "source": [
    "pw = pwskills(3500 , \"DSM\")"
   ]
  },
  {
   "cell_type": "code",
   "execution_count": 21,
   "id": "a05810ae-4099-4cc9-ac3e-b3e53d8e1196",
   "metadata": {},
   "outputs": [
    {
     "data": {
      "text/plain": [
       "3500"
      ]
     },
     "execution_count": 21,
     "metadata": {},
     "output_type": "execute_result"
    }
   ],
   "source": [
    "pw.course_price_access"
   ]
  },
  {
   "cell_type": "code",
   "execution_count": 22,
   "id": "f88ad761-7e70-498f-ab97-9a170cbe9e63",
   "metadata": {},
   "outputs": [],
   "source": [
    "del pw.delete_course_price"
   ]
  },
  {
   "cell_type": "code",
   "execution_count": 23,
   "id": "d37ea2f7-85d8-49f9-96c9-c9b79e549356",
   "metadata": {},
   "outputs": [
    {
     "ename": "AttributeError",
     "evalue": "'pwskills' object has no attribute '_pwskills__course_price'",
     "output_type": "error",
     "traceback": [
      "\u001b[0;31m---------------------------------------------------------------------------\u001b[0m",
      "\u001b[0;31mAttributeError\u001b[0m                            Traceback (most recent call last)",
      "Cell \u001b[0;32mIn[23], line 1\u001b[0m\n\u001b[0;32m----> 1\u001b[0m \u001b[43mpw\u001b[49m\u001b[38;5;241;43m.\u001b[39;49m\u001b[43mcourse_price_access\u001b[49m\n",
      "Cell \u001b[0;32mIn[18], line 9\u001b[0m, in \u001b[0;36mpwskills.course_price_access\u001b[0;34m(self)\u001b[0m\n\u001b[1;32m      7\u001b[0m \u001b[38;5;129m@property\u001b[39m\n\u001b[1;32m      8\u001b[0m \u001b[38;5;28;01mdef\u001b[39;00m \u001b[38;5;21mcourse_price_access\u001b[39m(\u001b[38;5;28mself\u001b[39m):     \u001b[38;5;66;03m# by this func user saw the course_price & access the course_price\u001b[39;00m\n\u001b[0;32m----> 9\u001b[0m     \u001b[38;5;28;01mreturn\u001b[39;00m \u001b[38;5;28;43mself\u001b[39;49m\u001b[38;5;241;43m.\u001b[39;49m\u001b[43m__course_price\u001b[49m\n",
      "\u001b[0;31mAttributeError\u001b[0m: 'pwskills' object has no attribute '_pwskills__course_price'"
     ]
    }
   ],
   "source": [
    "pw.course_price_access"
   ]
  },
  {
   "cell_type": "code",
   "execution_count": 15,
   "id": "da9d5146-26c9-4781-b70b-c8a98ad0a612",
   "metadata": {},
   "outputs": [
    {
     "data": {
      "text/plain": [
       "3500"
      ]
     },
     "execution_count": 15,
     "metadata": {},
     "output_type": "execute_result"
    }
   ],
   "source": [
    "pw._pwskills__course_price"
   ]
  },
  {
   "cell_type": "code",
   "execution_count": 11,
   "id": "f6f6a95c-4db9-4258-8536-e3b8122f5f68",
   "metadata": {},
   "outputs": [
    {
     "data": {
      "text/plain": [
       "3500"
      ]
     },
     "execution_count": 11,
     "metadata": {},
     "output_type": "execute_result"
    }
   ],
   "source": [
    "pw.course_price_access"
   ]
  },
  {
   "cell_type": "code",
   "execution_count": 16,
   "id": "a38b8a39-7fd4-4ca0-9316-307578b49ee4",
   "metadata": {},
   "outputs": [],
   "source": [
    "pw.course_price_set = 4500"
   ]
  },
  {
   "cell_type": "code",
   "execution_count": 17,
   "id": "4f8a8f06-3977-4247-aa25-81911afc5c64",
   "metadata": {},
   "outputs": [
    {
     "data": {
      "text/plain": [
       "4500"
      ]
     },
     "execution_count": 17,
     "metadata": {},
     "output_type": "execute_result"
    }
   ],
   "source": [
    "pw.course_price_access"
   ]
  },
  {
   "cell_type": "code",
   "execution_count": 10,
   "id": "7e0fbae2-7750-4d56-a536-3096f2b7a2aa",
   "metadata": {},
   "outputs": [
    {
     "data": {
      "text/plain": [
       "'DSM'"
      ]
     },
     "execution_count": 10,
     "metadata": {},
     "output_type": "execute_result"
    }
   ],
   "source": [
    "pw.course_name"
   ]
  },
  {
   "cell_type": "code",
   "execution_count": null,
   "id": "b6f45cb4-d091-4ea5-af30-9877f5bbb3fa",
   "metadata": {},
   "outputs": [],
   "source": []
  }
 ],
 "metadata": {
  "kernelspec": {
   "display_name": "Python 3 (ipykernel)",
   "language": "python",
   "name": "python3"
  },
  "language_info": {
   "codemirror_mode": {
    "name": "ipython",
    "version": 3
   },
   "file_extension": ".py",
   "mimetype": "text/x-python",
   "name": "python",
   "nbconvert_exporter": "python",
   "pygments_lexer": "ipython3",
   "version": "3.10.8"
  }
 },
 "nbformat": 4,
 "nbformat_minor": 5
}
