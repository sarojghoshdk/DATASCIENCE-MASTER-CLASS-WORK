{
 "cells": [
  {
   "cell_type": "markdown",
   "id": "1eec4648-6e8a-4a27-a051-f5bd24f915eb",
   "metadata": {},
   "source": [
    "DECORATOR"
   ]
  },
  {
   "cell_type": "code",
   "execution_count": 1,
   "id": "90c876ed-fd83-493f-a5be-4f0e034e1510",
   "metadata": {},
   "outputs": [],
   "source": [
    "def test():\n",
    "    print(\"this is start of my func\")\n",
    "    print(\"this is of my func to test\")\n",
    "    print(4+5)\n",
    "    print(\"this is end of my func\")"
   ]
  },
  {
   "cell_type": "code",
   "execution_count": 2,
   "id": "c0411691-46a8-4314-9b44-99d62181ab40",
   "metadata": {},
   "outputs": [
    {
     "name": "stdout",
     "output_type": "stream",
     "text": [
      "this is start of my func\n",
      "this is of my func to test\n",
      "9\n",
      "this is end of my func\n"
     ]
    }
   ],
   "source": [
    "test()"
   ]
  },
  {
   "cell_type": "code",
   "execution_count": 8,
   "id": "0a6e664f-0312-4846-9e65-004aef6bc51e",
   "metadata": {},
   "outputs": [],
   "source": [
    "def decorate(func):        # this is called DECORATOR its means decorate the function\n",
    "    def inner_decorate():\n",
    "        print(\"this is start of my func\")\n",
    "        func()\n",
    "        print(\"this is end of my func\")\n",
    "    return inner_decorate"
   ]
  },
  {
   "cell_type": "code",
   "execution_count": 9,
   "id": "3d4d8da1-4f52-4f78-add3-084f949116d2",
   "metadata": {},
   "outputs": [],
   "source": [
    "@decorate\n",
    "def test1():\n",
    "    print(5+6)"
   ]
  },
  {
   "cell_type": "code",
   "execution_count": 10,
   "id": "66562796-d0ba-472f-bdf7-fd219f644252",
   "metadata": {},
   "outputs": [
    {
     "name": "stdout",
     "output_type": "stream",
     "text": [
      "this is start of my func\n",
      "11\n",
      "this is end of my func\n"
     ]
    }
   ],
   "source": [
    "test1()"
   ]
  },
  {
   "cell_type": "code",
   "execution_count": 16,
   "id": "8e8cd8d7-ea81-4107-9494-592efd3e38f0",
   "metadata": {},
   "outputs": [],
   "source": [
    "import time\n",
    "\n",
    "def timer_test(func):     # it is decorate func\n",
    "    def timer_test_inner():      # it is inner_decorate func\n",
    "        start = time.time()\n",
    "        func()\n",
    "        end = time.time()\n",
    "        print(end - start)\n",
    "    return timer_test_inner"
   ]
  },
  {
   "cell_type": "code",
   "execution_count": 17,
   "id": "9bb25f67-516a-463f-b9af-c7f503cb943c",
   "metadata": {},
   "outputs": [],
   "source": [
    "def test2():\n",
    "    print(50 + 50)"
   ]
  },
  {
   "cell_type": "code",
   "execution_count": 18,
   "id": "d5a06296-f19a-4d9a-971a-c078d155c637",
   "metadata": {},
   "outputs": [
    {
     "name": "stdout",
     "output_type": "stream",
     "text": [
      "100\n"
     ]
    }
   ],
   "source": [
    "test2()"
   ]
  },
  {
   "cell_type": "code",
   "execution_count": 19,
   "id": "e239964e-f9c2-498f-b20e-be2b214ff9b8",
   "metadata": {},
   "outputs": [],
   "source": [
    "@timer_test\n",
    "def test2():\n",
    "    print(50 + 50)"
   ]
  },
  {
   "cell_type": "code",
   "execution_count": 20,
   "id": "9f265793-dc72-496c-aad9-c901cfbdcf39",
   "metadata": {},
   "outputs": [
    {
     "name": "stdout",
     "output_type": "stream",
     "text": [
      "100\n",
      "4.935264587402344e-05\n"
     ]
    }
   ],
   "source": [
    "test2()"
   ]
  },
  {
   "cell_type": "code",
   "execution_count": 17,
   "id": "890cd19a-6891-4775-8954-2fb82a9b793b",
   "metadata": {},
   "outputs": [],
   "source": [
    "@timer_test\n",
    "def test3():\n",
    "    for i in range(100002000):\n",
    "        pass"
   ]
  },
  {
   "cell_type": "code",
   "execution_count": 18,
   "id": "747355eb-3da9-46a0-8348-21288daeb57d",
   "metadata": {},
   "outputs": [
    {
     "name": "stdout",
     "output_type": "stream",
     "text": [
      "2.0040082931518555\n"
     ]
    }
   ],
   "source": [
    "test3()"
   ]
  },
  {
   "cell_type": "code",
   "execution_count": null,
   "id": "281fd2b6-eff4-49ef-9b04-db5e61df8346",
   "metadata": {},
   "outputs": [],
   "source": []
  }
 ],
 "metadata": {
  "kernelspec": {
   "display_name": "Python 3 (ipykernel)",
   "language": "python",
   "name": "python3"
  },
  "language_info": {
   "codemirror_mode": {
    "name": "ipython",
    "version": 3
   },
   "file_extension": ".py",
   "mimetype": "text/x-python",
   "name": "python",
   "nbconvert_exporter": "python",
   "pygments_lexer": "ipython3",
   "version": "3.10.8"
  }
 },
 "nbformat": 4,
 "nbformat_minor": 5
}
