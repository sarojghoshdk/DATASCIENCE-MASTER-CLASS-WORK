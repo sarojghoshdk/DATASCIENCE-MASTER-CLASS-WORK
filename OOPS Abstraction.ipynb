{
 "cells": [
  {
   "cell_type": "markdown",
   "id": "4d5e0f24-e503-48af-aa4b-2095004157f6",
   "metadata": {},
   "source": [
    "ABSTRACT"
   ]
  },
  {
   "cell_type": "code",
   "execution_count": 18,
   "id": "a3653103-b155-45b4-b6c0-91febf39e8e6",
   "metadata": {},
   "outputs": [],
   "source": [
    "import abc\n",
    "class pwskills:\n",
    "    \n",
    "    @abc.abstractmethod\n",
    "    def student_details(self):\n",
    "        pass\n",
    "    \n",
    "    @abc.abstractmethod\n",
    "    def student_assignment(self):\n",
    "        pass\n",
    "    \n",
    "    @abc.abstractmethod\n",
    "    def student_marks(self):\n",
    "        pass"
   ]
  },
  {
   "cell_type": "code",
   "execution_count": 21,
   "id": "6bb13d1c-dc9b-4782-8006-da759fc84e47",
   "metadata": {},
   "outputs": [],
   "source": [
    "class student_details(pwskills):\n",
    "    \n",
    "    def student_details(self):\n",
    "        return \"this is a method for taking student details\"\n",
    "    \n",
    "    def student_assignment(self):\n",
    "        return \"this is a meth for assignment details\""
   ]
  },
  {
   "cell_type": "code",
   "execution_count": 22,
   "id": "d5fa3c9a-3b51-46dc-a06d-465e03649502",
   "metadata": {},
   "outputs": [],
   "source": [
    "class data_science_master(pwskills):\n",
    "    \n",
    "    def student_details(self):\n",
    "        return \"this is a method for taking student details for data science master\"\n",
    "    \n",
    "    def student_assignment(self):\n",
    "        return \"this is a meth for assignment details for data science master\"\n",
    "    "
   ]
  },
  {
   "cell_type": "code",
   "execution_count": 23,
   "id": "28e56cc3-0fff-4d25-8762-46e48d0f16eb",
   "metadata": {},
   "outputs": [
    {
     "data": {
      "text/plain": [
       "'this is a method for taking student details for data science master'"
      ]
     },
     "execution_count": 23,
     "metadata": {},
     "output_type": "execute_result"
    }
   ],
   "source": [
    "dsm = data_science_master()\n",
    "dsm.student_details()"
   ]
  },
  {
   "cell_type": "code",
   "execution_count": 24,
   "id": "afd257d7-ef8f-421b-a51e-7e3e553f4487",
   "metadata": {},
   "outputs": [
    {
     "data": {
      "text/plain": [
       "'this is a method for taking student details'"
      ]
     },
     "execution_count": 24,
     "metadata": {},
     "output_type": "execute_result"
    }
   ],
   "source": [
    "sd = student_details()\n",
    "sd.student_details()"
   ]
  },
  {
   "cell_type": "code",
   "execution_count": null,
   "id": "a550cea2-21a1-4817-b107-182191bc54af",
   "metadata": {},
   "outputs": [],
   "source": []
  }
 ],
 "metadata": {
  "kernelspec": {
   "display_name": "Python 3 (ipykernel)",
   "language": "python",
   "name": "python3"
  },
  "language_info": {
   "codemirror_mode": {
    "name": "ipython",
    "version": 3
   },
   "file_extension": ".py",
   "mimetype": "text/x-python",
   "name": "python",
   "nbconvert_exporter": "python",
   "pygments_lexer": "ipython3",
   "version": "3.10.8"
  }
 },
 "nbformat": 4,
 "nbformat_minor": 5
}
